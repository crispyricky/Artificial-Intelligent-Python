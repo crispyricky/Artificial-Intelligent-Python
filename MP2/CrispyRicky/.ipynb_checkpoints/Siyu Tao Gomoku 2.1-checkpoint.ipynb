{
 "cells": [
  {
   "cell_type": "code",
   "execution_count": 114,
   "metadata": {},
   "outputs": [
    {
     "name": "stdout",
     "output_type": "stream",
     "text": [
      "[[ 0.  1.  0.  0.  2.  0.  0.]\n",
      " [ 0.  0.  0.  2.  0.  0.  0.]\n",
      " [ 1.  0.  2.  0.  0.  0.  0.]\n",
      " [ 1.  2.  0.  0.  0.  0.  0.]\n",
      " [ 0.  0.  0.  0.  0.  0.  0.]\n",
      " [ 0.  0.  0.  0.  0.  0.  0.]\n",
      " [ 0.  0.  0.  0.  0.  0.  0.]]\n"
     ]
    }
   ],
   "source": [
    "import numpy as np\n",
    "a = np.zeros((7,7))\n",
    "#a[3:7,6] = 1\n",
    "a[2,0] = 1\n",
    "a[0,1] = 1\n",
    "a[3,0] = 1\n",
    "# a[6,3] = 1\n",
    "a[0,4] = 2\n",
    "a[1,3] = 2\n",
    "a[2,2] = 2\n",
    "a[3,1] = 2\n",
    "# a[1:5,1] = 2\n",
    "print(a)"
   ]
  },
  {
   "cell_type": "code",
   "execution_count": 12,
   "metadata": {},
   "outputs": [
    {
     "data": {
      "text/plain": [
       "4"
      ]
     },
     "execution_count": 12,
     "metadata": {},
     "output_type": "execute_result"
    }
   ],
   "source": [
    "np.count_nonzero(a == 1)"
   ]
  },
  {
   "cell_type": "code",
   "execution_count": 115,
   "metadata": {},
   "outputs": [
    {
     "name": "stdout",
     "output_type": "stream",
     "text": [
      "None\n"
     ]
    }
   ],
   "source": [
    "# functions\n",
    "# gomoku() input the matrix, output the matrix after one move\n",
    "# rule1() \n",
    "# rule2()\n",
    "# rule3()\n",
    "# rule4()\n",
    "\n",
    "def rule1(arr,n): #input (matrix, whose turn)\n",
    "    # check for horizontal 4 consecutive stones\n",
    "    for i in range(7):\n",
    "        for j in range(4):\n",
    "            if (arr[i][j] == n and arr[i][j+1] == n and arr[i][j+2] == n and arr[i][j+3] == n):\n",
    "                if (j >= 1 and arr[i][j-1] == 0):\n",
    "                    return (i, j-1)\n",
    "                if (j <= 2 and arr[i][j+4] == 0):\n",
    "                    return (i, j+4)\n",
    "    # check for vertical 4 consecutive stones\n",
    "    for i in range(4):\n",
    "        for j in range(7):\n",
    "            if (arr[i][j] == n and arr[i+1][j] == n and arr[i+2][j] == n and arr[i+3][j] == n):\n",
    "                if (i <= 2 and arr[i+4][j] == 0):\n",
    "                    return (i+4, j)\n",
    "                if (i >= 1 and arr[i-1][j] == 0):\n",
    "                    return (i-1, j)\n",
    "    # check for y = -x diagonal 4 consecutive stones\n",
    "    for (i,j) in [(2,0), (3,1), (1,0), (2,1), (3,2), (0,0), (1,1), (2,2), (3,3), (0,1), (1,2), (2,3), (0,2), (1,3)]:\n",
    "        if (arr[i][j] == n and arr[i+1][j+1] == n and arr[i+2][j+2] == n and arr[i+3][j+3] == n):\n",
    "                if (i >= 1 and j >= 1 and arr[i-1][j-1] == 0):\n",
    "                    return (i-1, j-1)\n",
    "                if (i <= 2 and j <= 2 and arr[i+4][j+4] == 0):\n",
    "                    return (i+4, j+4)\n",
    "    # check for y = x diagonal 4 consecutive stones\n",
    "    for (i,j) in [(2,6), (3,5), (1,6), (2,5), (3,4), (0,6), (1,5), (2,4), (3,3), (0,5), (1,4), (2,3), (0,4), (1,3)]:\n",
    "        if (arr[i][j] == n and arr[i+1][j-1] == n and arr[i+2][j-2] == n and arr[i+3][j-3] == n):\n",
    "                if (i >= 1 and j <= 5 and arr[i-1][j+1] == 0):\n",
    "                    return (i-1, j+1)\n",
    "                if (i <= 2 and j >= 4 and arr[i+4][j-4] == 0):\n",
    "                    return (i+4, j-4)\n",
    "    return None\n",
    "\n",
    "print (rule1(a,1))"
   ]
  },
  {
   "cell_type": "code",
   "execution_count": 116,
   "metadata": {},
   "outputs": [
    {
     "name": "stdout",
     "output_type": "stream",
     "text": [
      "(4, 0)\n"
     ]
    }
   ],
   "source": [
    "def rule2(arr,n):\n",
    "    o = 3 - n # opponent's notation since 1+2=3\n",
    "    # check for horizontal unbroken chain formed by 4 stones + empty intersection on either head of the chain\n",
    "#     for i in range(7):\n",
    "#         for j in range(2):\n",
    "#             if (arr[i][j+1] == o and arr[i][j+2] == o and arr[i][j+3] == o and arr[i][j+4] == o):\n",
    "#                 if (arr[i][j] == 0 and arr[i][j+5] == n):\n",
    "#                     return (i, j)\n",
    "#                 if (arr[i][j] == n and arr[i][j+5] == 0):\n",
    "#                     return (i, j+5)\n",
    "#     for i in range(7):\n",
    "#         if (arr[i][0] == o and arr[i][1] == o and arr[i][2] == o and arr[i][3] == o and arr[i][4] == 0):\n",
    "#             return (i,4)\n",
    "#         if (arr[i][6] == o and arr[i][5] == o and arr[i][4] == o and arr[i][3] == o and arr[i][2] == 0):\n",
    "#             return (i,2)\n",
    "    for i in range(7):\n",
    "        for j in range(4):\n",
    "            if (arr[i][j] == o and arr[i][j+1] == o and arr[i][j+2] == o and arr[i][j+3] == o):\n",
    "                if (j >= 1 and arr[i][j-1] == 0):\n",
    "                    return (i, j-1)\n",
    "                if (j <= 2 and arr[i][j+4] == 0):\n",
    "                    return (i, j+4)\n",
    "    # check for vertical unbroken chain formed by 4 stones + empty intersection on either head of the chain\n",
    "#     for i in range(2):\n",
    "#         for j in range(7):\n",
    "#             if (arr[i+1][j] == o and arr[i+2][j] == o and arr[i+3][j] == o and arr[i+4][j] == o):\n",
    "#                 if (arr[i][j] == 0 and arr[i+5][j] == n):\n",
    "#                     return (i, j)\n",
    "#                 if (arr[i][j] == n and arr[i+5][j] == 0):\n",
    "#                     return (i+5, j)\n",
    "#     for j in range(7):\n",
    "#         if (arr[0][j] == o and arr[1][j] == o and arr[2][j] == o and arr[3][j] == o and arr[4][j] == 0):\n",
    "#             return (4,j)\n",
    "#         if (arr[6][j] == o and arr[5][j] == o and arr[4][j] == o and arr[3][j] == o and arr[2][j] == 0):\n",
    "#             return (2,j)\n",
    "    for i in range(4):\n",
    "        for j in range(7):\n",
    "            if (arr[i][j] == o and arr[i+1][j] == o and arr[i+2][j] == o and arr[i+3][j] == o):\n",
    "                if (i <= 2 and arr[i+4][j] == 0):\n",
    "                    return (i+4, j)\n",
    "                if (i >= 1 and arr[i-1][j] == 0):\n",
    "                    return (i-1, j)\n",
    "    # check for diagonal y = -x unbroken chain formed by 4 stones + empty intersection on either head of the chain\n",
    "    for (i,j) in [(2,0), (3,1), (1,0), (2,1), (3,2), (0,0), (1,1), (2,2), (3,3), (0,1), (1,2), (2,3), (0,2), (1,3)]:\n",
    "        if (arr[i][j] == o and arr[i+1][j+1] == o and arr[i+2][j+2] == o and arr[i+3][j+3] == o):\n",
    "                if (i >= 1 and j >= 1 and arr[i-1][j-1] == 0):\n",
    "                    return (i-1, j-1)\n",
    "                if (i <= 2 and j <= 2 and arr[i+4][j+4] == 0):\n",
    "                    return (i+4, j+4)\n",
    "    # check for diagonal y = x unbroken chain formed by 4 stones + empty intersection on either head of the chain\n",
    "    for (i,j) in [(2,6), (3,5), (1,6), (2,5), (3,4), (0,6), (1,5), (2,4), (3,3), (0,5), (1,4), (2,3), (0,4), (1,3)]:\n",
    "        if (arr[i][j] == o and arr[i+1][j-1] == o and arr[i+2][j-2] == o and arr[i+3][j-3] == o):\n",
    "                if (i >= 1 and j <= 5 and arr[i-1][j+1] == 0):\n",
    "                    return (i-1, j+1)\n",
    "                if (i <= 2 and j >= 4 and arr[i+4][j-4] == 0):\n",
    "                    return (i+4, j-4)\n",
    "    return None\n",
    "\n",
    "print (rule2(a,1))"
   ]
  },
  {
   "cell_type": "code",
   "execution_count": null,
   "metadata": {
    "collapsed": true
   },
   "outputs": [],
   "source": [
    "def rule3(arr,n):\n",
    "    "
   ]
  }
 ],
 "metadata": {
  "kernelspec": {
   "display_name": "Python 3",
   "language": "python",
   "name": "python3"
  },
  "language_info": {
   "codemirror_mode": {
    "name": "ipython",
    "version": 3
   },
   "file_extension": ".py",
   "mimetype": "text/x-python",
   "name": "python",
   "nbconvert_exporter": "python",
   "pygments_lexer": "ipython3",
   "version": "3.6.3"
  }
 },
 "nbformat": 4,
 "nbformat_minor": 2
}
