{
 "cells": [
  {
   "cell_type": "code",
   "execution_count": 14,
   "metadata": {},
   "outputs": [
    {
     "name": "stdout",
     "output_type": "stream",
     "text": [
      "[[ 0.  0.  0.  0.  0.  0.  0.]\n",
      " [ 0.  0.  0.  0.  0.  2.  0.]\n",
      " [ 0.  0.  0.  0.  0.  0.  0.]\n",
      " [ 0.  0.  0.  0.  0.  0.  0.]\n",
      " [ 0.  0.  0.  0.  0.  0.  0.]\n",
      " [ 0.  1.  0.  0.  0.  0.  0.]\n",
      " [ 0.  0.  0.  0.  0.  0.  0.]]\n"
     ]
    }
   ],
   "source": [
    "import numpy as np\n",
    "a = np.zeros((7,7)) # showing board at each step\n",
    "# a[1,1] = 2\n",
    "# a[3,2] = 2\n",
    "a[1,5] = 2\n",
    "a[5,1] = 1\n",
    "\n",
    "print (a)\n",
    "abc = np.chararray((7,7), unicode = True) # showing required board labeled \"A-Z\", \"a-z\" and \".\""
   ]
  },
  {
   "cell_type": "code",
   "execution_count": 4,
   "metadata": {},
   "outputs": [
    {
     "name": "stdout",
     "output_type": "stream",
     "text": [
      "None\n"
     ]
    }
   ],
   "source": [
    "def rule1(arr,n): #input (matrix, whose turn)\n",
    "    # check for horizontal 4 consecutive stones\n",
    "    for i in range(7):\n",
    "        for j in range(4):\n",
    "            if (arr[i][j] == n and arr[i][j+1] == n and arr[i][j+2] == n and arr[i][j+3] == n):\n",
    "                if (j >= 1 and arr[i][j-1] == 0):\n",
    "                    return (i, j-1)\n",
    "                if (j <= 2 and arr[i][j+4] == 0):\n",
    "                    return (i, j+4)\n",
    "    # check for vertical 4 consecutive stones\n",
    "    for i in range(4):\n",
    "        for j in range(7):\n",
    "            if (arr[i][j] == n and arr[i+1][j] == n and arr[i+2][j] == n and arr[i+3][j] == n):\n",
    "                if (i <= 2 and arr[i+4][j] == 0):\n",
    "                    return (i+4, j)\n",
    "                if (i >= 1 and arr[i-1][j] == 0):\n",
    "                    return (i-1, j)\n",
    "    # check for y = -x diagonal 4 consecutive stones\n",
    "    for (i,j) in [(2,0), (3,1), (1,0), (2,1), (3,2), (0,0), (1,1), (2,2), (3,3), (0,1), (1,2), (2,3), (0,2), (1,3)]:\n",
    "        if (arr[i][j] == n and arr[i+1][j+1] == n and arr[i+2][j+2] == n and arr[i+3][j+3] == n):\n",
    "                if (i >= 1 and j >= 1 and arr[i-1][j-1] == 0):\n",
    "                    return (i-1, j-1)\n",
    "                if (i <= 2 and j <= 2 and arr[i+4][j+4] == 0):\n",
    "                    return (i+4, j+4)\n",
    "    # check for y = x diagonal 4 consecutive stones\n",
    "    for (i,j) in [(2,6), (3,5), (1,6), (2,5), (3,4), (0,6), (1,5), (2,4), (3,3), (0,5), (1,4), (2,3), (0,4), (1,3)]:\n",
    "        if (arr[i][j] == n and arr[i+1][j-1] == n and arr[i+2][j-2] == n and arr[i+3][j-3] == n):\n",
    "                if (i >= 1 and j <= 5 and arr[i-1][j+1] == 0):\n",
    "                    return (i-1, j+1)\n",
    "                if (i <= 2 and j >= 4 and arr[i+4][j-4] == 0):\n",
    "                    return (i+4, j-4)\n",
    "    return None\n",
    "\n",
    "print (rule1(a,1))"
   ]
  },
  {
   "cell_type": "code",
   "execution_count": 5,
   "metadata": {},
   "outputs": [
    {
     "name": "stdout",
     "output_type": "stream",
     "text": [
      "None\n"
     ]
    }
   ],
   "source": [
    "def rule2(arr,n):\n",
    "    o = 3 - n # opponent's notation since 1+2=3\n",
    "    # check for horizontal unbroken chain formed by 4 stones + empty intersection on either head of the chain\n",
    "    for i in range(7):\n",
    "        for j in range(4):\n",
    "            if (arr[i][j] == o and arr[i][j+1] == o and arr[i][j+2] == o and arr[i][j+3] == o):\n",
    "                if (j >= 1 and arr[i][j-1] == 0):\n",
    "                    return (i, j-1)\n",
    "                if (j <= 2 and arr[i][j+4] == 0):\n",
    "                    return (i, j+4)\n",
    "    # check for vertical unbroken chain formed by 4 stones + empty intersection on either head of the chain\n",
    "    for i in range(4):\n",
    "        for j in range(7):\n",
    "            if (arr[i][j] == o and arr[i+1][j] == o and arr[i+2][j] == o and arr[i+3][j] == o):\n",
    "                if (i <= 2 and arr[i+4][j] == 0):\n",
    "                    return (i+4, j)\n",
    "                if (i >= 1 and arr[i-1][j] == 0):\n",
    "                    return (i-1, j)\n",
    "    # check for diagonal y = -x unbroken chain formed by 4 stones + empty intersection on either head of the chain\n",
    "    for (i,j) in [(2,0), (3,1), (1,0), (2,1), (3,2), (0,0), (1,1), (2,2), (3,3), (0,1), (1,2), (2,3), (0,2), (1,3)]:\n",
    "        if (arr[i][j] == o and arr[i+1][j+1] == o and arr[i+2][j+2] == o and arr[i+3][j+3] == o):\n",
    "                if (i >= 1 and j >= 1 and arr[i-1][j-1] == 0):\n",
    "                    return (i-1, j-1)\n",
    "                if (i <= 2 and j <= 2 and arr[i+4][j+4] == 0):\n",
    "                    return (i+4, j+4)\n",
    "    # check for diagonal y = x unbroken chain formed by 4 stones + empty intersection on either head of the chain\n",
    "    for (i,j) in [(2,6), (3,5), (1,6), (2,5), (3,4), (0,6), (1,5), (2,4), (3,3), (0,5), (1,4), (2,3), (0,4), (1,3)]:\n",
    "        if (arr[i][j] == o and arr[i+1][j-1] == o and arr[i+2][j-2] == o and arr[i+3][j-3] == o):\n",
    "                if (i >= 1 and j <= 5 and arr[i-1][j+1] == 0):\n",
    "                    return (i-1, j+1)\n",
    "                if (i <= 2 and j >= 4 and arr[i+4][j-4] == 0):\n",
    "                    return (i+4, j-4)\n",
    "    return None\n",
    "\n",
    "print (rule2(a,1))"
   ]
  },
  {
   "cell_type": "code",
   "execution_count": 6,
   "metadata": {},
   "outputs": [
    {
     "name": "stdout",
     "output_type": "stream",
     "text": [
      "None\n"
     ]
    }
   ],
   "source": [
    "def rule3(arr,n):\n",
    "    o = 3 - n\n",
    "    # horizontal\n",
    "    for i in range(7):\n",
    "        for j in range(3):\n",
    "            if (arr[i][j+1] == o and arr[i][j+2] == o and arr[i][j+3] == o and arr[i][j] == 0 and arr[i][j+4] == 0):\n",
    "                return (i,j)\n",
    "    # vertical\n",
    "    for i in range(3):\n",
    "        for j in range(7):\n",
    "            if (arr[i+1][j] == o and arr[i+2][j] == o and arr[i+3][j] == o and arr[i][j] == 0 and arr[i+4][j] == 0):\n",
    "                return (i+4, j)\n",
    "    # y = -x\n",
    "    for i in range(3):\n",
    "        for j in range(3):\n",
    "            if (arr[i][j] == 0 and arr[i+1][j+1] == o and arr[i+2][j+2] == o and arr[i+3][j+3] == o and arr[i+4][j+4] == 0):\n",
    "                return (i, j)\n",
    "    # y = x\n",
    "    for i in range(0, 3):\n",
    "        for j in range(4, 7):\n",
    "            if (arr[i][j] == 0 and arr[i+1][j-1] == o and arr[i+2][j-2] == o and arr[i+3][j-3] == o and arr[i+4][j-4] == 0):\n",
    "                return (i+4, j-4)\n",
    "    return None\n",
    "\n",
    "print (rule3(a,1))"
   ]
  },
  {
   "cell_type": "code",
   "execution_count": 7,
   "metadata": {},
   "outputs": [
    {
     "name": "stdout",
     "output_type": "stream",
     "text": [
      "(1, 1)\n"
     ]
    }
   ],
   "source": [
    "def rule4(arr,n):\n",
    "    o = 3 - n\n",
    "    temp = []\n",
    "    # horizontal\n",
    "    for i in range(7):\n",
    "        for j in range(3):\n",
    "            if (np.count_nonzero(arr[i, j:j+5] == o) == 0):\n",
    "                temp.append((i, (np.nonzero(a[i, j:j+5] == 0)[0][0] + j), np.count_nonzero(arr[i, j:j+5] == n)))\n",
    "    # vertical\n",
    "    for i in range(3):\n",
    "        for j in range(7):\n",
    "            if (np.count_nonzero(arr[i:i+5, j] == o) == 0):\n",
    "                temp.append(((np.nonzero(a[i:i+5, j] == 0)[0][::-1][0] + i, j, np.count_nonzero(arr[i:i+5, j] == n))))\n",
    "    # y = -x\n",
    "    for i in range(3):\n",
    "        for j in range(3):\n",
    "            if (np.count_nonzero(arr[i:i+5, j:j+5].diagonal() == o) == 0):\n",
    "                c = np.nonzero(a[i:i+5, j:j+5].diagonal() == 0)[0][0]\n",
    "                temp.append(((i + c, j + c, np.count_nonzero(arr[i:i+5, j:j+5].diagonal() == n))))\n",
    "    # y = x\n",
    "    for i in range(0, 3):\n",
    "        for j in range(4, 7):\n",
    "            if (np.count_nonzero(np.flipud(arr[i:i+5, j-4:j+1]).diagonal()[::-1] == o) == 0):\n",
    "                c = np.nonzero(np.flipud(arr[i:i+5, j-4:j+1]).diagonal()[::-1] == 0)[0][::-1][0]\n",
    "                temp.append(((i + c, j - c, np.count_nonzero(np.flipud(arr[i:i+5, j-4:j+1]).diagonal()[::-1] == n))))\n",
    "    \n",
    "    temp = list(set(temp))\n",
    "    temp_sorted = sorted(temp, key = lambda x : (-x[2], x[1], -x[0]))\n",
    "    return (temp_sorted[0][0:2])\n",
    "\n",
    "print (rule4(a, 2))"
   ]
  },
  {
   "cell_type": "code",
   "execution_count": 8,
   "metadata": {},
   "outputs": [
    {
     "name": "stdout",
     "output_type": "stream",
     "text": [
      "False\n"
     ]
    }
   ],
   "source": [
    "# check if the game has terminated (either five stones in a row or no available spaces)\n",
    "def terminate(arr):\n",
    "    if (np.count_nonzero(arr == 0) == 0):\n",
    "        return True;\n",
    "    # horizontal\n",
    "    for i in range(7):\n",
    "        for j in range(3):\n",
    "            if (arr[i][j+1] == 1 and arr[i][j+2] == 1 and arr[i][j+3] == 1 and arr[i][j] == 1 and arr[i][j+4] == 1):\n",
    "                return True\n",
    "            if (arr[i][j+1] == 2 and arr[i][j+2] == 2 and arr[i][j+3] == 2 and arr[i][j] == 2 and arr[i][j+4] == 2):\n",
    "                return True\n",
    "    # vertical\n",
    "    for i in range(3):\n",
    "        for j in range(7):\n",
    "            if (arr[i+1][j] == 1 and arr[i+2][j] == 1 and arr[i+3][j] == 1 and arr[i][j] == 1 and arr[i+4][j] == 1):\n",
    "                return True\n",
    "            if (arr[i+1][j] == 2 and arr[i+2][j] == 2 and arr[i+3][j] == 2 and arr[i][j] == 2 and arr[i+4][j] == 2):\n",
    "                return True\n",
    "    # y = -x\n",
    "    for i in range(3):\n",
    "        for j in range(3):\n",
    "            if (arr[i][j] == 1 and arr[i+1][j+1] == 1 and arr[i+2][j+2] == 1 and arr[i+3][j+3] == 1 and arr[i+4][j+4] == 1):\n",
    "                return True\n",
    "            if (arr[i][j] == 2 and arr[i+1][j+1] == 2 and arr[i+2][j+2] == 2 and arr[i+3][j+3] == 2 and arr[i+4][j+4] == 2):\n",
    "                return True\n",
    "    # y = x\n",
    "    for i in range(0, 3):\n",
    "        for j in range(4, 7):\n",
    "            if (arr[i][j] == 1 and arr[i+1][j-1] == 1 and arr[i+2][j-2] == 1 and arr[i+3][j-3] == 1 and arr[i+4][j-4] == 1):\n",
    "                return True\n",
    "            if (arr[i][j] == 2 and arr[i+1][j-1] == 2 and arr[i+2][j-2] == 2 and arr[i+3][j-3] == 2 and arr[i+4][j-4] == 2):\n",
    "                return True\n",
    "    return False\n",
    "\n",
    "print (terminate(a))"
   ]
  },
  {
   "cell_type": "code",
   "execution_count": 15,
   "metadata": {},
   "outputs": [
    {
     "name": "stdout",
     "output_type": "stream",
     "text": [
      "[[ 0.  0.  0.  0.  0.  0.  0.]\n",
      " [ 0.  0.  0.  0.  0.  2.  0.]\n",
      " [ 0.  0.  0.  0.  0.  0.  0.]\n",
      " [ 0.  0.  0.  0.  0.  0.  0.]\n",
      " [ 0.  0.  0.  0.  0.  0.  0.]\n",
      " [ 0.  1.  0.  0.  0.  0.  0.]\n",
      " [ 0.  0.  0.  0.  0.  0.  0.]]\n",
      "[[ 0.  0.  0.  0.  0.  0.  0.]\n",
      " [ 0.  0.  0.  0.  0.  2.  0.]\n",
      " [ 0.  0.  0.  0.  0.  0.  0.]\n",
      " [ 0.  0.  0.  0.  0.  0.  0.]\n",
      " [ 0.  0.  0.  0.  0.  0.  0.]\n",
      " [ 0.  1.  0.  0.  0.  0.  0.]\n",
      " [ 1.  0.  0.  0.  0.  0.  0.]]\n",
      "[[ 0.  0.  0.  0.  0.  0.  0.]\n",
      " [ 0.  2.  0.  0.  0.  2.  0.]\n",
      " [ 0.  0.  0.  0.  0.  0.  0.]\n",
      " [ 0.  0.  0.  0.  0.  0.  0.]\n",
      " [ 0.  0.  0.  0.  0.  0.  0.]\n",
      " [ 0.  1.  0.  0.  0.  0.  0.]\n",
      " [ 1.  0.  0.  0.  0.  0.  0.]]\n",
      "[[ 0.  0.  0.  0.  0.  0.  0.]\n",
      " [ 0.  2.  0.  0.  0.  2.  0.]\n",
      " [ 0.  0.  0.  0.  0.  0.  0.]\n",
      " [ 0.  0.  0.  0.  0.  0.  0.]\n",
      " [ 0.  0.  1.  0.  0.  0.  0.]\n",
      " [ 0.  1.  0.  0.  0.  0.  0.]\n",
      " [ 1.  0.  0.  0.  0.  0.  0.]]\n",
      "[[ 0.  0.  0.  0.  0.  0.  0.]\n",
      " [ 0.  2.  2.  0.  0.  2.  0.]\n",
      " [ 0.  0.  0.  0.  0.  0.  0.]\n",
      " [ 0.  0.  0.  0.  0.  0.  0.]\n",
      " [ 0.  0.  1.  0.  0.  0.  0.]\n",
      " [ 0.  1.  0.  0.  0.  0.  0.]\n",
      " [ 1.  0.  0.  0.  0.  0.  0.]]\n",
      "[[ 0.  0.  0.  0.  0.  0.  0.]\n",
      " [ 0.  2.  2.  0.  0.  2.  0.]\n",
      " [ 0.  0.  0.  0.  0.  0.  0.]\n",
      " [ 0.  0.  0.  1.  0.  0.  0.]\n",
      " [ 0.  0.  1.  0.  0.  0.  0.]\n",
      " [ 0.  1.  0.  0.  0.  0.  0.]\n",
      " [ 1.  0.  0.  0.  0.  0.  0.]]\n",
      "[[ 0.  0.  0.  0.  0.  0.  0.]\n",
      " [ 0.  2.  2.  0.  0.  2.  0.]\n",
      " [ 0.  0.  0.  0.  2.  0.  0.]\n",
      " [ 0.  0.  0.  1.  0.  0.  0.]\n",
      " [ 0.  0.  1.  0.  0.  0.  0.]\n",
      " [ 0.  1.  0.  0.  0.  0.  0.]\n",
      " [ 1.  0.  0.  0.  0.  0.  0.]]\n",
      "[[ 0.  0.  0.  0.  0.  0.  0.]\n",
      " [ 0.  2.  2.  0.  0.  2.  0.]\n",
      " [ 0.  0.  0.  0.  2.  0.  0.]\n",
      " [ 0.  0.  0.  1.  0.  0.  0.]\n",
      " [ 0.  0.  1.  0.  0.  0.  0.]\n",
      " [ 1.  1.  0.  0.  0.  0.  0.]\n",
      " [ 1.  0.  0.  0.  0.  0.  0.]]\n",
      "[[ 0.  0.  0.  0.  0.  0.  0.]\n",
      " [ 0.  2.  2.  2.  0.  2.  0.]\n",
      " [ 0.  0.  0.  0.  2.  0.  0.]\n",
      " [ 0.  0.  0.  1.  0.  0.  0.]\n",
      " [ 0.  0.  1.  0.  0.  0.  0.]\n",
      " [ 1.  1.  0.  0.  0.  0.  0.]\n",
      " [ 1.  0.  0.  0.  0.  0.  0.]]\n",
      "[[ 0.  0.  0.  0.  0.  0.  0.]\n",
      " [ 1.  2.  2.  2.  0.  2.  0.]\n",
      " [ 0.  0.  0.  0.  2.  0.  0.]\n",
      " [ 0.  0.  0.  1.  0.  0.  0.]\n",
      " [ 0.  0.  1.  0.  0.  0.  0.]\n",
      " [ 1.  1.  0.  0.  0.  0.  0.]\n",
      " [ 1.  0.  0.  0.  0.  0.  0.]]\n",
      "[[ 0.  0.  0.  0.  0.  0.  0.]\n",
      " [ 1.  2.  2.  2.  2.  2.  0.]\n",
      " [ 0.  0.  0.  0.  2.  0.  0.]\n",
      " [ 0.  0.  0.  1.  0.  0.  0.]\n",
      " [ 0.  0.  1.  0.  0.  0.  0.]\n",
      " [ 1.  1.  0.  0.  0.  0.  0.]\n",
      " [ 1.  0.  0.  0.  0.  0.  0.]]\n"
     ]
    }
   ],
   "source": [
    "n = 2 # so that 1 starts first when entering the while loop\n",
    "first = 98 # chr(97) = \"a\"\n",
    "second = 66 # chr(65) = \"A\"\n",
    "\n",
    "while (not terminate(a)):\n",
    "    print (a)\n",
    "    n = 3 - n;\n",
    "    if rule1(a, n):\n",
    "        b = rule1(a, n)\n",
    "        a[b[0], b[1]] = n\n",
    "        if (n == 1):\n",
    "            abc[b[0], b[1]] = chr(first)\n",
    "            first += 1\n",
    "        if (n == 2):\n",
    "            abc[b[0], b[1]] = chr(second)\n",
    "            second += 1\n",
    "        continue\n",
    "    if rule2(a, n):\n",
    "        b = rule2(a, n)\n",
    "        a[b[0], b[1]] = n\n",
    "        if (n == 1):\n",
    "            abc[b[0], b[1]] = chr(first)\n",
    "            first += 1\n",
    "        if (n == 2):\n",
    "            abc[b[0], b[1]] = chr(second)\n",
    "            second += 1\n",
    "        continue\n",
    "    if rule3(a, n):\n",
    "        b = rule3(a, n)\n",
    "        a[b[0], b[1]] = n\n",
    "        if (n == 1):\n",
    "            abc[b[0], b[1]] = chr(first)\n",
    "            first += 1\n",
    "        if (n == 2):\n",
    "            abc[b[0], b[1]] = chr(second)\n",
    "            second += 1\n",
    "        continue\n",
    "    if rule4(a, n):\n",
    "        b = rule4(a, n)\n",
    "        a[b[0], b[1]] = n\n",
    "        if (n == 1):\n",
    "            abc[b[0], b[1]] = chr(first)\n",
    "            first += 1\n",
    "        if (n == 2):\n",
    "            abc[b[0], b[1]] = chr(second)\n",
    "            second += 1\n",
    "        continue\n",
    "\n",
    "print (a)"
   ]
  },
  {
   "cell_type": "code",
   "execution_count": 17,
   "metadata": {},
   "outputs": [
    {
     "name": "stdout",
     "output_type": "stream",
     "text": [
      "[['.' '.' '.' '.' '.' '.' '.']\n",
      " ['f' 'B' 'C' 'E' 'F' 'A' '.']\n",
      " ['.' '.' '.' '.' 'D' '.' '.']\n",
      " ['.' '.' '.' 'd' '.' '.' '.']\n",
      " ['.' '.' 'c' '.' '.' '.' '.']\n",
      " ['e' 'a' '.' '.' '.' '.' '.']\n",
      " ['b' '.' '.' '.' '.' '.' '.']]\n"
     ]
    }
   ],
   "source": [
    "abc[5][1] = \"a\"\n",
    "abc[1][5] = \"A\"\n",
    "\n",
    "for i in range(7):\n",
    "    for j in range(7):\n",
    "        if abc[i][j] == '':\n",
    "            abc[i][j] = '.'\n",
    "\n",
    "print(abc)"
   ]
  },
  {
   "cell_type": "code",
   "execution_count": null,
   "metadata": {
    "collapsed": true
   },
   "outputs": [],
   "source": []
  }
 ],
 "metadata": {
  "kernelspec": {
   "display_name": "Python 3",
   "language": "python",
   "name": "python3"
  },
  "language_info": {
   "codemirror_mode": {
    "name": "ipython",
    "version": 3
   },
   "file_extension": ".py",
   "mimetype": "text/x-python",
   "name": "python",
   "nbconvert_exporter": "python",
   "pygments_lexer": "ipython3",
   "version": "3.6.3"
  }
 },
 "nbformat": 4,
 "nbformat_minor": 2
}
