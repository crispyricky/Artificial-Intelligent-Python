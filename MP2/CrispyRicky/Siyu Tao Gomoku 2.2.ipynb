{
 "cells": [
  {
   "cell_type": "code",
   "execution_count": 31,
   "metadata": {},
   "outputs": [
    {
     "name": "stdout",
     "output_type": "stream",
     "text": [
      "[[ 0.  0.  0.  0.  0.  0.  0.]\n",
      " [ 0.  0.  0.  0.  0.  2.  0.]\n",
      " [ 0.  0.  0.  0.  0.  0.  0.]\n",
      " [ 0.  0.  0.  0.  0.  0.  0.]\n",
      " [ 0.  0.  0.  0.  0.  0.  0.]\n",
      " [ 2.  1.  1.  1.  1.  0.  0.]\n",
      " [ 0.  0.  0.  0.  0.  0.  0.]]\n"
     ]
    }
   ],
   "source": [
    "import numpy as np\n",
    "a = np.zeros((7,7)) # showing board at each step\n",
    "a[5,1:5] = 1\n",
    "a[1,5] = 2\n",
    "a[5,0] = 2\n",
    "print (a)\n",
    "abc = np.chararray((7,7), unicode = True) # showing required board labeled \"A-Z\", \"a-z\" and \".\""
   ]
  },
  {
   "cell_type": "code",
   "execution_count": 33,
   "metadata": {},
   "outputs": [
    {
     "name": "stdout",
     "output_type": "stream",
     "text": [
      "1107\n"
     ]
    }
   ],
   "source": [
    "def eval(arr, n):\n",
    "    o = 3 - n\n",
    "    eval_n = 0\n",
    "    eval_o = 0\n",
    "    # check every available five-in-a-row combinations\n",
    "    # if there are no opponent's stone\n",
    "    # assign 1 point if 1 agent's stone\n",
    "    # 10 points if 2 stones/ 100 points if 3 stones/ 1000 points if 4 stones/ 10000 points if 5 stones\n",
    "    for i in range(7):\n",
    "        for j in range(3):\n",
    "            if (np.count_nonzero(arr[i, j:j+5] == o) == 0):\n",
    "                count = np.count_nonzero(arr[i, j:j+5] == n)\n",
    "                if (count > 0):\n",
    "                    eval_n += 10 ** (count - 1)\n",
    "            if (np.count_nonzero(arr[i, j:j+5] == n) == 0):\n",
    "                count = np.count_nonzero(arr[i, j:j+5] == o)\n",
    "                if (count > 0):\n",
    "                    eval_o += 10 ** (count - 1)\n",
    "    for i in range(3):\n",
    "        for j in range(7):\n",
    "            if (np.count_nonzero(arr[i:i+5, j] == o) == 0):\n",
    "                count = np.count_nonzero(arr[i:i+5, j] == n)\n",
    "                if (count > 0):\n",
    "                    eval_n += 10 ** (count - 1)\n",
    "            if (np.count_nonzero(arr[i:i+5, j] == n) == 0):\n",
    "                count = np.count_nonzero(arr[i:i+5, j] == o)\n",
    "                if (count > 0):\n",
    "                    eval_o += 10 ** (count - 1)\n",
    "    for i in range(3):\n",
    "        for j in range(3):\n",
    "            if (np.count_nonzero(arr[i:i+5, j:j+5].diagonal() == o) == 0):\n",
    "                count = np.count_nonzero(arr[i:i+5, j:j+5].diagonal() == n)\n",
    "                if (count > 0):\n",
    "                    eval_n += 10 ** (count - 1)\n",
    "            if (np.count_nonzero(arr[i:i+5, j:j+5].diagonal() == n) == 0):\n",
    "                count = np.count_nonzero(arr[i:i+5, j:j+5].diagonal() == o)\n",
    "                if (count > 0):\n",
    "                    eval_o += 10 ** (count - 1)\n",
    "    for i in range(0, 3):\n",
    "        for j in range(4, 7):\n",
    "            if (np.count_nonzero(np.flipud(arr[i:i+5, j-4:j+1]).diagonal()[::-1] == o) == 0):\n",
    "                count = np.count_nonzero(np.flipud(arr[i:i+5, j-4:j+1]).diagonal()[::-1] == n)\n",
    "                if (count > 0):\n",
    "                    eval_n += 10 ** (count - 1)\n",
    "            if (np.count_nonzero(np.flipud(arr[i:i+5, j-4:j+1]).diagonal()[::-1] == n) == 0):\n",
    "                count = np.count_nonzero(np.flipud(arr[i:i+5, j-4:j+1]).diagonal()[::-1] == o)\n",
    "                if (count > 0):\n",
    "                    eval_o += 10 ** (count - 1)\n",
    "    return (eval_n - eval_o)\n",
    "\n",
    "print(eval(a, 1))"
   ]
  },
  {
   "cell_type": "code",
   "execution_count": 29,
   "metadata": {
    "collapsed": true
   },
   "outputs": [],
   "source": [
    "def rule1(arr,n): #input (matrix, whose turn)\n",
    "    # check for horizontal 4 consecutive stones\n",
    "    for i in range(7):\n",
    "        for j in range(4):\n",
    "            if (arr[i][j] == n and arr[i][j+1] == n and arr[i][j+2] == n and arr[i][j+3] == n):\n",
    "                if (j >= 1 and arr[i][j-1] == 0):\n",
    "                    return (i, j-1)\n",
    "                if (j <= 2 and arr[i][j+4] == 0):\n",
    "                    return (i, j+4)\n",
    "    # check for vertical 4 consecutive stones\n",
    "    for i in range(4):\n",
    "        for j in range(7):\n",
    "            if (arr[i][j] == n and arr[i+1][j] == n and arr[i+2][j] == n and arr[i+3][j] == n):\n",
    "                if (i <= 2 and arr[i+4][j] == 0):\n",
    "                    return (i+4, j)\n",
    "                if (i >= 1 and arr[i-1][j] == 0):\n",
    "                    return (i-1, j)\n",
    "    # check for y = -x diagonal 4 consecutive stones\n",
    "    for (i,j) in [(2,0), (3,1), (1,0), (2,1), (3,2), (0,0), (1,1), (2,2), (3,3), (0,1), (1,2), (2,3), (0,2), (1,3)]:\n",
    "        if (arr[i][j] == n and arr[i+1][j+1] == n and arr[i+2][j+2] == n and arr[i+3][j+3] == n):\n",
    "                if (i >= 1 and j >= 1 and arr[i-1][j-1] == 0):\n",
    "                    return (i-1, j-1)\n",
    "                if (i <= 2 and j <= 2 and arr[i+4][j+4] == 0):\n",
    "                    return (i+4, j+4)\n",
    "    # check for y = x diagonal 4 consecutive stones\n",
    "    for (i,j) in [(2,6), (3,5), (1,6), (2,5), (3,4), (0,6), (1,5), (2,4), (3,3), (0,5), (1,4), (2,3), (0,4), (1,3)]:\n",
    "        if (arr[i][j] == n and arr[i+1][j-1] == n and arr[i+2][j-2] == n and arr[i+3][j-3] == n):\n",
    "                if (i >= 1 and j <= 5 and arr[i-1][j+1] == 0):\n",
    "                    return (i-1, j+1)\n",
    "                if (i <= 2 and j >= 4 and arr[i+4][j-4] == 0):\n",
    "                    return (i+4, j-4)\n",
    "    return None\n",
    "\n",
    "def rule2(arr,n):\n",
    "    o = 3 - n # opponent's notation since 1+2=3\n",
    "    # check for horizontal unbroken chain formed by 4 stones + empty intersection on either head of the chain\n",
    "    for i in range(7):\n",
    "        for j in range(4):\n",
    "            if (arr[i][j] == o and arr[i][j+1] == o and arr[i][j+2] == o and arr[i][j+3] == o):\n",
    "                if (j >= 1 and arr[i][j-1] == 0):\n",
    "                    return (i, j-1)\n",
    "                if (j <= 2 and arr[i][j+4] == 0):\n",
    "                    return (i, j+4)\n",
    "    # check for vertical unbroken chain formed by 4 stones + empty intersection on either head of the chain\n",
    "    for i in range(4):\n",
    "        for j in range(7):\n",
    "            if (arr[i][j] == o and arr[i+1][j] == o and arr[i+2][j] == o and arr[i+3][j] == o):\n",
    "                if (i <= 2 and arr[i+4][j] == 0):\n",
    "                    return (i+4, j)\n",
    "                if (i >= 1 and arr[i-1][j] == 0):\n",
    "                    return (i-1, j)\n",
    "    # check for diagonal y = -x unbroken chain formed by 4 stones + empty intersection on either head of the chain\n",
    "    for (i,j) in [(2,0), (3,1), (1,0), (2,1), (3,2), (0,0), (1,1), (2,2), (3,3), (0,1), (1,2), (2,3), (0,2), (1,3)]:\n",
    "        if (arr[i][j] == o and arr[i+1][j+1] == o and arr[i+2][j+2] == o and arr[i+3][j+3] == o):\n",
    "                if (i >= 1 and j >= 1 and arr[i-1][j-1] == 0):\n",
    "                    return (i-1, j-1)\n",
    "                if (i <= 2 and j <= 2 and arr[i+4][j+4] == 0):\n",
    "                    return (i+4, j+4)\n",
    "    # check for diagonal y = x unbroken chain formed by 4 stones + empty intersection on either head of the chain\n",
    "    for (i,j) in [(2,6), (3,5), (1,6), (2,5), (3,4), (0,6), (1,5), (2,4), (3,3), (0,5), (1,4), (2,3), (0,4), (1,3)]:\n",
    "        if (arr[i][j] == o and arr[i+1][j-1] == o and arr[i+2][j-2] == o and arr[i+3][j-3] == o):\n",
    "                if (i >= 1 and j <= 5 and arr[i-1][j+1] == 0):\n",
    "                    return (i-1, j+1)\n",
    "                if (i <= 2 and j >= 4 and arr[i+4][j-4] == 0):\n",
    "                    return (i+4, j-4)\n",
    "    return None"
   ]
  },
  {
   "cell_type": "code",
   "execution_count": 34,
   "metadata": {
    "scrolled": false
   },
   "outputs": [
    {
     "name": "stdout",
     "output_type": "stream",
     "text": [
      "(5, 5)\n",
      "0 seconds\n"
     ]
    }
   ],
   "source": [
    "# 剩两个和剩一个\n",
    "def minimax(arr, n):\n",
    "    if (rule1(arr, n)):\n",
    "        return rule1(arr, n)\n",
    "    o = 3 - n\n",
    "    if (rule2(arr, n)):\n",
    "        return rule2(arr, n)\n",
    "    spot = [] # list holding all possible positions\n",
    "    for i in range(7):\n",
    "        for j in range(7):\n",
    "            if arr[i][j] == 0:\n",
    "                spot.append((i,j))\n",
    "    \n",
    "    lvl1 = []\n",
    "    lvl2 = []\n",
    "    lvl3 = []\n",
    "    \n",
    "    # minimax core\n",
    "    for x in range(len(spot)):\n",
    "        spot1 = spot[:x] + spot[x+1:]\n",
    "        lvl2 = []\n",
    "        for y in range(len(spot1)):\n",
    "            spot2 = spot1[:y] + spot1[y+1:]\n",
    "            lvl3 = []\n",
    "            for z in range(len(spot2)):\n",
    "                board = np.copy(arr)\n",
    "                board[spot[x][0],spot[x][1]] = n\n",
    "                board[spot1[y][0],spot1[y][1]] = o\n",
    "                board[spot2[z][0],spot2[z][1]] = n\n",
    "                lvl3.append(eval(board,n))\n",
    "            lvl2.append(max(lvl3))  # max level 3 (agent's move)\n",
    "        lvl1.append((min(lvl2), spot[x][0], spot[x][1]))  # min level 2 (opponent's move)\n",
    "    temp = max(lvl1, key=lambda x : x[0])  # max level 1 (agent's move)\n",
    "    return((temp[1], temp[2])) \n",
    "\n",
    "import timeit\n",
    "start = timeit.default_timer()\n",
    "print(minimax(a, 2))\n",
    "stop = timeit.default_timer()\n",
    "print(\"{} seconds\".format(int(stop-start)))"
   ]
  },
  {
   "cell_type": "code",
   "execution_count": null,
   "metadata": {
    "collapsed": true
   },
   "outputs": [],
   "source": []
  }
 ],
 "metadata": {
  "kernelspec": {
   "display_name": "Python 3",
   "language": "python",
   "name": "python3"
  },
  "language_info": {
   "codemirror_mode": {
    "name": "ipython",
    "version": 3
   },
   "file_extension": ".py",
   "mimetype": "text/x-python",
   "name": "python",
   "nbconvert_exporter": "python",
   "pygments_lexer": "ipython3",
   "version": "3.6.3"
  }
 },
 "nbformat": 4,
 "nbformat_minor": 2
}
