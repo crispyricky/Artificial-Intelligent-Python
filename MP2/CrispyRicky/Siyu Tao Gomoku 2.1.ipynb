{
 "cells": [
  {
   "cell_type": "code",
   "execution_count": 249,
   "metadata": {},
   "outputs": [
    {
     "name": "stdout",
     "output_type": "stream",
     "text": [
      "[[ 0.  0.  0.  0.  0.  0.  0.]\n",
      " [ 0.  0.  0.  0.  0.  0.  0.]\n",
      " [ 0.  0.  0.  0.  0.  0.  0.]\n",
      " [ 0.  0.  0.  0.  0.  0.  0.]\n",
      " [ 0.  1.  0.  0.  0.  0.  0.]\n",
      " [ 0.  1.  1.  0.  0.  0.  0.]\n",
      " [ 0.  0.  0.  0.  0.  0.  0.]]\n"
     ]
    }
   ],
   "source": [
    "import numpy as np\n",
    "a = np.zeros((7,7))\n",
    "# a[1,1] = 2\n",
    "# a[3,2] = 2\n",
    "# a[4,3] = 1\n",
    "# a[2,5] = 1\n",
    "# a[3,4] = 1\n",
    "\n",
    "# a[:,0] = 2\n",
    "# a[0,:] = 2\n",
    "# a[1,:] = 2\n",
    "# a[:,1] = 2\n",
    "# a[2,2] = 2\n",
    "# a[3,3] = 2\n",
    "# a[4,4] = 2\n",
    "# a[2,6] = 1\n",
    "# a[5,3] = 1\n",
    "# a[6,3] = 1\n",
    "a[4,1] = 1\n",
    "a[5,1] = 1\n",
    "a[5,2] = 1\n",
    "print(a)"
   ]
  },
  {
   "cell_type": "code",
   "execution_count": 12,
   "metadata": {},
   "outputs": [
    {
     "data": {
      "text/plain": [
       "4"
      ]
     },
     "execution_count": 12,
     "metadata": {},
     "output_type": "execute_result"
    }
   ],
   "source": [
    "np.count_nonzero(a == 1)"
   ]
  },
  {
   "cell_type": "code",
   "execution_count": 127,
   "metadata": {},
   "outputs": [
    {
     "name": "stdout",
     "output_type": "stream",
     "text": [
      "(2, 4)\n"
     ]
    }
   ],
   "source": [
    "# functions\n",
    "# gomoku() input the matrix, output the matrix after one move\n",
    "# rule1() \n",
    "# rule2()\n",
    "# rule3()\n",
    "# rule4()\n",
    "\n",
    "def rule1(arr,n): #input (matrix, whose turn)\n",
    "    # check for horizontal 4 consecutive stones\n",
    "    for i in range(7):\n",
    "        for j in range(4):\n",
    "            if (arr[i][j] == n and arr[i][j+1] == n and arr[i][j+2] == n and arr[i][j+3] == n):\n",
    "                if (j >= 1 and arr[i][j-1] == 0):\n",
    "                    return (i, j-1)\n",
    "                if (j <= 2 and arr[i][j+4] == 0):\n",
    "                    return (i, j+4)\n",
    "    # check for vertical 4 consecutive stones\n",
    "    for i in range(4):\n",
    "        for j in range(7):\n",
    "            if (arr[i][j] == n and arr[i+1][j] == n and arr[i+2][j] == n and arr[i+3][j] == n):\n",
    "                if (i <= 2 and arr[i+4][j] == 0):\n",
    "                    return (i+4, j)\n",
    "                if (i >= 1 and arr[i-1][j] == 0):\n",
    "                    return (i-1, j)\n",
    "    # check for y = -x diagonal 4 consecutive stones\n",
    "    for (i,j) in [(2,0), (3,1), (1,0), (2,1), (3,2), (0,0), (1,1), (2,2), (3,3), (0,1), (1,2), (2,3), (0,2), (1,3)]:\n",
    "        if (arr[i][j] == n and arr[i+1][j+1] == n and arr[i+2][j+2] == n and arr[i+3][j+3] == n):\n",
    "                if (i >= 1 and j >= 1 and arr[i-1][j-1] == 0):\n",
    "                    return (i-1, j-1)\n",
    "                if (i <= 2 and j <= 2 and arr[i+4][j+4] == 0):\n",
    "                    return (i+4, j+4)\n",
    "    # check for y = x diagonal 4 consecutive stones\n",
    "    for (i,j) in [(2,6), (3,5), (1,6), (2,5), (3,4), (0,6), (1,5), (2,4), (3,3), (0,5), (1,4), (2,3), (0,4), (1,3)]:\n",
    "        if (arr[i][j] == n and arr[i+1][j-1] == n and arr[i+2][j-2] == n and arr[i+3][j-3] == n):\n",
    "                if (i >= 1 and j <= 5 and arr[i-1][j+1] == 0):\n",
    "                    return (i-1, j+1)\n",
    "                if (i <= 2 and j >= 4 and arr[i+4][j-4] == 0):\n",
    "                    return (i+4, j-4)\n",
    "    return None\n",
    "\n",
    "print (rule1(a,1))"
   ]
  },
  {
   "cell_type": "code",
   "execution_count": 116,
   "metadata": {},
   "outputs": [
    {
     "name": "stdout",
     "output_type": "stream",
     "text": [
      "(4, 0)\n"
     ]
    }
   ],
   "source": [
    "def rule2(arr,n):\n",
    "    o = 3 - n # opponent's notation since 1+2=3\n",
    "    # check for horizontal unbroken chain formed by 4 stones + empty intersection on either head of the chain\n",
    "    for i in range(7):\n",
    "        for j in range(4):\n",
    "            if (arr[i][j] == o and arr[i][j+1] == o and arr[i][j+2] == o and arr[i][j+3] == o):\n",
    "                if (j >= 1 and arr[i][j-1] == 0):\n",
    "                    return (i, j-1)\n",
    "                if (j <= 2 and arr[i][j+4] == 0):\n",
    "                    return (i, j+4)\n",
    "    # check for vertical unbroken chain formed by 4 stones + empty intersection on either head of the chain\n",
    "    for i in range(4):\n",
    "        for j in range(7):\n",
    "            if (arr[i][j] == o and arr[i+1][j] == o and arr[i+2][j] == o and arr[i+3][j] == o):\n",
    "                if (i <= 2 and arr[i+4][j] == 0):\n",
    "                    return (i+4, j)\n",
    "                if (i >= 1 and arr[i-1][j] == 0):\n",
    "                    return (i-1, j)\n",
    "    # check for diagonal y = -x unbroken chain formed by 4 stones + empty intersection on either head of the chain\n",
    "    for (i,j) in [(2,0), (3,1), (1,0), (2,1), (3,2), (0,0), (1,1), (2,2), (3,3), (0,1), (1,2), (2,3), (0,2), (1,3)]:\n",
    "        if (arr[i][j] == o and arr[i+1][j+1] == o and arr[i+2][j+2] == o and arr[i+3][j+3] == o):\n",
    "                if (i >= 1 and j >= 1 and arr[i-1][j-1] == 0):\n",
    "                    return (i-1, j-1)\n",
    "                if (i <= 2 and j <= 2 and arr[i+4][j+4] == 0):\n",
    "                    return (i+4, j+4)\n",
    "    # check for diagonal y = x unbroken chain formed by 4 stones + empty intersection on either head of the chain\n",
    "    for (i,j) in [(2,6), (3,5), (1,6), (2,5), (3,4), (0,6), (1,5), (2,4), (3,3), (0,5), (1,4), (2,3), (0,4), (1,3)]:\n",
    "        if (arr[i][j] == o and arr[i+1][j-1] == o and arr[i+2][j-2] == o and arr[i+3][j-3] == o):\n",
    "                if (i >= 1 and j <= 5 and arr[i-1][j+1] == 0):\n",
    "                    return (i-1, j+1)\n",
    "                if (i <= 2 and j >= 4 and arr[i+4][j-4] == 0):\n",
    "                    return (i+4, j-4)\n",
    "    return None\n",
    "\n",
    "print (rule2(a,1))"
   ]
  },
  {
   "cell_type": "code",
   "execution_count": 156,
   "metadata": {},
   "outputs": [
    {
     "name": "stdout",
     "output_type": "stream",
     "text": [
      "(5, 2)\n"
     ]
    }
   ],
   "source": [
    "def rule3(arr,n):\n",
    "    o = 3 - n\n",
    "    # horizontal\n",
    "    for i in range(7):\n",
    "        for j in range(3):\n",
    "            if (arr[i][j+1] == o and arr[i][j+2] == o and arr[i][j+3] == o and arr[i][j] == 0 and arr[i][j+4] == 0):\n",
    "                return (i,j)\n",
    "    # vertical\n",
    "    for i in range(3):\n",
    "        for j in range(7):\n",
    "            if (arr[i+1][j] == o and arr[i+2][j] == o and arr[i+3][j] == o and arr[i][j] == 0 and arr[i+4][j] == 0):\n",
    "                return (i+4, j)\n",
    "    # y = -x\n",
    "    for i in range(3):\n",
    "        for j in range(3):\n",
    "            if (arr[i][j] == 0 and arr[i+1][j+1] == o and arr[i+2][j+2] == o and arr[i+3][j+3] == o and arr[i+4][j+4] == 0):\n",
    "                return (i, j)\n",
    "    # y = x\n",
    "    for i in range(0, 3):\n",
    "        for j in range(4, 7):\n",
    "            if (arr[i][j] == 0 and arr[i+1][j-1] == o and arr[i+2][j-2] == o and arr[i+3][j-3] == o and arr[i+4][j-4] == 0):\n",
    "                return (i+4, j-4)\n",
    "    return None\n",
    "\n",
    "print (rule3(a,2))\n",
    "    "
   ]
  },
  {
   "cell_type": "code",
   "execution_count": 250,
   "metadata": {},
   "outputs": [
    {
     "name": "stdout",
     "output_type": "stream",
     "text": [
      "[(5, 0, 2), (6, 1, 2), (3, 1, 2), (5, 3, 2), (4, 0, 1), (3, 1, 1), (6, 2, 1), (4, 2, 1), (5, 3, 1), (6, 0, 0), (5, 0, 0), (4, 0, 0), (3, 0, 0), (2, 0, 0), (1, 0, 0), (0, 0, 0), (6, 1, 0), (3, 1, 0), (2, 1, 0), (1, 1, 0), (0, 1, 0), (6, 2, 0), (4, 2, 0), (3, 2, 0), (2, 2, 0), (1, 2, 0), (0, 2, 0), (6, 3, 0), (5, 3, 0), (4, 3, 0), (6, 4, 0), (5, 4, 0), (4, 4, 0), (6, 5, 0), (5, 5, 0), (4, 5, 0), (6, 6, 0), (5, 6, 0), (4, 6, 0)]\n",
      "(5, 0)\n"
     ]
    }
   ],
   "source": [
    "def rule4(arr,n):\n",
    "    o = 3 - n\n",
    "    temp = []\n",
    "    # horizontal\n",
    "    for i in range(7):\n",
    "        for j in range(3):\n",
    "            if (np.count_nonzero(arr[i, j:j+5] == o) == 0):\n",
    "                temp.append((i, (np.nonzero(a[i, j:j+5] == 0)[0][0] + j), np.count_nonzero(arr[i, j:j+5] == n)))\n",
    "    # vertical\n",
    "    for i in range(3):\n",
    "        for j in range(7):\n",
    "            if (np.count_nonzero(arr[i:i+5, j] == o) == 0):\n",
    "                temp.append(((np.nonzero(a[i:i+5, j] == 0)[0][::-1][0] + i, j, np.count_nonzero(arr[i:i+5, j] == n))))\n",
    "    # y = -x\n",
    "    # y = x\n",
    "    temp = list(set(temp))\n",
    "    temp_sorted = sorted(temp, key = lambda x : (-x[2], x[1], -x[0]))\n",
    "    print (temp_sorted)\n",
    "    return (temp_sorted[0][0:2])\n",
    "\n",
    "print (rule4(a, 1)) "
   ]
  },
  {
   "cell_type": "code",
   "execution_count": null,
   "metadata": {
    "collapsed": true
   },
   "outputs": [],
   "source": []
  }
 ],
 "metadata": {
  "kernelspec": {
   "display_name": "Python 3",
   "language": "python",
   "name": "python3"
  },
  "language_info": {
   "codemirror_mode": {
    "name": "ipython",
    "version": 3
   },
   "file_extension": ".py",
   "mimetype": "text/x-python",
   "name": "python",
   "nbconvert_exporter": "python",
   "pygments_lexer": "ipython3",
   "version": "3.6.3"
  }
 },
 "nbformat": 4,
 "nbformat_minor": 2
}
