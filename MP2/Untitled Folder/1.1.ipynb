{
 "cells": [
  {
   "cell_type": "code",
   "execution_count": 164,
   "metadata": {
    "collapsed": true
   },
   "outputs": [],
   "source": [
    "import numpy as np\n",
    "import heapq"
   ]
  },
  {
   "cell_type": "code",
   "execution_count": 165,
   "metadata": {
    "collapsed": true
   },
   "outputs": [],
   "source": [
    "Distance = [[0,1064,673,1401,277],\n",
    "            [1064,0,958,1934,377],\n",
    "            [673,957,0,1001,399],\n",
    "            [1401,1934,1001,0,387],\n",
    "            [277,377,399,387,0]]\n",
    "W_ = {1:{1:'A',2:'E',3:'D',4:'C',5:'A'},\n",
    "        2:{1:'B',2:'E',3:'A',4:'C',5:'D'},\n",
    "        3:{1:'B',2:'A',3:'B',4:'C',5:'E'},\n",
    "        4:{1:'D',2:'A',3:'D',4:'B',5:'D'},\n",
    "        5:{1:'B',2:'E',3:'C',4:'B',5:'D'}}\n",
    "Starting_Point = ['A','B','C','D','E']\n",
    "fac_dict = {'A':0, 'B':1, 'C':2, 'D':3, 'E':4}"
   ]
  },
  {
   "cell_type": "code",
   "execution_count": 166,
   "metadata": {},
   "outputs": [
    {
     "name": "stdout",
     "output_type": "stream",
     "text": [
      "{'A': 'E', 'B': 'E', 'C': 'E', 'D': 'E', 'E': 'A'}\n",
      "[[0, 654, 673, 664, 277], [654, 0, 776, 764, 377], [673, 776, 0, 786, 399], [664, 764, 786, 0, 387], [277, 377, 399, 387, 0]]\n"
     ]
    }
   ],
   "source": [
    "mp ={}\n",
    "for i in Starting_Point:\n",
    "    dd = 20000\n",
    "    for j in Starting_Point:\n",
    "        if get_gscore_dist(i,j)<dd and i != j:\n",
    "            dd = get_gscore_dist(i,j)\n",
    "            mp[i]=j\n",
    "print(mp)\n",
    "for i in Starting_Point:\n",
    "    for j in Starting_Point:\n",
    "        if get_gscore_dist(i,j)>(get_gscore_dist(i,mp[i])+get_gscore_dist(mp[i],j)):\n",
    "            Distance[fac_dict[i]][fac_dict[j]]=get_gscore_dist(i,mp[i])+get_gscore_dist(mp[i],j)\n",
    "print(Distance)"
   ]
  },
  {
   "cell_type": "code",
   "execution_count": 7,
   "metadata": {},
   "outputs": [
    {
     "data": {
      "text/plain": [
       "[[0, 654, 673, 664, 277],\n",
       " [654, 0, 776, 764, 377],\n",
       " [673, 776, 0, 786, 399],\n",
       " [664, 764, 786, 0, 387],\n",
       " [277, 377, 399, 387, 0]]"
      ]
     },
     "execution_count": 7,
     "metadata": {},
     "output_type": "execute_result"
    }
   ],
   "source": [
    "Distance"
   ]
  },
  {
   "cell_type": "markdown",
   "metadata": {},
   "source": [
    "MP2\n",
    "===\n",
    "You are the owner of a smart manufacturing company, with factories in five different cities: Atlanta, Boston, Chicago, Denver, and Edmonton. Each factory makes a different type of component: for convenience, let's call the components A, B, C, D, and E. The locations of your factories are a bit inconvenient to one another; the following table gives the distance (in miles) from one factory to another.\n",
    "\n",
    "Distance | A | B | C | D | E\n",
    "---------|---|---|---|---|---\n",
    "A| 0 | 1064| 673 | 1401 | 277\n",
    "B|1064| 0|\t958|\t1934|\t337\n",
    "C|673|958|0|\t    1001|\t    399\n",
    "D|1401| 1934| 1001\t|0|387\n",
    "E|277|\t337|\t399|\t387|\t0\n",
    "            \n",
    "---\n",
    "From those components, you manufacture five different types of widgets. Each widget is composed of five widgets of different types, as follows:\n",
    "\n",
    "* Widget 1 = Components AEDCA\n",
    "* Widget 2 = Components BEACD\n",
    "* Widget 3 = Components BABCE\n",
    "* Widget 4 = Components DADBD\n",
    "* Widget 5 = Components BECBD\n",
    "---\n",
    "The goal of this assignment is to implement A* search that will find two different factory sequences:\n",
    "\n",
    "* First, find the factory sequence with the smallest number of stops (the smallest number of factories visited).\n",
    "* Second, find the factory sequence with the smallest number of miles traveled.\n",
    "\n",
    "Solve this problem using A* search. Your report should specify your state representation, actions, and your heuristic. The heuristic need not be very smart, but it needs to be non-zero, and it needs to be admissible and consistent."
   ]
  },
  {
   "cell_type": "code",
   "execution_count": 174,
   "metadata": {},
   "outputs": [],
   "source": [
    "class node():\n",
    "    def __init__(self, cur_factory,last_table, gscore=float('inf'),fscore=float('inf'), finished_factory=set(), parent=''):\n",
    "        self.gscore = gscore\n",
    "        self.last_table = last_table\n",
    "        self.cur_factory = cur_factory\n",
    "        self.parent = parent\n",
    "        self.fscore = fscore\n",
    "        self.finished_factory = finished_factory\n",
    "    \n",
    "    def __key(self):\n",
    "        return (self.parent)\n",
    "    \n",
    "    def __eq__(self, other):\n",
    "        return (np.array_equal(self.last_table,other.last_table) and self.gscore <= other.gscore)\n",
    "    \n",
    "    def __lt__(self, other):\n",
    "        return self.fscore < other.fscore\n",
    "    \n",
    "    def __hash__(self):\n",
    "        return hash(self.__key())\n",
    "    "
   ]
  },
  {
   "cell_type": "code",
   "execution_count": 168,
   "metadata": {
    "collapsed": true
   },
   "outputs": [],
   "source": [
    "def h_min_dis(node,factory):\n",
    "    table = node.last_table.copy()\n",
    "    table2 = table.copy()\n",
    "    table2 = table2.T\n",
    "    fscore = 0\n",
    "    for num, i in enumerate (table):\n",
    "        if table2[num].sum() != 0:\n",
    "            fscore=fscore+1000\n",
    "        if i[0] == 1:\n",
    "            if W_[num+1][1] == factory: i[0] = i[0] - 1\n",
    "            continue\n",
    "        elif i[1] == 1:\n",
    "            if W_[num+1][2] == factory: i[1] = i[1] - 1 \n",
    "            continue\n",
    "        elif i[2] == 1:\n",
    "            if W_[num+1][3] == factory: i[2] = i[2] - 1 \n",
    "            continue\n",
    "        elif i[3] == 1:\n",
    "            if W_[num+1][4] == factory: i[3] = i[3] - 1\n",
    "            continue    \n",
    "        elif i[4] == 1:\n",
    "            if W_[num+1][5] == factory: i[4] = i[4] - 1 \n",
    "            continue\n",
    "#     fscore = table.sum()\n",
    "    \n",
    "    return table,fscore\n",
    "#     table = node.last_table.copy()\n",
    "#     for num, i in enumerate (table):\n",
    "#         if i[0] == 1:\n",
    "#             if W_[num+1][1] == factory: i[0] = i[0] - 1\n",
    "#             continue\n",
    "#         elif i[1] == 1:\n",
    "#             if W_[num+1][2] == factory: i[1] = i[1] - 1 \n",
    "#             continue\n",
    "#         elif i[2] == 1:\n",
    "#             if W_[num+1][3] == factory: i[2] = i[2] - 1 \n",
    "#             continue\n",
    "#         elif i[3] == 1:\n",
    "#             if W_[num+1][4] == factory: i[3] = i[3] - 1\n",
    "#             continue    \n",
    "#         elif i[4] == 1:\n",
    "#             if W_[num+1][5] == factory: i[4] = i[4] - 1 \n",
    "#             continue\n",
    "#     fscore = Distance[fac_dict[node.cur_factory]][fac_dict[factory]]\n",
    "#     return table,fscore                                      \n",
    "    \n",
    "def h_min_step(node,factory):\n",
    "    '''\n",
    "    calculate the huristic of a certain step of node\n",
    "    '''\n",
    "    table = node.last_table.copy()\n",
    "    table2 = table.copy()\n",
    "    table2 = table2.T\n",
    "    fscore = 0\n",
    "    for num, i in enumerate (table):\n",
    "        if table2[num].sum() != 0:\n",
    "            fscore=fscore+1\n",
    "        if i[0] == 1:\n",
    "            if W_[num+1][1] == factory: i[0] = i[0] - 1\n",
    "            continue\n",
    "        elif i[1] == 1:\n",
    "            if W_[num+1][2] == factory: i[1] = i[1] - 1 \n",
    "            continue\n",
    "        elif i[2] == 1:\n",
    "            if W_[num+1][3] == factory: i[2] = i[2] - 1 \n",
    "            continue\n",
    "        elif i[3] == 1:\n",
    "            if W_[num+1][4] == factory: i[3] = i[3] - 1\n",
    "            continue    \n",
    "        elif i[4] == 1:\n",
    "            if W_[num+1][5] == factory: i[4] = i[4] - 1 \n",
    "            continue\n",
    "#     fscore = table.sum()\n",
    "    \n",
    "    return table,fscore\n",
    "\n",
    "def get_gscore_dist(city1,city2):\n",
    "    return Distance[fac_dict[city1]][fac_dict[city2]]\n",
    "\n",
    "def get_close(table):\n",
    "    s = ''\n",
    "    for i in table:\n",
    "        j = i.sum()\n",
    "        s = s+ str(int(j))\n",
    "    return s\n",
    "\n",
    "def get_low_rank(open_set):\n",
    "    min_huris = float('inf')\n",
    "    for nodes in open_set:\n",
    "#         print(nodes.parent,nodes.fscore)\n",
    "        if (nodes.fscore)<min_huris:\n",
    "            cur_node = nodes\n",
    "            min_huris = cur_node.fscore  \n",
    "    return cur_node\n",
    "\n",
    "def goal_test(node):\n",
    "    if node.last_table.sum() == 0: return True\n",
    "    return False"
   ]
  },
  {
   "cell_type": "code",
   "execution_count": 169,
   "metadata": {},
   "outputs": [],
   "source": [
    "def A_star(start,hu):\n",
    "    hu_table = np.ones((5,5))\n",
    "    initnode = node(start,hu_table,gscore=0,fscore=25.0)\n",
    "    table,fscore = hu(initnode,start)\n",
    "    start_node = node(start,table,gscore=0,fscore=fscore,parent=start)\n",
    "    close_set = {}\n",
    "    open_set = set()\n",
    "    open_set.add(start_node)\n",
    "    cities = ['A','B','C','D','E']\n",
    "    while len(open_set)!=0:\n",
    "        min_huris = float('inf')\n",
    "#         print('----starting choose lowest fscore----')\n",
    "        for nodes in open_set:\n",
    "#             print(nodes.parent,nodes.fscore)\n",
    "            if (nodes.fscore)<min_huris:\n",
    "                temp = nodes\n",
    "                min_huris = temp.fscore\n",
    "        cur_node = temp          \n",
    "        if goal_test(cur_node): \n",
    "#             print(close_set)\n",
    "            return cur_node.parent\n",
    "        open_set.remove(cur_node)\n",
    "#         print('choose=',cur_node.parent,' hur=',cur_node.fscore)\n",
    "        for city in cities:\n",
    "            if city == cur_node.cur_factory: continue\n",
    "            table,fscore = hu(cur_node,city)\n",
    "#             print('test fscore ',cur_node.parent+city,fscore+cur_node.gscore+1, 'cur fscore=',cur_node.fscore)\n",
    "#             if fscore+cur_node.gscore+1 >= cur_node.fscore: continue\n",
    "            if get_close(table) in close_set:\n",
    "                if close_set[get_close(table)] < cur_node.gscore+1:\n",
    "#                     print('useful')\n",
    "                    continue\n",
    "                close_set[get_close(table)] = cur_node.gscore+1\n",
    "            new_node = node(city,table,gscore=cur_node.gscore+1,fscore=fscore+cur_node.gscore+1,parent=cur_node.parent+city)\n",
    "#             print('----adding new node----')\n",
    "#             print(new_node.parent,new_node.fscore)\n",
    "#             print(new_node.last_table)\n",
    "#             print()\n",
    "            open_set.add(new_node)\n",
    "            close_set[get_close(cur_node.last_table)]=cur_node.gscore\n",
    "    print(close_set)\n",
    "    return"
   ]
  },
  {
   "cell_type": "code",
   "execution_count": null,
   "metadata": {
    "scrolled": true
   },
   "outputs": [],
   "source": [
    "for t in Starting_Point:\n",
    "    lenn = 1000\n",
    "    print('for starting =',t)\n",
    "    retv = A_star_d(t,h_min_dis,get_gscore_dist)\n",
    "    dis = 0\n",
    "    for s in retv:\n",
    "        dis = dis + get_gscore_dist(t,s)\n",
    "        t = s\n",
    "    print(dis)\n",
    "    print('temp=',retv)\n",
    "    print('len=',len(retv))\n",
    "    print()"
   ]
  },
  {
   "cell_type": "code",
   "execution_count": 9,
   "metadata": {},
   "outputs": [
    {
     "data": {
      "text/plain": [
       "{1: {1: 'A', 2: 'E', 3: 'D', 4: 'C', 5: 'A'},\n",
       " 2: {1: 'B', 2: 'E', 3: 'A', 4: 'C', 5: 'D'},\n",
       " 3: {1: 'B', 2: 'A', 3: 'B', 4: 'C', 5: 'E'},\n",
       " 4: {1: 'D', 2: 'A', 3: 'D', 4: 'B', 5: 'D'},\n",
       " 5: {1: 'B', 2: 'E', 3: 'C', 4: 'B', 5: 'D'}}"
      ]
     },
     "execution_count": 9,
     "metadata": {},
     "output_type": "execute_result"
    }
   ],
   "source": [
    "W_"
   ]
  },
  {
   "cell_type": "code",
   "execution_count": null,
   "metadata": {},
   "outputs": [],
   "source": [
    "close_set = {}\n",
    "hu_table = np.ones((5,5))\n",
    "tnode = node('A',hu_table,gscore=0,fscore=25.0)\n",
    "close_set[get_close(tnode)]=tnode.gscore"
   ]
  },
  {
   "cell_type": "markdown",
   "metadata": {},
   "source": [
    "```\n",
    "OPEN = priority queue containing START\n",
    "CLOSED = empty set\n",
    "while lowest rank in OPEN is not the GOAL:\n",
    "  current = remove lowest rank item from OPEN\n",
    "  add current to CLOSED\n",
    "  for neighbors of current:\n",
    "    cost = g(current) + movementcost(current, neighbor)\n",
    "    if neighbor in OPEN and cost less than g(neighbor):\n",
    "      remove neighbor from OPEN, because new path is better\n",
    "    if neighbor in CLOSED and cost less than g(neighbor): ⁽²⁾\n",
    "      remove neighbor from CLOSED\n",
    "    if neighbor not in OPEN and neighbor not in CLOSED:\n",
    "      set g(neighbor) to cost\n",
    "      add neighbor to OPEN\n",
    "      set priority queue rank to g(neighbor) + h(neighbor)\n",
    "      set neighbor's parent to current\n",
    "```"
   ]
  },
  {
   "cell_type": "code",
   "execution_count": 190,
   "metadata": {},
   "outputs": [],
   "source": [
    "def A_star_d(start,hu,ge):\n",
    "    RESULT=[]\n",
    "    hu_table = np.ones((5,5))\n",
    "    initnode = node(start,hu_table,gscore=0,fscore=25.0)\n",
    "    table,fscore = hu(initnode,start)\n",
    "    start_node = node(start,table,gscore=0,fscore=fscore,parent=start)\n",
    "    close_set = {}\n",
    "    open_set = []\n",
    "    heapq.heappush(open_set, start_node)\n",
    "#     open_set.add(start_node)\n",
    "    while len(open_set)!=0:\n",
    "#         print(len(open_set))\n",
    "        cur_node = heapq.heappop(open_set)\n",
    "        if goal_test(cur_node): \n",
    "#             print(close_set)\n",
    "#             return cur_node.parent\n",
    "            RESULT.append(cur_node.parent)\n",
    "        close_set[get_close(cur_node.last_table)]=cur_node.gscore\n",
    "#         print('choose=',cur_node.parent,' hur=',cur_node.fscore)\n",
    "        for city in Starting_Point:\n",
    "            if city == cur_node.cur_factory: continue\n",
    "            table,fscore = hu(cur_node,city)\n",
    "            cost = cur_node.gscore+ge(cur_node.cur_factory,city)\n",
    "            new_node = node(city,table,gscore=cost,fscore=fscore+cost,parent=cur_node.parent+city)\n",
    "#             print('test fscore ',cur_node.parent+city,fscore+cur_node.gscore+ge(cur_node.cur_factory,city), 'cur fscore=',cur_node.fscore)\n",
    "#             if fscore+cur_node.gscore+1 >= cur_node.fscore: continue\n",
    "#             print(get_close(table))\n",
    "#             print(close_set)\n",
    "            if get_close(table) in close_set:\n",
    "#                 print(new_node.parent,' close_set',get_close(table),'=',close_set[get_close(table)],' cur=',cost)\n",
    "                if close_set[get_close(table)] < cost: continue\n",
    "                else:\n",
    "                    print('im else!!!!!!!!--------------##########')\n",
    "                    close_set[get_close(table)] = cost\n",
    "            if(new_node not in open_set):\n",
    "                heapq.heappush(open_set,new_node)\n",
    "#                 print('----adding new node----')\n",
    "#                 print(new_node.parent,new_node.fscore)\n",
    "#                 print(new_node.last_table)\n",
    "#                 print()\n",
    "#                 print(close_set)\n",
    "#     print(close_set)\n",
    "    return RESULT"
   ]
  },
  {
   "cell_type": "code",
   "execution_count": 191,
   "metadata": {
    "scrolled": true
   },
   "outputs": [
    {
     "name": "stdout",
     "output_type": "stream",
     "text": [
      "im else!!!!!!!!--------------##########\n",
      "im else!!!!!!!!--------------##########\n",
      "im else!!!!!!!!--------------##########\n",
      "im else!!!!!!!!--------------##########\n",
      "im else!!!!!!!!--------------##########\n",
      "im else!!!!!!!!--------------##########\n",
      "im else!!!!!!!!--------------##########\n",
      "im else!!!!!!!!--------------##########\n",
      "im else!!!!!!!!--------------##########\n",
      "im else!!!!!!!!--------------##########\n",
      "im else!!!!!!!!--------------##########\n",
      "im else!!!!!!!!--------------##########\n",
      "im else!!!!!!!!--------------##########\n",
      "im else!!!!!!!!--------------##########\n",
      "im else!!!!!!!!--------------##########\n",
      "im else!!!!!!!!--------------##########\n",
      "im else!!!!!!!!--------------##########\n",
      "im else!!!!!!!!--------------##########\n",
      "im else!!!!!!!!--------------##########\n",
      "im else!!!!!!!!--------------##########\n",
      "im else!!!!!!!!--------------##########\n",
      "im else!!!!!!!!--------------##########\n",
      "im else!!!!!!!!--------------##########\n",
      "im else!!!!!!!!--------------##########\n",
      "im else!!!!!!!!--------------##########\n",
      "im else!!!!!!!!--------------##########\n",
      "im else!!!!!!!!--------------##########\n",
      "im else!!!!!!!!--------------##########\n",
      "im else!!!!!!!!--------------##########\n",
      "im else!!!!!!!!--------------##########\n",
      "im else!!!!!!!!--------------##########\n",
      "im else!!!!!!!!--------------##########\n",
      "im else!!!!!!!!--------------##########\n",
      "im else!!!!!!!!--------------##########\n",
      "im else!!!!!!!!--------------##########\n",
      "im else!!!!!!!!--------------##########\n",
      "im else!!!!!!!!--------------##########\n",
      "im else!!!!!!!!--------------##########\n",
      "im else!!!!!!!!--------------##########\n",
      "im else!!!!!!!!--------------##########\n",
      "im else!!!!!!!!--------------##########\n",
      "im else!!!!!!!!--------------##########\n",
      "im else!!!!!!!!--------------##########\n",
      "im else!!!!!!!!--------------##########\n",
      "im else!!!!!!!!--------------##########\n",
      "im else!!!!!!!!--------------##########\n",
      "im else!!!!!!!!--------------##########\n",
      "im else!!!!!!!!--------------##########\n",
      "im else!!!!!!!!--------------##########\n",
      "im else!!!!!!!!--------------##########\n",
      "im else!!!!!!!!--------------##########\n",
      "im else!!!!!!!!--------------##########\n",
      "im else!!!!!!!!--------------##########\n",
      "im else!!!!!!!!--------------##########\n",
      "im else!!!!!!!!--------------##########\n",
      "im else!!!!!!!!--------------##########\n",
      "im else!!!!!!!!--------------##########\n",
      "im else!!!!!!!!--------------##########\n",
      "im else!!!!!!!!--------------##########\n",
      "im else!!!!!!!!--------------##########\n",
      "im else!!!!!!!!--------------##########\n",
      "im else!!!!!!!!--------------##########\n",
      "im else!!!!!!!!--------------##########\n",
      "im else!!!!!!!!--------------##########\n",
      "im else!!!!!!!!--------------##########\n",
      "im else!!!!!!!!--------------##########\n",
      "im else!!!!!!!!--------------##########\n",
      "im else!!!!!!!!--------------##########\n",
      "im else!!!!!!!!--------------##########\n",
      "im else!!!!!!!!--------------##########\n",
      "im else!!!!!!!!--------------##########\n",
      "im else!!!!!!!!--------------##########\n",
      "im else!!!!!!!!--------------##########\n",
      "im else!!!!!!!!--------------##########\n",
      "im else!!!!!!!!--------------##########\n",
      "im else!!!!!!!!--------------##########\n",
      "im else!!!!!!!!--------------##########\n",
      "im else!!!!!!!!--------------##########\n",
      "im else!!!!!!!!--------------##########\n",
      "im else!!!!!!!!--------------##########\n",
      "im else!!!!!!!!--------------##########\n",
      "im else!!!!!!!!--------------##########\n",
      "im else!!!!!!!!--------------##########\n",
      "im else!!!!!!!!--------------##########\n",
      "im else!!!!!!!!--------------##########\n",
      "im else!!!!!!!!--------------##########\n",
      "im else!!!!!!!!--------------##########\n",
      "im else!!!!!!!!--------------##########\n",
      "im else!!!!!!!!--------------##########\n",
      "im else!!!!!!!!--------------##########\n",
      "im else!!!!!!!!--------------##########\n",
      "im else!!!!!!!!--------------##########\n",
      "im else!!!!!!!!--------------##########\n",
      "im else!!!!!!!!--------------##########\n",
      "im else!!!!!!!!--------------##########\n",
      "im else!!!!!!!!--------------##########\n",
      "im else!!!!!!!!--------------##########\n",
      "im else!!!!!!!!--------------##########\n",
      "im else!!!!!!!!--------------##########\n",
      "im else!!!!!!!!--------------##########\n",
      "im else!!!!!!!!--------------##########\n",
      "im else!!!!!!!!--------------##########\n",
      "im else!!!!!!!!--------------##########\n",
      "im else!!!!!!!!--------------##########\n",
      "im else!!!!!!!!--------------##########\n",
      "im else!!!!!!!!--------------##########\n",
      "im else!!!!!!!!--------------##########\n",
      "im else!!!!!!!!--------------##########\n",
      "im else!!!!!!!!--------------##########\n",
      "im else!!!!!!!!--------------##########\n",
      "im else!!!!!!!!--------------##########\n",
      "im else!!!!!!!!--------------##########\n",
      "im else!!!!!!!!--------------##########\n",
      "im else!!!!!!!!--------------##########\n",
      "im else!!!!!!!!--------------##########\n",
      "im else!!!!!!!!--------------##########\n",
      "im else!!!!!!!!--------------##########\n",
      "im else!!!!!!!!--------------##########\n",
      "im else!!!!!!!!--------------##########\n",
      "im else!!!!!!!!--------------##########\n",
      "im else!!!!!!!!--------------##########\n",
      "im else!!!!!!!!--------------##########\n",
      "im else!!!!!!!!--------------##########\n",
      "im else!!!!!!!!--------------##########\n",
      "im else!!!!!!!!--------------##########\n",
      "im else!!!!!!!!--------------##########\n",
      "im else!!!!!!!!--------------##########\n",
      "im else!!!!!!!!--------------##########\n",
      "im else!!!!!!!!--------------##########\n",
      "im else!!!!!!!!--------------##########\n",
      "im else!!!!!!!!--------------##########\n",
      "im else!!!!!!!!--------------##########\n",
      "im else!!!!!!!!--------------##########\n",
      "im else!!!!!!!!--------------##########\n",
      "im else!!!!!!!!--------------##########\n",
      "im else!!!!!!!!--------------##########\n",
      "im else!!!!!!!!--------------##########\n",
      "im else!!!!!!!!--------------##########\n",
      "im else!!!!!!!!--------------##########\n",
      "im else!!!!!!!!--------------##########\n",
      "im else!!!!!!!!--------------##########\n",
      "im else!!!!!!!!--------------##########\n",
      "im else!!!!!!!!--------------##########\n",
      "im else!!!!!!!!--------------##########\n",
      "im else!!!!!!!!--------------##########\n",
      "im else!!!!!!!!--------------##########\n",
      "im else!!!!!!!!--------------##########\n",
      "im else!!!!!!!!--------------##########\n",
      "im else!!!!!!!!--------------##########\n",
      "im else!!!!!!!!--------------##########\n",
      "im else!!!!!!!!--------------##########\n",
      "im else!!!!!!!!--------------##########\n",
      "im else!!!!!!!!--------------##########\n",
      "im else!!!!!!!!--------------##########\n",
      "im else!!!!!!!!--------------##########\n",
      "im else!!!!!!!!--------------##########\n",
      "im else!!!!!!!!--------------##########\n",
      "im else!!!!!!!!--------------##########\n",
      "im else!!!!!!!!--------------##########\n",
      "im else!!!!!!!!--------------##########\n",
      "im else!!!!!!!!--------------##########\n",
      "im else!!!!!!!!--------------##########\n",
      "im else!!!!!!!!--------------##########\n",
      "im else!!!!!!!!--------------##########\n",
      "im else!!!!!!!!--------------##########\n",
      "im else!!!!!!!!--------------##########\n",
      "im else!!!!!!!!--------------##########\n",
      "im else!!!!!!!!--------------##########\n",
      "im else!!!!!!!!--------------##########\n",
      "im else!!!!!!!!--------------##########\n",
      "im else!!!!!!!!--------------##########\n",
      "im else!!!!!!!!--------------##########\n",
      "im else!!!!!!!!--------------##########\n",
      "im else!!!!!!!!--------------##########\n",
      "im else!!!!!!!!--------------##########\n",
      "im else!!!!!!!!--------------##########\n",
      "im else!!!!!!!!--------------##########\n",
      "im else!!!!!!!!--------------##########\n",
      "im else!!!!!!!!--------------##########\n",
      "im else!!!!!!!!--------------##########\n",
      "im else!!!!!!!!--------------##########\n",
      "im else!!!!!!!!--------------##########\n",
      "im else!!!!!!!!--------------##########\n",
      "im else!!!!!!!!--------------##########\n",
      "im else!!!!!!!!--------------##########\n",
      "im else!!!!!!!!--------------##########\n",
      "im else!!!!!!!!--------------##########\n",
      "im else!!!!!!!!--------------##########\n",
      "im else!!!!!!!!--------------##########\n",
      "im else!!!!!!!!--------------##########\n",
      "im else!!!!!!!!--------------##########\n",
      "im else!!!!!!!!--------------##########\n",
      "im else!!!!!!!!--------------##########\n",
      "im else!!!!!!!!--------------##########\n",
      "im else!!!!!!!!--------------##########\n",
      "im else!!!!!!!!--------------##########\n",
      "im else!!!!!!!!--------------##########\n",
      "im else!!!!!!!!--------------##########\n",
      "im else!!!!!!!!--------------##########\n",
      "im else!!!!!!!!--------------##########\n",
      "im else!!!!!!!!--------------##########\n",
      "im else!!!!!!!!--------------##########\n",
      "im else!!!!!!!!--------------##########\n",
      "im else!!!!!!!!--------------##########\n",
      "im else!!!!!!!!--------------##########\n",
      "im else!!!!!!!!--------------##########\n",
      "im else!!!!!!!!--------------##########\n",
      "im else!!!!!!!!--------------##########\n",
      "im else!!!!!!!!--------------##########\n",
      "im else!!!!!!!!--------------##########\n",
      "im else!!!!!!!!--------------##########\n",
      "im else!!!!!!!!--------------##########\n",
      "im else!!!!!!!!--------------##########\n",
      "im else!!!!!!!!--------------##########\n",
      "im else!!!!!!!!--------------##########\n",
      "im else!!!!!!!!--------------##########\n",
      "im else!!!!!!!!--------------##########\n",
      "im else!!!!!!!!--------------##########\n",
      "im else!!!!!!!!--------------##########\n",
      "im else!!!!!!!!--------------##########\n",
      "im else!!!!!!!!--------------##########\n",
      "im else!!!!!!!!--------------##########\n",
      "im else!!!!!!!!--------------##########\n",
      "im else!!!!!!!!--------------##########\n",
      "im else!!!!!!!!--------------##########\n",
      "im else!!!!!!!!--------------##########\n",
      "im else!!!!!!!!--------------##########\n",
      "im else!!!!!!!!--------------##########\n",
      "im else!!!!!!!!--------------##########\n",
      "im else!!!!!!!!--------------##########\n"
     ]
    }
   ],
   "source": [
    "sss = A_star_d('A',h_min_dis,get_gscore_dist)"
   ]
  },
  {
   "cell_type": "code",
   "execution_count": 123,
   "metadata": {},
   "outputs": [
    {
     "data": {
      "text/plain": [
       "'AEBEDCADBCED'"
      ]
     },
     "execution_count": 123,
     "metadata": {},
     "output_type": "execute_result"
    }
   ],
   "source": [
    "ss"
   ]
  },
  {
   "cell_type": "code",
   "execution_count": 192,
   "metadata": {},
   "outputs": [
    {
     "data": {
      "text/plain": [
       "['ABEDADBCBEAD', 'ABEDADBCBEDA', 'ABEDADBCEABD']"
      ]
     },
     "execution_count": 192,
     "metadata": {},
     "output_type": "execute_result"
    }
   ],
   "source": [
    "sss"
   ]
  },
  {
   "cell_type": "code",
   "execution_count": 193,
   "metadata": {},
   "outputs": [
    {
     "data": {
      "text/plain": [
       "[[0, 654, 673, 664, 277],\n",
       " [654, 0, 776, 764, 377],\n",
       " [673, 776, 0, 786, 399],\n",
       " [664, 764, 786, 0, 387],\n",
       " [277, 377, 399, 387, 0]]"
      ]
     },
     "execution_count": 193,
     "metadata": {},
     "output_type": "execute_result"
    }
   ],
   "source": [
    "Distance"
   ]
  },
  {
   "cell_type": "code",
   "execution_count": 194,
   "metadata": {},
   "outputs": [
    {
     "name": "stdout",
     "output_type": "stream",
     "text": [
      "ABEDADBCBEAD 6380\n",
      "ABEDADBCBEDA 6490\n",
      "ABEDADBCEABD 6380\n"
     ]
    }
   ],
   "source": [
    "for i in sss:\n",
    "    startttt = 'A'\n",
    "    dis = 0\n",
    "    for s in i:\n",
    "        dis = dis + get_gscore_dist(startttt,s)\n",
    "        startttt = s\n",
    "    print(i,dis)\n",
    "    "
   ]
  },
  {
   "cell_type": "code",
   "execution_count": 22,
   "metadata": {},
   "outputs": [
    {
     "data": {
      "text/plain": [
       "{1: {1: 'A', 2: 'E', 3: 'D', 4: 'C', 5: 'A'},\n",
       " 2: {1: 'B', 2: 'E', 3: 'A', 4: 'C', 5: 'D'},\n",
       " 3: {1: 'B', 2: 'A', 3: 'B', 4: 'C', 5: 'E'},\n",
       " 4: {1: 'D', 2: 'A', 3: 'D', 4: 'B', 5: 'D'},\n",
       " 5: {1: 'B', 2: 'E', 3: 'C', 4: 'B', 5: 'D'}}"
      ]
     },
     "execution_count": 22,
     "metadata": {},
     "output_type": "execute_result"
    }
   ],
   "source": [
    "W_"
   ]
  },
  {
   "cell_type": "code",
   "execution_count": null,
   "metadata": {},
   "outputs": [],
   "source": [
    "hu_table = np.ones((5,5))\n",
    "initnode = node('A',hu_table,gscore=0,fscore=25.0)\n",
    "table,fscore = h_min_dis(initnode,'A')\n",
    "start_node = node('A',table,gscore=0,fscore=fscore,parent='A')\n",
    "close_set = {}\n",
    "open_set = set()\n",
    "open_set.add(start_node)\n",
    "cities = ['A','B','C','D','E']\n",
    "while len(open_set)!=0:\n",
    "    min_huris = float('inf')\n",
    "#         print('----starting choose lowest fscore----')\n",
    "    for nodes in open_set:\n",
    "#             print(nodes.parent,nodes.fscore)\n",
    "        if (nodes.fscore)<min_huris:\n",
    "            temp = nodes\n",
    "            min_huris = temp.fscore\n",
    "    cur_node = temp          \n",
    "    if goal_test(cur_node): \n",
    "#             print(close_set)\n",
    "        print(cur_node.parent)\n",
    "    open_set.remove(cur_node)\n",
    "#         print('choose=',cur_node.parent,' hur=',cur_node.fscore)\n",
    "    for city in cities:\n",
    "        if city == cur_node.cur_factory: continue\n",
    "        table,fscore = h_min_dis(cur_node,city)\n",
    "#             print('test fscore ',cur_node.parent+city,fscore+cur_node.gscore+ge(cur_node.cur_factory,city), 'cur fscore=',cur_node.fscore)\n",
    "#             if fscore+cur_node.gscore+1 >= cur_node.fscore: continue\n",
    "        if get_close(table) in close_set:\n",
    "                if close_set[get_close(table)] < cur_node.gscore+ge(cur_node.cur_factory,city):\n",
    "#                     print('useful')\n",
    "                    continue\n",
    "            close_set[get_close(table)] = cur_node.gscore+get_gscore_dist(cur_node.cur_factory,city)\n",
    "        new_node = node(city,table,gscore=cur_node.gscore+get_gscore_dist(cur_node.cur_factory,city),fscore=fscore+cur_node.gscore+get_gscore_dist(cur_node.cur_factory,city),parent=cur_node.parent+city)\n",
    "            print('----adding new node----')\n",
    "            print(new_node.parent,new_node.fscore)\n",
    "            print(new_node.last_table)\n",
    "            print()\n",
    "        open_set.add(new_node)\n",
    "        close_set[get_close(cur_node.last_table)]=cur_node.gscore\n",
    "#     print(close_set)"
   ]
  },
  {
   "cell_type": "code",
   "execution_count": null,
   "metadata": {},
   "outputs": [],
   "source": [
    "close_set"
   ]
  },
  {
   "cell_type": "code",
   "execution_count": 112,
   "metadata": {
    "collapsed": true
   },
   "outputs": [],
   "source": [
    "o = set()\n",
    "hu_table = np.ones((5,5))\n",
    "initnode = node('A',hu_table,gscore=0,fscore=25.0)\n",
    "o.add(initnode)\n",
    "sssec = node('A',hu_table,gscore=0,fscore=25.0)"
   ]
  },
  {
   "cell_type": "code",
   "execution_count": 113,
   "metadata": {},
   "outputs": [
    {
     "data": {
      "text/plain": [
       "True"
      ]
     },
     "execution_count": 113,
     "metadata": {},
     "output_type": "execute_result"
    }
   ],
   "source": [
    "sssec in o"
   ]
  },
  {
   "cell_type": "code",
   "execution_count": 61,
   "metadata": {},
   "outputs": [
    {
     "data": {
      "text/plain": [
       "<__main__.node at 0x109ba4128>"
      ]
     },
     "execution_count": 61,
     "metadata": {},
     "output_type": "execute_result"
    }
   ],
   "source": [
    "initnode"
   ]
  },
  {
   "cell_type": "code",
   "execution_count": 105,
   "metadata": {},
   "outputs": [
    {
     "data": {
      "text/plain": [
       "True"
      ]
     },
     "execution_count": 105,
     "metadata": {},
     "output_type": "execute_result"
    }
   ],
   "source": [
    "np.array_equal(np.ones((5,5)),np.ones((5,5)))"
   ]
  },
  {
   "cell_type": "code",
   "execution_count": null,
   "metadata": {
    "collapsed": true
   },
   "outputs": [],
   "source": []
  }
 ],
 "metadata": {
  "kernelspec": {
   "display_name": "Python 3",
   "language": "python",
   "name": "python3"
  },
  "language_info": {
   "codemirror_mode": {
    "name": "ipython",
    "version": 3
   },
   "file_extension": ".py",
   "mimetype": "text/x-python",
   "name": "python",
   "nbconvert_exporter": "python",
   "pygments_lexer": "ipython3",
   "version": "3.6.3"
  }
 },
 "nbformat": 4,
 "nbformat_minor": 2
}
