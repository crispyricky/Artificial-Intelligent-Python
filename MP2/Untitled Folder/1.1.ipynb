{
 "cells": [
  {
   "cell_type": "code",
   "execution_count": 252,
   "metadata": {
    "collapsed": true
   },
   "outputs": [],
   "source": [
    "import numpy as np"
   ]
  },
  {
   "cell_type": "code",
   "execution_count": 319,
   "metadata": {},
   "outputs": [],
   "source": [
    "Distance = [[0,1064,673,1401,277],\n",
    "            [1064,0,958,1934,377],\n",
    "            [673,957,0,1001,399],\n",
    "            [1401,1934,1001,0,387],\n",
    "            [277,377,399,387,0]]\n",
    "W_ = {1:{1:'A',2:'E',3:'D',4:'C',5:'A'},\n",
    "        2:{1:'B',2:'E',3:'A',4:'C',5:'D'},\n",
    "        3:{1:'B',2:'A',3:'B',4:'C',5:'E'},\n",
    "        4:{1:'D',2:'A',3:'D',4:'B',5:'D'},\n",
    "        5:{1:'B',2:'E',3:'C',4:'B',5:'D'}}\n",
    "Starting_Point = ['A','B','C','D','E']\n",
    "fac_dict = {'A':0, 'B':1, 'C':2, 'D':3, 'E':4}"
   ]
  },
  {
   "cell_type": "markdown",
   "metadata": {},
   "source": [
    "MP2\n",
    "===\n",
    "You are the owner of a smart manufacturing company, with factories in five different cities: Atlanta, Boston, Chicago, Denver, and Edmonton. Each factory makes a different type of component: for convenience, let's call the components A, B, C, D, and E. The locations of your factories are a bit inconvenient to one another; the following table gives the distance (in miles) from one factory to another.\n",
    "\n",
    "Distance | A | B | C | D | E\n",
    "---------|---|---|---|---|---\n",
    "A| 0 | 1064| 673 | 1401 | 277\n",
    "B|1064| 0|\t958|\t1934|\t337\n",
    "C|673|958|0|\t    1001|\t    399\n",
    "D|1401| 1934| 1001\t|0|387\n",
    "E|277|\t337|\t399|\t387|\t0\n",
    "            \n",
    "---\n",
    "From those components, you manufacture five different types of widgets. Each widget is composed of five widgets of different types, as follows:\n",
    "\n",
    "* Widget 1 = Components AEDCA\n",
    "* Widget 2 = Components BEACD\n",
    "* Widget 3 = Components BABCE\n",
    "* Widget 4 = Components DADBD\n",
    "* Widget 5 = Components BECBD\n",
    "---\n",
    "The goal of this assignment is to implement A* search that will find two different factory sequences:\n",
    "\n",
    "* First, find the factory sequence with the smallest number of stops (the smallest number of factories visited).\n",
    "* Second, find the factory sequence with the smallest number of miles traveled.\n",
    "\n",
    "Solve this problem using A* search. Your report should specify your state representation, actions, and your heuristic. The heuristic need not be very smart, but it needs to be non-zero, and it needs to be admissible and consistent."
   ]
  },
  {
   "cell_type": "code",
   "execution_count": 320,
   "metadata": {},
   "outputs": [],
   "source": [
    "class node():\n",
    "    def __init__(self, cur_factory,last_table, gscore=float('inf'),fscore=float('inf'), finished_factory=set(), parent=''):\n",
    "        self.gscore = gscore\n",
    "        self.last_table = last_table\n",
    "        self.cur_factory = cur_factory\n",
    "        self.parent = parent\n",
    "        self.fscore = fscore\n",
    "        self.finished_factory = finished_factory"
   ]
  },
  {
   "cell_type": "code",
   "execution_count": 313,
   "metadata": {},
   "outputs": [],
   "source": [
    "def h_min_dis(node,factory):\n",
    "    table = node.last_table.copy()\n",
    "    for num, i in enumerate (table):\n",
    "        if i[0] == 1:\n",
    "            if W_[num+1][1] == factory: i[0] = i[0] - 1\n",
    "            continue\n",
    "        elif i[1] == 1:\n",
    "            if W_[num+1][2] == factory: i[1] = i[1] - 1 \n",
    "            continue\n",
    "        elif i[2] == 1:\n",
    "            if W_[num+1][3] == factory: i[2] = i[2] - 1 \n",
    "            continue\n",
    "        elif i[3] == 1:\n",
    "            if W_[num+1][4] == factory: i[3] = i[3] - 1\n",
    "            continue    \n",
    "        elif i[4] == 1:\n",
    "            if W_[num+1][5] == factory: i[4] = i[4] - 1 \n",
    "            continue\n",
    "    fscore = Distance[fac_dict[node.cur_factory]][fac_dict[factory]]\n",
    "    return table,fscore\n",
    "    \n",
    "def h_min_step(node,factory):\n",
    "    '''\n",
    "    calculate the huristic of a certain step of node\n",
    "    '''\n",
    "    table = node.last_table.copy()\n",
    "    for num, i in enumerate (table):\n",
    "        if i[0] == 1:\n",
    "            if W_[num+1][1] == factory: i[0] = i[0] - 1\n",
    "            continue\n",
    "        elif i[1] == 1:\n",
    "            if W_[num+1][2] == factory: i[1] = i[1] - 1 \n",
    "            continue\n",
    "        elif i[2] == 1:\n",
    "            if W_[num+1][3] == factory: i[2] = i[2] - 1 \n",
    "            continue\n",
    "        elif i[3] == 1:\n",
    "            if W_[num+1][4] == factory: i[3] = i[3] - 1\n",
    "            continue    \n",
    "        elif i[4] == 1:\n",
    "            if W_[num+1][5] == factory: i[4] = i[4] - 1 \n",
    "            continue\n",
    "    fscore = table.sum()\n",
    "    return table,fscore\n",
    "            \n",
    "def goal_test(node):\n",
    "    if node.fscore == 0: return True\n",
    "    return False"
   ]
  },
  {
   "cell_type": "markdown",
   "metadata": {},
   "source": [
    "```python\n",
    "function A*(start, goal)\n",
    "    // The set of nodes already evaluated\n",
    "    closedSet := {}\n",
    "\n",
    "    // The set of currently discovered nodes that are not evaluated yet.\n",
    "    // Initially, only the start node is known.\n",
    "    openSet := {start}\n",
    "\n",
    "    // For each node, which node it can most efficiently be reached from.\n",
    "    // If a node can be reached from many nodes, cameFrom will eventually contain the\n",
    "    // most efficient previous step.\n",
    "    cameFrom := an empty map\n",
    "\n",
    "    // For each node, the cost of getting from the start node to that node.\n",
    "    gScore := map with default value of Infinity\n",
    "\n",
    "    // The cost of going from start to start is zero.\n",
    "    gScore[start] := 0\n",
    "\n",
    "    // For each node, the total cost of getting from the start node to the goal\n",
    "    // by passing by that node. That value is partly known, partly heuristic.\n",
    "    fScore := map with default value of Infinity\n",
    "\n",
    "    // For the first node, that value is completely heuristic.\n",
    "    fScore[start] := heuristic_cost_estimate(start, goal)\n",
    "\n",
    "    while openSet is not empty\n",
    "        current := the node in openSet having the lowest fScore[] value\n",
    "        if current = goal\n",
    "            return reconstruct_path(cameFrom, current)\n",
    "\n",
    "        openSet.Remove(current)\n",
    "        closedSet.Add(current)\n",
    "\n",
    "        for each neighbor of current\n",
    "            if neighbor in closedSet\n",
    "                continue\t\t// Ignore the neighbor which is already evaluated.\n",
    "\n",
    "            if neighbor not in openSet\t// Discover a new node\n",
    "                openSet.Add(neighbor)\n",
    "            \n",
    "            // The distance from start to a neighbor\n",
    "            //the \"dist_between\" function may vary as per the solution requirements.\n",
    "            tentative_gScore := gScore[current] + dist_between(current, neighbor)\n",
    "            if tentative_gScore >= gScore[neighbor]\n",
    "                continue\t\t// This is not a better path.\n",
    "\n",
    "            // This path is the best until now. Record it!\n",
    "            cameFrom[neighbor] := current\n",
    "            gScore[neighbor] := tentative_gScore\n",
    "            fScore[neighbor] := gScore[neighbor] + heuristic_cost_estimate(neighbor, goal) \n",
    "\n",
    "    return failure\n",
    "\n",
    "function reconstruct_path(cameFrom, current)\n",
    "    total_path := [current]\n",
    "    while current in cameFrom.Keys:\n",
    "        current := cameFrom[current]\n",
    "        total_path.append(current)\n",
    "    return total_path\n",
    "```"
   ]
  },
  {
   "cell_type": "code",
   "execution_count": 322,
   "metadata": {},
   "outputs": [],
   "source": [
    "def A_star(start,hu):\n",
    "    hu_table = np.ones((5,5))\n",
    "    initnode = node(start,hu_table,gscore=0,fscore=25.0)\n",
    "    table,fscore = hu(initnode,start)\n",
    "    start_node = node(start,table,gscore=0,fscore=fscore,parent=start)\n",
    "    close_set = set()\n",
    "    open_set = set()\n",
    "    open_set.add(start_node)\n",
    "    cities = ['A','B','C','D','E']\n",
    "    while len(open_set)!=0:\n",
    "        min_huris = float('inf')\n",
    "        for nodes in open_set:\n",
    "            if nodes.fscore<min_huris:\n",
    "                temp = nodes\n",
    "        cur_node = temp          \n",
    "        if goal_test(cur_node): return cur_node.parent\n",
    "        close_set.add(cur_node)\n",
    "        open_set.remove(cur_node)\n",
    "        for city in cities:\n",
    "            if city == cur_node.cur_factory: continue\n",
    "            table,fscore = hu(cur_node,city)\n",
    "            if fscore == cur_node.fscore: continue\n",
    "            new_node = node(city,table,gscore=cur_node.gscore+1,fscore=fscore,parent=cur_node.parent+city)\n",
    "            open_set.add(new_node)\n",
    "    return"
   ]
  },
  {
   "cell_type": "code",
   "execution_count": 323,
   "metadata": {},
   "outputs": [
    {
     "name": "stdout",
     "output_type": "stream",
     "text": [
      "for starting = A\n",
      "temp= A\n",
      "len= 1\n",
      "\n",
      "for starting = B\n",
      "temp= B\n",
      "len= 1\n",
      "\n",
      "for starting = C\n",
      "temp= C\n",
      "len= 1\n",
      "\n",
      "for starting = D\n",
      "temp= D\n",
      "len= 1\n",
      "\n",
      "for starting = E\n",
      "temp= E\n",
      "len= 1\n",
      "\n"
     ]
    }
   ],
   "source": [
    "for t in Starting_Point:\n",
    "    lenn = 1000\n",
    "    print('for starting =',t)\n",
    "    for i in range(100):\n",
    "        retv = A_star(t,h_min_dis)\n",
    "        if (len(retv) < lenn):\n",
    "            lenn = len(retv)\n",
    "            temp = retv\n",
    "    print('temp=',temp)\n",
    "    print('len=',lenn)\n",
    "    print()"
   ]
  },
  {
   "cell_type": "code",
   "execution_count": 318,
   "metadata": {},
   "outputs": [
    {
     "data": {
      "text/plain": [
       "['A', 'B', 'D']"
      ]
     },
     "execution_count": 318,
     "metadata": {},
     "output_type": "execute_result"
    }
   ],
   "source": [
    "Starting_Point"
   ]
  },
  {
   "cell_type": "code",
   "execution_count": null,
   "metadata": {
    "collapsed": true
   },
   "outputs": [],
   "source": []
  }
 ],
 "metadata": {
  "kernelspec": {
   "display_name": "Python 3",
   "language": "python",
   "name": "python3"
  },
  "language_info": {
   "codemirror_mode": {
    "name": "ipython",
    "version": 3
   },
   "file_extension": ".py",
   "mimetype": "text/x-python",
   "name": "python",
   "nbconvert_exporter": "python",
   "pygments_lexer": "ipython3",
   "version": "3.6.3"
  }
 },
 "nbformat": 4,
 "nbformat_minor": 2
}
