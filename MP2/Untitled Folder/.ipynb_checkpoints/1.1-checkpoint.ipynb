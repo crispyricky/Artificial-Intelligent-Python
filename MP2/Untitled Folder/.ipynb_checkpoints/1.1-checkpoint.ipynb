{
 "cells": [
  {
   "cell_type": "code",
   "execution_count": null,
   "metadata": {
    "collapsed": true
   },
   "outputs": [],
   "source": []
  },
  {
   "cell_type": "code",
   "execution_count": 10,
   "metadata": {},
   "outputs": [],
   "source": [
    "Distance = [[0,1064,673,1401,277],\n",
    "            [1064,0,958,1934,377],\n",
    "            [673,957,0,1001,399],\n",
    "            [1401,1934,1001,0,387],\n",
    "            [277,377,399,387,0]]\n",
    "W_1 = {1:'A',2:'E',3:'D',4:'C',5:'A'}\n",
    "W_2 = {1:'B',2:'E',3:'A',4:'C',5:'D'}\n",
    "W_3 = {1:'B',2:'A',3:'B',4:'C',5:'E'}\n",
    "W_4 = {1:'D',2:'A',3:'D',4:'B',5:'D'}\n",
    "W_5 = {1:'B',2:'E',3:'C',4:'B',5:'D'}\n",
    "Starting_Point = ['A','B','D']"
   ]
  },
  {
   "cell_type": "markdown",
   "metadata": {},
   "source": [
    "MP2\n",
    "===\n",
    "You are the owner of a smart manufacturing company, with factories in five different cities: Atlanta, Boston, Chicago, Denver, and Edmonton. Each factory makes a different type of component: for convenience, let's call the components A, B, C, D, and E. The locations of your factories are a bit inconvenient to one another; the following table gives the distance (in miles) from one factory to another.\n",
    "\n",
    "Distance | A | B | C | D | E\n",
    "---------|---|---|---|---|---\n",
    "A| 0 | 1064| 673 | 1401 | 277\n",
    "B|1064| 0|\t958|\t1934|\t337\n",
    "C|673|958|0|\t    1001|\t    399\n",
    "D|1401| 1934| 1001\t|0|387\n",
    "E|277|\t337|\t399|\t387|\t0\n",
    "            \n",
    "---\n",
    "From those components, you manufacture five different types of widgets. Each widget is composed of five widgets of different types, as follows:\n",
    "\n",
    "* Widget 1 = Components AEDCA\n",
    "* Widget 2 = Components BEACD\n",
    "* Widget 3 = Components BABCE\n",
    "* Widget 4 = Components DADBD\n",
    "* Widget 5 = Components BECBD\n",
    "---\n",
    "The goal of this assignment is to implement A* search that will find two different factory sequences:\n",
    "\n",
    "* First, find the factory sequence with the smallest number of stops (the smallest number of factories visited).\n",
    "* Second, find the factory sequence with the smallest number of miles traveled.\n",
    "\n",
    "Solve this problem using A* search. Your report should specify your state representation, actions, and your heuristic. The heuristic need not be very smart, but it needs to be non-zero, and it needs to be admissible and consistent."
   ]
  },
  {
   "cell_type": "code",
   "execution_count": null,
   "metadata": {
    "collapsed": true
   },
   "outputs": [],
   "source": [
    "class node():\n",
    "    \n",
    "    "
   ]
  },
  {
   "cell_type": "code",
   "execution_count": 9,
   "metadata": {},
   "outputs": [],
   "source": [
    "def A_star(hue):\n",
    "    close_set = {}\n",
    "    return"
   ]
  },
  {
   "cell_type": "code",
   "execution_count": null,
   "metadata": {},
   "outputs": [],
   "source": []
  },
  {
   "cell_type": "code",
   "execution_count": 15,
   "metadata": {},
   "outputs": [
    {
     "ename": "KeyError",
     "evalue": "2",
     "output_type": "error",
     "traceback": [
      "\u001b[0;31m---------------------------------------------------------------------------\u001b[0m",
      "\u001b[0;31mKeyError\u001b[0m                                  Traceback (most recent call last)",
      "\u001b[0;32m<ipython-input-15-82fc9ba35b24>\u001b[0m in \u001b[0;36m<module>\u001b[0;34m()\u001b[0m\n\u001b[0;32m----> 1\u001b[0;31m \u001b[0mtest\u001b[0m\u001b[0;34m[\u001b[0m\u001b[0;36m2\u001b[0m\u001b[0;34m]\u001b[0m\u001b[0;34m\u001b[0m\u001b[0m\n\u001b[0m",
      "\u001b[0;31mKeyError\u001b[0m: 2"
     ]
    }
   ],
   "source": []
  },
  {
   "cell_type": "code",
   "execution_count": null,
   "metadata": {
    "collapsed": true
   },
   "outputs": [],
   "source": []
  }
 ],
 "metadata": {
  "kernelspec": {
   "display_name": "Python 3",
   "language": "python",
   "name": "python3"
  },
  "language_info": {
   "codemirror_mode": {
    "name": "ipython",
    "version": 3
   },
   "file_extension": ".py",
   "mimetype": "text/x-python",
   "name": "python",
   "nbconvert_exporter": "python",
   "pygments_lexer": "ipython3",
   "version": "3.6.3"
  }
 },
 "nbformat": 4,
 "nbformat_minor": 2
}
