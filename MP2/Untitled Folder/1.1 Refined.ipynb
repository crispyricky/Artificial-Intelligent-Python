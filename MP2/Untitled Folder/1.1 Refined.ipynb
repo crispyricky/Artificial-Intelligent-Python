{
 "cells": [
  {
   "cell_type": "code",
   "execution_count": 14,
   "metadata": {
    "collapsed": true
   },
   "outputs": [],
   "source": [
    "import numpy as np\n",
    "import heapq\n",
    "Distance = [[0,1064,673,1401,277],\n",
    "            [1064,0,958,1934,377],\n",
    "            [673,957,0,1001,399],\n",
    "            [1401,1934,1001,0,387],\n",
    "            [277,377,399,387,0]]\n",
    "W_ = {1:{1:'A',2:'E',3:'D',4:'C',5:'A'},\n",
    "        2:{1:'B',2:'E',3:'A',4:'C',5:'D'},\n",
    "        3:{1:'B',2:'A',3:'B',4:'C',5:'E'},\n",
    "        4:{1:'D',2:'A',3:'D',4:'B',5:'D'},\n",
    "        5:{1:'B',2:'E',3:'C',4:'B',5:'D'}}\n",
    "Starting_Point = ['A','B','C','D','E']\n",
    "fac_dict = {'A':0, 'B':1, 'C':2, 'D':3, 'E':4}\n",
    "mp ={}"
   ]
  },
  {
   "cell_type": "code",
   "execution_count": 15,
   "metadata": {},
   "outputs": [],
   "source": [
    "def extract_distance():\n",
    "    for i in Starting_Point:\n",
    "        dd = 20000\n",
    "        for j in Starting_Point:\n",
    "            if get_gscore_dist(i,j)<dd and i != j:\n",
    "                dd = get_gscore_dist(i,j)\n",
    "                mp[i]=j\n",
    "#     print(mp)\n",
    "    for i in Starting_Point:\n",
    "        for j in Starting_Point:\n",
    "            if get_gscore_dist(i,j)>(get_gscore_dist(i,mp[i])+get_gscore_dist(mp[i],j)):\n",
    "                Distance[fac_dict[i]][fac_dict[j]]=get_gscore_dist(i,mp[i])+get_gscore_dist(mp[i],j)\n",
    "#     print(Distance)\n",
    "def backup_distance():\n",
    "    Distance = [[0,1064,673,1401,277],\n",
    "                [1064,0,958,1934,377],\n",
    "                [673,957,0,1001,399],\n",
    "                [1401,1934,1001,0,387],\n",
    "                [277,377,399,387,0]]"
   ]
  },
  {
   "cell_type": "code",
   "execution_count": 16,
   "metadata": {
    "collapsed": true
   },
   "outputs": [],
   "source": [
    "class node():\n",
    "    def __init__(self, cur_factory,last_table, gscore=float('inf'),fscore=float('inf'), finished_factory=set(), parent=''):\n",
    "        self.gscore = gscore\n",
    "        self.last_table = last_table\n",
    "        self.cur_factory = cur_factory\n",
    "        self.parent = parent\n",
    "        self.fscore = fscore\n",
    "        self.finished_factory = finished_factory\n",
    "    \n",
    "    def __key(self):\n",
    "        return (self.parent)\n",
    "    \n",
    "    def __eq__(self, other):\n",
    "        return (np.array_equal(self.last_table,other.last_table) and self.gscore <= other.gscore)\n",
    "    \n",
    "    def __lt__(self, other):\n",
    "        return self.fscore < other.fscore\n",
    "    \n",
    "    def __hash__(self):\n",
    "        return hash(self.__key())"
   ]
  },
  {
   "cell_type": "code",
   "execution_count": 17,
   "metadata": {
    "collapsed": true
   },
   "outputs": [],
   "source": [
    "def h_min_dis(node,factory):\n",
    "    table = node.last_table.copy()\n",
    "    temp = node.cur_factory\n",
    "    table2 = table.copy()\n",
    "    table2 = table2.T\n",
    "    fscore = 0\n",
    "    for num, i in enumerate (table):\n",
    "        if table2[num].sum() != 0:\n",
    "            fscore=fscore+Distance[fac_dict[temp]][fac_dict[mp[temp]]]\n",
    "            temp = mp[temp]\n",
    "        if i[0] == 1:\n",
    "            if W_[num+1][1] == factory: i[0] = i[0] - 1\n",
    "            continue\n",
    "        elif i[1] == 1:\n",
    "            if W_[num+1][2] == factory: i[1] = i[1] - 1 \n",
    "            continue\n",
    "        elif i[2] == 1:\n",
    "            if W_[num+1][3] == factory: i[2] = i[2] - 1 \n",
    "            continue\n",
    "        elif i[3] == 1:\n",
    "            if W_[num+1][4] == factory: i[3] = i[3] - 1\n",
    "            continue    \n",
    "        elif i[4] == 1:\n",
    "            if W_[num+1][5] == factory: i[4] = i[4] - 1 \n",
    "            continue   \n",
    "    return table,fscore\n",
    "#     table = node.last_table.copy()\n",
    "#     for num, i in enumerate (table):\n",
    "#         if i[0] == 1:\n",
    "#             if W_[num+1][1] == factory: i[0] = i[0] - 1\n",
    "#             continue\n",
    "#         elif i[1] == 1:\n",
    "#             if W_[num+1][2] == factory: i[1] = i[1] - 1 \n",
    "#             continue\n",
    "#         elif i[2] == 1:\n",
    "#             if W_[num+1][3] == factory: i[2] = i[2] - 1 \n",
    "#             continue\n",
    "#         elif i[3] == 1:\n",
    "#             if W_[num+1][4] == factory: i[3] = i[3] - 1\n",
    "#             continue    \n",
    "#         elif i[4] == 1:\n",
    "#             if W_[num+1][5] == factory: i[4] = i[4] - 1 \n",
    "#             continue\n",
    "#     fscore = Distance[fac_dict[node.cur_factory]][fac_dict[factory]]\n",
    "#     return table,fscore                                      \n",
    "    \n",
    "def h_min_step(node,factory):\n",
    "    '''\n",
    "    calculate the huristic of a certain step of node\n",
    "    '''\n",
    "    table = node.last_table.copy()\n",
    "    table2 = table.copy()\n",
    "    table2 = table2.T\n",
    "    fscore = 0\n",
    "    for num, i in enumerate (table):\n",
    "        if table2[num].sum() != 0:\n",
    "            fscore=fscore+1\n",
    "        if i[0] == 1:\n",
    "            if W_[num+1][1] == factory: i[0] = i[0] - 1\n",
    "            continue\n",
    "        elif i[1] == 1:\n",
    "            if W_[num+1][2] == factory: i[1] = i[1] - 1 \n",
    "            continue\n",
    "        elif i[2] == 1:\n",
    "            if W_[num+1][3] == factory: i[2] = i[2] - 1 \n",
    "            continue\n",
    "        elif i[3] == 1:\n",
    "            if W_[num+1][4] == factory: i[3] = i[3] - 1\n",
    "            continue    \n",
    "        elif i[4] == 1:\n",
    "            if W_[num+1][5] == factory: i[4] = i[4] - 1 \n",
    "            continue\n",
    "    return table,fscore\n",
    "\n",
    "def get_gscore_dist(city1,city2):\n",
    "    return Distance[fac_dict[city1]][fac_dict[city2]]\n",
    "\n",
    "def get_close(table):\n",
    "    s = ''\n",
    "    for i in table:\n",
    "        j = i.sum()\n",
    "        s = s+ str(int(j))\n",
    "    return s\n",
    "\n",
    "def get_step(a,b):\n",
    "    return 1\n",
    "\n",
    "def get_low_rank(open_set):\n",
    "    min_huris = float('inf')\n",
    "    for nodes in open_set:\n",
    "        if (nodes.fscore)<min_huris:\n",
    "            cur_node = nodes\n",
    "            min_huris = cur_node.fscore  \n",
    "    return cur_node\n",
    "\n",
    "def goal_test(node):\n",
    "    if node.last_table.sum() == 0: return True\n",
    "    return False"
   ]
  },
  {
   "cell_type": "code",
   "execution_count": 18,
   "metadata": {},
   "outputs": [],
   "source": [
    "def A_star(start,hu,get_func):\n",
    "    node_expanded=1\n",
    "    hu_table = np.ones((5,5))\n",
    "    initnode = node(start,hu_table,gscore=0,fscore=25.0)\n",
    "    table,fscore = hu(initnode,start)\n",
    "    start_node = node(start,table,gscore=0,fscore=fscore,parent=start)\n",
    "    close_set = {}\n",
    "    open_set = []\n",
    "    heapq.heappush(open_set,start_node)\n",
    "    cities = ['A','B','C','D','E']\n",
    "    while len(open_set)!=0:\n",
    "        cur_node = heapq.heappop(open_set) \n",
    "        if goal_test(cur_node): \n",
    "            print('node expanded=',node_expanded)\n",
    "            return cur_node.parent\n",
    "        close_set[get_close(cur_node.last_table)]=cur_node.gscore\n",
    "        for city in cities:\n",
    "            if city == cur_node.cur_factory: continue\n",
    "            table,fscore = hu(cur_node,city)\n",
    "            cost = cur_node.gscore+get_func(cur_node.cur_factory,city)\n",
    "            if get_close(table) in close_set:\n",
    "                if close_set[get_close(table)] < cost:\n",
    "                    continue\n",
    "                close_set[get_close(table)] = cost\n",
    "            new_node = node(city,table,gscore=cost,fscore=fscore+cost,parent=cur_node.parent+city)\n",
    "            heapq.heappush(open_set,new_node)\n",
    "            node_expanded = node_expanded + 1\n",
    "#             print(close_set)\n",
    "    return"
   ]
  },
  {
   "cell_type": "code",
   "execution_count": 19,
   "metadata": {},
   "outputs": [
    {
     "name": "stdout",
     "output_type": "stream",
     "text": [
      "for starting = A\n",
      "node expanded= 2704\n",
      "temp= ABEDCADBCDE\n",
      "len= 11\n",
      "\n",
      "for starting = B\n",
      "node expanded= 3925\n",
      "temp= BDAEDCBACDE\n",
      "len= 11\n",
      "\n",
      "for starting = C\n",
      "node expanded= 5314\n",
      "temp= CBDAEDCBACED\n",
      "len= 12\n",
      "\n",
      "for starting = D\n",
      "node expanded= 2018\n",
      "temp= DABEDCABCDE\n",
      "len= 11\n",
      "\n",
      "for starting = E\n",
      "node expanded= 5314\n",
      "temp= EBDAEDCBACED\n",
      "len= 12\n",
      "\n"
     ]
    }
   ],
   "source": [
    "backup_distance()\n",
    "for t in Starting_Point:\n",
    "    lenn = 1000\n",
    "    print('for starting =',t)\n",
    "    retv = A_star(t,h_min_step,get_step)\n",
    "    dis = 0\n",
    "#     for s in retv:\n",
    "#         dis = dis + get_gscore_dist(t,s)\n",
    "#         t = s\n",
    "#     print(dis)\n",
    "    print('temp=',retv)\n",
    "    print('len=',len(retv))\n",
    "    print()"
   ]
  },
  {
   "cell_type": "code",
   "execution_count": 39,
   "metadata": {},
   "outputs": [
    {
     "name": "stdout",
     "output_type": "stream",
     "text": [
      "for starting = A\n",
      "node expanded= 3825\n",
      "ABEDCADBCED\n",
      "distance = 5867\n",
      "AEBEDECAEDEBECED\n",
      "\n",
      "for starting = B\n",
      "node expanded= 2037\n",
      "BEDAEDBCEBAD\n",
      "distance = 5726\n",
      "BEDEAEDEBECEBEAED\n",
      "\n",
      "for starting = C\n",
      "node expanded= 3712\n",
      "CBEDAEBDCEBAD\n",
      "distance = 6502\n",
      "CEBEDEAEBEDECEBEAED\n",
      "\n",
      "for starting = D\n",
      "node expanded= 1415\n",
      "DBEAEBDCEBAD\n",
      "distance = 5716\n",
      "DEBEAEBEDECEBEAED\n",
      "\n",
      "for starting = E\n",
      "node expanded= 3741\n",
      "EBEDAEBDCBAED\n",
      "distance = 6103\n",
      "EBEDEAEBEDECEBEAED\n",
      "\n"
     ]
    }
   ],
   "source": [
    "extract_distance()\n",
    "for t in Starting_Point:\n",
    "    lenn = 1000\n",
    "    print('for starting =',t)\n",
    "    retv = A_star(t,h_min_dis,get_gscore_dist)\n",
    "    startttt = t\n",
    "    dis = 0\n",
    "    new_sequence = ''\n",
    "    for s in retv:\n",
    "        if get_gscore_dist(startttt,s) != Distance2[fac_dict[startttt]][fac_dict[s]]:\n",
    "            new_sequence = new_sequence + mp[s]\n",
    "            new_sequence = new_sequence + s\n",
    "        else:\n",
    "            new_sequence = new_sequence + s\n",
    "        dis = dis + get_gscore_dist(startttt,s)\n",
    "        startttt = s\n",
    "    print(retv)\n",
    "    print('distance =', dis)\n",
    "    print(new_sequence)\n",
    "    print()"
   ]
  },
  {
   "cell_type": "code",
   "execution_count": 23,
   "metadata": {},
   "outputs": [
    {
     "data": {
      "text/plain": [
       "[[0, 654, 673, 664, 277],\n",
       " [654, 0, 776, 764, 377],\n",
       " [673, 776, 0, 786, 399],\n",
       " [664, 764, 786, 0, 387],\n",
       " [277, 377, 399, 387, 0]]"
      ]
     },
     "execution_count": 23,
     "metadata": {},
     "output_type": "execute_result"
    }
   ],
   "source": [
    "Distance"
   ]
  },
  {
   "cell_type": "code",
   "execution_count": 25,
   "metadata": {},
   "outputs": [
    {
     "data": {
      "text/plain": [
       "[[0, 1064, 673, 1401, 277],\n",
       " [1064, 0, 958, 1934, 377],\n",
       " [673, 957, 0, 1001, 399],\n",
       " [1401, 1934, 1001, 0, 387],\n",
       " [277, 377, 399, 387, 0]]"
      ]
     },
     "execution_count": 25,
     "metadata": {},
     "output_type": "execute_result"
    }
   ],
   "source": [
    "Distance2"
   ]
  },
  {
   "cell_type": "code",
   "execution_count": 32,
   "metadata": {},
   "outputs": [],
   "source": [
    "dd = []\n",
    "for a in range(5):\n",
    "    cc = []\n",
    "    for b in range(5):\n",
    "        if Distance2[a][b] != 0:\n",
    "            minnn = Distance2[a][b]\n",
    "            for c in range(5):\n",
    "                if Distance2[a][c] != 0:\n",
    "                    if Distance2[a][c]+Distance2[c][b] < minnn:\n",
    "                        minnn = Distance2[a][c]+Distance2[c][b]\n",
    "            cc.append(minnn)\n",
    "        else:\n",
    "            cc.append(0)\n",
    "    dd.append(cc)"
   ]
  },
  {
   "cell_type": "code",
   "execution_count": 45,
   "metadata": {},
   "outputs": [
    {
     "name": "stdout",
     "output_type": "stream",
     "text": [
      "5716\n"
     ]
    }
   ],
   "source": [
    "backup_distance()\n",
    "kk = 'DEBEAEBEDECEBEAED'\n",
    "startttt = kk[0]\n",
    "dis = 0\n",
    "for s in kk:\n",
    "        dis = dis + get_gscore_dist(startttt,s)\n",
    "        startttt = s\n",
    "print(dis)"
   ]
  },
  {
   "cell_type": "code",
   "execution_count": 34,
   "metadata": {},
   "outputs": [
    {
     "data": {
      "text/plain": [
       "[[0, 654, 673, 664, 277],\n",
       " [654, 0, 776, 764, 377],\n",
       " [673, 776, 0, 786, 399],\n",
       " [664, 764, 786, 0, 387],\n",
       " [277, 377, 399, 387, 0]]"
      ]
     },
     "execution_count": 34,
     "metadata": {},
     "output_type": "execute_result"
    }
   ],
   "source": [
    "Distance"
   ]
  },
  {
   "cell_type": "code",
   "execution_count": 46,
   "metadata": {},
   "outputs": [
    {
     "data": {
      "text/plain": [
       "array([[ 1.,  1.,  1.,  1.,  1.],\n",
       "       [ 1.,  1.,  1.,  1.,  1.],\n",
       "       [ 1.,  1.,  1.,  1.,  1.],\n",
       "       [ 1.,  1.,  1.,  1.,  1.],\n",
       "       [ 1.,  1.,  1.,  1.,  1.]])"
      ]
     },
     "execution_count": 46,
     "metadata": {},
     "output_type": "execute_result"
    }
   ],
   "source": [
    "np.ones((5,5))"
   ]
  },
  {
   "cell_type": "code",
   "execution_count": null,
   "metadata": {
    "collapsed": true
   },
   "outputs": [],
   "source": []
  }
 ],
 "metadata": {
  "kernelspec": {
   "display_name": "Python 3",
   "language": "python",
   "name": "python3"
  },
  "language_info": {
   "codemirror_mode": {
    "name": "ipython",
    "version": 3
   },
   "file_extension": ".py",
   "mimetype": "text/x-python",
   "name": "python",
   "nbconvert_exporter": "python",
   "pygments_lexer": "ipython3",
   "version": "3.6.3"
  }
 },
 "nbformat": 4,
 "nbformat_minor": 2
}
