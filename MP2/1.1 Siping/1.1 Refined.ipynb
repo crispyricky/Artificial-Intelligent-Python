{
 "cells": [
  {
   "cell_type": "code",
   "execution_count": 77,
   "metadata": {},
   "outputs": [],
   "source": [
    "import numpy as np\n",
    "import heapq\n",
    "import random\n",
    "import math\n",
    "import pprint\n",
    "import matplotlib.pyplot as plt\n",
    "import time\n",
    "import queue\n",
    "Distance = [[0,1064,673,1401,277],\n",
    "            [1064,0,958,1934,377],\n",
    "            [673,957,0,1001,399],\n",
    "            [1401,1934,1001,0,387],\n",
    "            [277,377,399,387,0]]\n",
    "Distance_cpy = [[0,1064,673,1401,277],\n",
    "            [1064,0,958,1934,377],\n",
    "            [673,957,0,1001,399],\n",
    "            [1401,1934,1001,0,387],\n",
    "            [277,377,399,387,0]]\n",
    "W_ = {1:{1:'A',2:'E',3:'D',4:'C',5:'A'},\n",
    "        2:{1:'B',2:'E',3:'A',4:'C',5:'D'},\n",
    "        3:{1:'B',2:'A',3:'B',4:'C',5:'E'},\n",
    "        4:{1:'D',2:'A',3:'D',4:'B',5:'D'},\n",
    "        5:{1:'B',2:'E',3:'C',4:'B',5:'D'}}\n",
    "Starting_Point = ['A','B','C','D','E']\n",
    "fac_dict = {'A':0, 'B':1, 'C':2, 'D':3, 'E':4}\n",
    "rev_fac_dict = {0:'A', 1:'B', 2:'C', 3:'D', 4:'E'}\n",
    "mp ={}"
   ]
  },
  {
   "cell_type": "code",
   "execution_count": 125,
   "metadata": {
    "collapsed": true
   },
   "outputs": [],
   "source": [
    "def diff(a,b):\n",
    "    c = []\n",
    "    for num, i in enumerate(a):\n",
    "        c.append(abs(i-b[num]))\n",
    "    return c"
   ]
  },
  {
   "cell_type": "code",
   "execution_count": 78,
   "metadata": {
    "collapsed": true
   },
   "outputs": [],
   "source": [
    "def extract_distance():\n",
    "    for i in Starting_Point:\n",
    "        dd = 20000\n",
    "        for j in Starting_Point:\n",
    "            if get_gscore_dist(i,j)<dd and i != j:\n",
    "                dd = get_gscore_dist(i,j)\n",
    "                mp[i]=j\n",
    "#     print(mp)\n",
    "    for i in Starting_Point:\n",
    "        for j in Starting_Point:\n",
    "            if get_gscore_dist(i,j)>(get_gscore_dist(i,mp[i])+get_gscore_dist(mp[i],j)):\n",
    "                Distance[fac_dict[i]][fac_dict[j]]=get_gscore_dist(i,mp[i])+get_gscore_dist(mp[i],j)\n",
    "#     print(Distance)\n",
    "def backup_distance():\n",
    "    Distance = [[0,1064,673,1401,277],\n",
    "                [1064,0,958,1934,377],\n",
    "                [673,957,0,1001,399],\n",
    "                [1401,1934,1001,0,387],\n",
    "                [277,377,399,387,0]]"
   ]
  },
  {
   "cell_type": "code",
   "execution_count": 79,
   "metadata": {
    "collapsed": true
   },
   "outputs": [],
   "source": [
    "class node():\n",
    "    def __init__(self, cur_factory,last_table, gscore=float('inf'),fscore=float('inf'), parent=''):\n",
    "        self.gscore = gscore\n",
    "        self.last_table = last_table\n",
    "        self.cur_factory = cur_factory\n",
    "        self.parent = parent\n",
    "        self.fscore = fscore\n",
    "    \n",
    "    def __key(self):\n",
    "        return (self.parent)\n",
    "    \n",
    "    def __eq__(self, other):\n",
    "        return (np.array_equal(self.last_table,other.last_table) and self.gscore <= other.gscore)\n",
    "    \n",
    "    def __lt__(self, other):\n",
    "        return self.fscore < other.fscore\n",
    "    \n",
    "    def __hash__(self):\n",
    "        return hash(self.__key())"
   ]
  },
  {
   "cell_type": "code",
   "execution_count": 80,
   "metadata": {
    "collapsed": true
   },
   "outputs": [],
   "source": [
    "def get_table_dijk(node,factory,W):\n",
    "    table = node.last_table.copy()\n",
    "    for num, i in enumerate (table):\n",
    "        for j in range(len(i)):\n",
    "            if i[j] == 1:\n",
    "                if W[num+1][j+1] == factory: i[j] = i[j] - 1\n",
    "                break;\n",
    "    return table, node.last_table.sum() == table.sum()\n",
    "\n",
    "def h_min_dis(node,factory,W):\n",
    "    table = node.last_table.copy()\n",
    "    temp = node.cur_factory\n",
    "    table2 = table.copy()\n",
    "    table2 = table2.T\n",
    "    fscore = 0\n",
    "    for num, i in enumerate (table):\n",
    "        if num < (len(table2)):\n",
    "            if table2[num].sum() != 0:\n",
    "                fscore=fscore+Distance[fac_dict[temp]][fac_dict[mp[temp]]]\n",
    "                temp = mp[temp]\n",
    "        for j in range(len(i)):\n",
    "            if i[j] == 1:\n",
    "                if W[num+1][j+1] == factory: i[j] = i[j] - 1\n",
    "                break;\n",
    "    return table,fscore,node.last_table.sum() == table.sum()                      \n",
    "    \n",
    "def h_min_step(node,factory,W):\n",
    "    '''\n",
    "    calculate the huristic of a certain step of node\n",
    "    '''\n",
    "    table = node.last_table.copy()\n",
    "    table2 = table.copy()\n",
    "    table2 = table2.T\n",
    "    fscore = 0\n",
    "    for num, i in enumerate (table):\n",
    "        if num < (len(table2)):\n",
    "            if table2[num].sum() != 0:fscore=fscore+1\n",
    "        for j in range(len(i)):\n",
    "            if i[j] == 1:\n",
    "                if W[num+1][j+1] == factory: i[j] = i[j] - 1\n",
    "                break;\n",
    "    return table,fscore,node.last_table.sum() == table.sum()\n",
    "\n",
    "def get_gscore_dist(city1,city2):\n",
    "    return Distance[fac_dict[city1]][fac_dict[city2]]\n",
    "\n",
    "def get_close(table):\n",
    "    s = ''\n",
    "    for i in table:\n",
    "        j = i.sum()\n",
    "        s = s+ str(int(j))\n",
    "    return s\n",
    "\n",
    "def get_step(a,b):\n",
    "    return 1\n",
    "\n",
    "def get_low_rank(open_set):\n",
    "    min_huris = float('inf')\n",
    "    for nodes in open_set:\n",
    "        if (nodes.fscore)<min_huris:\n",
    "            cur_node = nodes\n",
    "            min_huris = cur_node.fscore  \n",
    "    return cur_node\n",
    "\n",
    "def goal_test(node):\n",
    "    if node.last_table.sum() == 0: return True\n",
    "    return False"
   ]
  },
  {
   "cell_type": "code",
   "execution_count": null,
   "metadata": {
    "collapsed": true
   },
   "outputs": [],
   "source": [
    "def A_star(start,hu,get_func,N=5,W=W_):\n",
    "    node_expanded=1\n",
    "    hu_table = np.ones((5,N))\n",
    "    initnode = node(start,hu_table,gscore=0,fscore=25.0)\n",
    "    table,fscore,tf = hu(initnode,start,W)\n",
    "    start_node = node(start,table,gscore=0,fscore=fscore,parent=start)\n",
    "    close_set = {}\n",
    "    open_set = []\n",
    "    heapq.heappush(open_set,start_node)\n",
    "    cities = ['A','B','C','D','E']\n",
    "    while len(open_set)!=0:\n",
    "        cur_node = heapq.heappop(open_set) \n",
    "        if goal_test(cur_node): \n",
    "#             print('node expanded=',node_expanded)\n",
    "            return cur_node.parent,node_expanded\n",
    "        close_set[get_close(cur_node.last_table)]=cur_node.gscore\n",
    "        for city in cities:\n",
    "            if city == cur_node.cur_factory: continue\n",
    "            table,fscore,tf = hu(cur_node,city,W)\n",
    "            if(tf):continue\n",
    "            cost = cur_node.gscore+get_func(cur_node.cur_factory,city)\n",
    "            if get_close(table) in close_set:\n",
    "                if close_set[get_close(table)] < cost:\n",
    "                    continue\n",
    "                close_set[get_close(table)] = cost\n",
    "            new_node = node(city,table,gscore=cost,fscore=fscore+cost,parent=cur_node.parent+city)\n",
    "            heapq.heappush(open_set,new_node)\n",
    "            node_expanded = node_expanded + 1\n",
    "    return"
   ]
  },
  {
   "cell_type": "code",
   "execution_count": 88,
   "metadata": {},
   "outputs": [
    {
     "name": "stdout",
     "output_type": "stream",
     "text": [
      "for starting = A\n",
      "temp= ABEDCADBCDE\n",
      "len= 11\n",
      "\n",
      "for starting = B\n",
      "temp= BDAEDCBACDE\n",
      "len= 11\n",
      "\n",
      "for starting = C\n",
      "temp= CBDAEDCBACED\n",
      "len= 12\n",
      "\n",
      "for starting = D\n",
      "temp= DABEDCABCDE\n",
      "len= 11\n",
      "\n",
      "for starting = E\n",
      "temp= EBDAEDCBACED\n",
      "len= 12\n",
      "\n"
     ]
    }
   ],
   "source": [
    "backup_distance()\n",
    "for t in Starting_Point:\n",
    "    lenn = 1000\n",
    "    print('for starting =',t)\n",
    "    retv,ex = A_star(t,h_min_step,get_step)\n",
    "    dis = 0\n",
    "#     for s in retv:\n",
    "#         dis = dis + get_gscore_dist(t,s)\n",
    "#         t = s\n",
    "#     print(dis)\n",
    "    print('temp=',retv)\n",
    "    print('len=',len(retv))\n",
    "    print()"
   ]
  },
  {
   "cell_type": "code",
   "execution_count": 93,
   "metadata": {},
   "outputs": [
    {
     "name": "stdout",
     "output_type": "stream",
     "text": [
      "for starting = A\n",
      "distance = 5867\n",
      "AEBEDECAEDEBECED\n",
      "\n",
      "for starting = B\n",
      "distance = 5726\n",
      "BEDEAEDEBECEBEAED\n",
      "\n",
      "for starting = C\n",
      "distance = 6502\n",
      "CEBEDEAEBEDECEBEAED\n",
      "\n",
      "for starting = D\n",
      "distance = 5716\n",
      "DEBEAEBEDECEBEAED\n",
      "\n",
      "for starting = E\n",
      "distance = 6103\n",
      "EBEDEAEBEDECEBEAED\n",
      "\n"
     ]
    }
   ],
   "source": [
    "extract_distance()\n",
    "for t in Starting_Point:\n",
    "    lenn = 1000\n",
    "    print('for starting =',t)\n",
    "    retv,ex = A_star(t,h_min_dis,get_gscore_dist)\n",
    "    startttt = t\n",
    "    dis = 0\n",
    "    new_sequence = ''\n",
    "    for s in retv:\n",
    "        if get_gscore_dist(startttt,s) != Distance_cpy[fac_dict[startttt]][fac_dict[s]]:\n",
    "            new_sequence = new_sequence + mp[s]\n",
    "            new_sequence = new_sequence + s\n",
    "        else:\n",
    "            new_sequence = new_sequence + s\n",
    "        dis = dis + get_gscore_dist(startttt,s)\n",
    "        startttt = s\n",
    "    print('distance =', dis)\n",
    "    print(new_sequence)\n",
    "    print()"
   ]
  },
  {
   "cell_type": "code",
   "execution_count": 82,
   "metadata": {
    "collapsed": true
   },
   "outputs": [],
   "source": [
    "def random_generator(N):\n",
    "    tt = np.zeros((5,N))\n",
    "    Generated = {1:{},\n",
    "                2:{},\n",
    "                3:{},\n",
    "                4:{},\n",
    "                5:{}}\n",
    "    for i in range(N):\n",
    "        for j in range(5):\n",
    "            tt[j][i] = math.floor(random.random()*5)\n",
    "            if i > 0:\n",
    "                while tt[j][i] == tt[j][i-1]:\n",
    "                    tt[j][i] = math.floor(random.random()*5)\n",
    "            Generated[j+1][i+1] = rev_fac_dict[int(tt[j][i])]\n",
    "    return Generated"
   ]
  },
  {
   "cell_type": "code",
   "execution_count": 98,
   "metadata": {},
   "outputs": [
    {
     "name": "stdout",
     "output_type": "stream",
     "text": [
      "finish 3  0.17184185981750488\n",
      "finish 4  0.20747709274291992\n",
      "finish 5  0.8863129615783691\n",
      "finish 6  1.0728418827056885\n",
      "finish 7  2.752150774002075\n",
      "finish 8  40.22135400772095\n"
     ]
    }
   ],
   "source": [
    "total_step = []\n",
    "N = 8\n",
    "start = time.time()\n",
    "for N in range(3,9):\n",
    "#     for i in range(50):\n",
    "    temp = 0\n",
    "    W = random_generator(N)\n",
    "#         pprint.pprint(W)\n",
    "    retv,ndexpnd = A_star('A',h_min_step,get_step,N = N, W = W)\n",
    "    temp = temp + ndexpnd\n",
    "    total_step.append(temp)\n",
    "    print('finish',N,'',time.time()-start)"
   ]
  },
  {
   "cell_type": "code",
   "execution_count": 99,
   "metadata": {},
   "outputs": [
    {
     "data": {
      "text/plain": [
       "[1412, 291, 5054, 1443, 10057, 220976]"
      ]
     },
     "execution_count": 99,
     "metadata": {},
     "output_type": "execute_result"
    }
   ],
   "source": [
    "total_step"
   ]
  },
  {
   "cell_type": "code",
   "execution_count": 100,
   "metadata": {},
   "outputs": [
    {
     "data": {
      "image/png": "[encoded data removed]",
      "text/plain": [
       "<matplotlib.figure.Figure at 0x10e5cc7b8>"
      ]
     },
     "metadata": {},
     "output_type": "display_data"
    }
   ],
   "source": [
    "plt.plot(list(range(3,9)), total_step, 'b')\n",
    "plt.axis()\n",
    "plt.xlabel('Length of the factory sequence')\n",
    "plt.ylabel('Number of nodes expanded')\n",
    "plt.title('Min step expansion over the random generator')\n",
    "plt.show()\n"
   ]
  },
  {
   "cell_type": "code",
   "execution_count": 101,
   "metadata": {},
   "outputs": [
    {
     "name": "stdout",
     "output_type": "stream",
     "text": [
      "finish 3  0.016078948974609375\n",
      "finish 4  0.3678619861602783\n",
      "finish 5  0.5586121082305908\n",
      "finish 6  1.0089399814605713\n",
      "finish 7  5.579308032989502\n",
      "finish 8  38.9700140953064\n"
     ]
    }
   ],
   "source": [
    "total_dist = []\n",
    "N = 8\n",
    "start = time.time()\n",
    "for N in range(3,9):\n",
    "#     for i in range(50):\n",
    "    temp = 0\n",
    "    W = random_generator(N)\n",
    "#         pprint.pprint(W)\n",
    "    retv,ndexpnd = A_star(t,h_min_dis,get_gscore_dist,N = N, W = W)\n",
    "    temp = temp + ndexpnd\n",
    "    total_dist.append(temp/len(Starting_Point))\n",
    "    print('finish',N,'',time.time()-start)"
   ]
  },
  {
   "cell_type": "code",
   "execution_count": 102,
   "metadata": {},
   "outputs": [
    {
     "data": {
      "text/plain": [
       "[16.0, 371.0, 304.2, 628.0, 5293.6, 32120.4]"
      ]
     },
     "execution_count": 102,
     "metadata": {},
     "output_type": "execute_result"
    }
   ],
   "source": [
    "total_dist"
   ]
  },
  {
   "cell_type": "code",
   "execution_count": 103,
   "metadata": {},
   "outputs": [
    {
     "data": {
      "image/png": "[encoded data removed]",
      "text/plain": [
       "<matplotlib.figure.Figure at 0x10e5cc470>"
      ]
     },
     "metadata": {},
     "output_type": "display_data"
    }
   ],
   "source": [
    "plt.plot(list(range(3,9)), total_dist, 'b')\n",
    "plt.axis()\n",
    "plt.xlabel('Length of the factory sequence')\n",
    "plt.ylabel('Number of nodes expanded')\n",
    "plt.title('Min distance expansion over the random generator')\n",
    "plt.show()"
   ]
  },
  {
   "cell_type": "code",
   "execution_count": 38,
   "metadata": {},
   "outputs": [],
   "source": [
    "backup_distance()\n",
    "startttt = 'D'\n",
    "dis = 0\n",
    "for s in 'DEBEAEBEDECAEBED':\n",
    "    if get_gscore_dist(startttt,s) != Distance_cpy[fac_dict[startttt]][fac_dict[s]]:\n",
    "        new_sequence = new_sequence + mp[s]\n",
    "        new_sequence = new_sequence + s\n",
    "    else:\n",
    "        new_sequence = new_sequence + s\n",
    "    dis = dis + get_gscore_dist(startttt,s)\n",
    "    startttt = s"
   ]
  },
  {
   "cell_type": "code",
   "execution_count": 39,
   "metadata": {},
   "outputs": [
    {
     "name": "stdout",
     "output_type": "stream",
     "text": [
      "5713\n"
     ]
    }
   ],
   "source": [
    "print(dis)"
   ]
  },
  {
   "cell_type": "code",
   "execution_count": 104,
   "metadata": {
    "collapsed": true
   },
   "outputs": [],
   "source": [
    "def Uniform(start,N=5,W=W_):\n",
    "    hu_table = np.ones((5,N))\n",
    "    node_expanded=1\n",
    "    initnode = node(start,hu_table,fscore=0)\n",
    "    table,tf = get_table_dijk(initnode,start,W)\n",
    "    start_node = node(start,table,fscore=0,parent=start)\n",
    "    close_set = set()\n",
    "    open_set = []\n",
    "    heapq.heappush(open_set,start_node)\n",
    "    cities = ['A','B','C','D','E']\n",
    "    while open_set.qsize()!=0:\n",
    "        cur_node = heapq.heappop(open_set)\n",
    "        if goal_test(cur_node): \n",
    "#             print('node expanded=',node_expanded)\n",
    "            return cur_node.parent,node_expanded\n",
    "        close_set.add(cur_node)\n",
    "        for city in cities:\n",
    "            if city == cur_node.cur_factory: continue\n",
    "            table,tf = get_table_dijk(cur_node,city,W)\n",
    "            if(tf):continue\n",
    "            cost = cur_node.fscore+get_gscore_dist(cur_node.cur_factory,city)\n",
    "            new_node = node(city,table,fscore=cost,parent=cur_node.parent+city)\n",
    "            if new_node in close_set: \n",
    "                if new_node.last_table \n",
    "            open_set.put(new_node)\n",
    "            node_expanded = node_expanded + 1\n",
    "    return"
   ]
  },
  {
   "cell_type": "code",
   "execution_count": 116,
   "metadata": {},
   "outputs": [
    {
     "name": "stdout",
     "output_type": "stream",
     "text": [
      "finish 3  0.036228179931640625\n",
      "finish 4  1.2168350219726562\n"
     ]
    },
    {
     "ename": "KeyboardInterrupt",
     "evalue": "",
     "output_type": "error",
     "traceback": [
      "\u001b[0;31m---------------------------------------------------------------------------\u001b[0m",
      "\u001b[0;31mKeyboardInterrupt\u001b[0m                         Traceback (most recent call last)",
      "\u001b[0;32m<ipython-input-116-eca0ff543051>\u001b[0m in \u001b[0;36m<module>\u001b[0;34m()\u001b[0m\n\u001b[1;32m      7\u001b[0m     \u001b[0mW\u001b[0m \u001b[0;34m=\u001b[0m \u001b[0mrandom_generator\u001b[0m\u001b[0;34m(\u001b[0m\u001b[0mN\u001b[0m\u001b[0;34m)\u001b[0m\u001b[0;34m\u001b[0m\u001b[0m\n\u001b[1;32m      8\u001b[0m \u001b[0;31m#         pprint.pprint(W)\u001b[0m\u001b[0;34m\u001b[0m\u001b[0;34m\u001b[0m\u001b[0m\n\u001b[0;32m----> 9\u001b[0;31m     \u001b[0mretv\u001b[0m\u001b[0;34m,\u001b[0m\u001b[0mndexpnd\u001b[0m \u001b[0;34m=\u001b[0m \u001b[0mUniform\u001b[0m\u001b[0;34m(\u001b[0m\u001b[0;34m'A'\u001b[0m\u001b[0;34m,\u001b[0m\u001b[0mN\u001b[0m \u001b[0;34m=\u001b[0m \u001b[0mN\u001b[0m\u001b[0;34m,\u001b[0m \u001b[0mW\u001b[0m \u001b[0;34m=\u001b[0m \u001b[0mW\u001b[0m\u001b[0;34m)\u001b[0m\u001b[0;34m\u001b[0m\u001b[0m\n\u001b[0m\u001b[1;32m     10\u001b[0m     \u001b[0mtemp\u001b[0m \u001b[0;34m=\u001b[0m \u001b[0mtemp\u001b[0m \u001b[0;34m+\u001b[0m \u001b[0mndexpnd\u001b[0m\u001b[0;34m\u001b[0m\u001b[0m\n\u001b[1;32m     11\u001b[0m     \u001b[0mtotal_uni\u001b[0m\u001b[0;34m.\u001b[0m\u001b[0mappend\u001b[0m\u001b[0;34m(\u001b[0m\u001b[0mtemp\u001b[0m\u001b[0;34m)\u001b[0m\u001b[0;34m\u001b[0m\u001b[0m\n",
      "\u001b[0;32m<ipython-input-104-64e82fc9172e>\u001b[0m in \u001b[0;36mUniform\u001b[0;34m(start, N, W)\u001b[0m\n\u001b[1;32m     17\u001b[0m         \u001b[0;32mfor\u001b[0m \u001b[0mcity\u001b[0m \u001b[0;32min\u001b[0m \u001b[0mcities\u001b[0m\u001b[0;34m:\u001b[0m\u001b[0;34m\u001b[0m\u001b[0m\n\u001b[1;32m     18\u001b[0m             \u001b[0;32mif\u001b[0m \u001b[0mcity\u001b[0m \u001b[0;34m==\u001b[0m \u001b[0mcur_node\u001b[0m\u001b[0;34m.\u001b[0m\u001b[0mcur_factory\u001b[0m\u001b[0;34m:\u001b[0m \u001b[0;32mcontinue\u001b[0m\u001b[0;34m\u001b[0m\u001b[0m\n\u001b[0;32m---> 19\u001b[0;31m             \u001b[0mtable\u001b[0m\u001b[0;34m,\u001b[0m\u001b[0mtf\u001b[0m \u001b[0;34m=\u001b[0m \u001b[0mget_table_dijk\u001b[0m\u001b[0;34m(\u001b[0m\u001b[0mcur_node\u001b[0m\u001b[0;34m,\u001b[0m\u001b[0mcity\u001b[0m\u001b[0;34m,\u001b[0m\u001b[0mW\u001b[0m\u001b[0;34m)\u001b[0m\u001b[0;34m\u001b[0m\u001b[0m\n\u001b[0m\u001b[1;32m     20\u001b[0m             \u001b[0;32mif\u001b[0m\u001b[0;34m(\u001b[0m\u001b[0mtf\u001b[0m\u001b[0;34m)\u001b[0m\u001b[0;34m:\u001b[0m\u001b[0;32mcontinue\u001b[0m\u001b[0;34m\u001b[0m\u001b[0m\n\u001b[1;32m     21\u001b[0m             \u001b[0mcost\u001b[0m \u001b[0;34m=\u001b[0m \u001b[0mcur_node\u001b[0m\u001b[0;34m.\u001b[0m\u001b[0mgscore\u001b[0m\u001b[0;34m+\u001b[0m\u001b[0;36m1\u001b[0m\u001b[0;34m\u001b[0m\u001b[0m\n",
      "\u001b[0;32m<ipython-input-80-9b525f842a8d>\u001b[0m in \u001b[0;36mget_table_dijk\u001b[0;34m(node, factory, W)\u001b[0m\n\u001b[1;32m      3\u001b[0m     \u001b[0;32mfor\u001b[0m \u001b[0mnum\u001b[0m\u001b[0;34m,\u001b[0m \u001b[0mi\u001b[0m \u001b[0;32min\u001b[0m \u001b[0menumerate\u001b[0m \u001b[0;34m(\u001b[0m\u001b[0mtable\u001b[0m\u001b[0;34m)\u001b[0m\u001b[0;34m:\u001b[0m\u001b[0;34m\u001b[0m\u001b[0m\n\u001b[1;32m      4\u001b[0m         \u001b[0;32mfor\u001b[0m \u001b[0mj\u001b[0m \u001b[0;32min\u001b[0m \u001b[0mrange\u001b[0m\u001b[0;34m(\u001b[0m\u001b[0mlen\u001b[0m\u001b[0;34m(\u001b[0m\u001b[0mi\u001b[0m\u001b[0;34m)\u001b[0m\u001b[0;34m)\u001b[0m\u001b[0;34m:\u001b[0m\u001b[0;34m\u001b[0m\u001b[0m\n\u001b[0;32m----> 5\u001b[0;31m             \u001b[0;32mif\u001b[0m \u001b[0mi\u001b[0m\u001b[0;34m[\u001b[0m\u001b[0mj\u001b[0m\u001b[0;34m]\u001b[0m \u001b[0;34m==\u001b[0m \u001b[0;36m1\u001b[0m\u001b[0;34m:\u001b[0m\u001b[0;34m\u001b[0m\u001b[0m\n\u001b[0m\u001b[1;32m      6\u001b[0m                 \u001b[0;32mif\u001b[0m \u001b[0mW\u001b[0m\u001b[0;34m[\u001b[0m\u001b[0mnum\u001b[0m\u001b[0;34m+\u001b[0m\u001b[0;36m1\u001b[0m\u001b[0;34m]\u001b[0m\u001b[0;34m[\u001b[0m\u001b[0mj\u001b[0m\u001b[0;34m+\u001b[0m\u001b[0;36m1\u001b[0m\u001b[0;34m]\u001b[0m \u001b[0;34m==\u001b[0m \u001b[0mfactory\u001b[0m\u001b[0;34m:\u001b[0m \u001b[0mi\u001b[0m\u001b[0;34m[\u001b[0m\u001b[0mj\u001b[0m\u001b[0;34m]\u001b[0m \u001b[0;34m=\u001b[0m \u001b[0mi\u001b[0m\u001b[0;34m[\u001b[0m\u001b[0mj\u001b[0m\u001b[0;34m]\u001b[0m \u001b[0;34m-\u001b[0m \u001b[0;36m1\u001b[0m\u001b[0;34m\u001b[0m\u001b[0m\n\u001b[1;32m      7\u001b[0m                 \u001b[0;32mbreak\u001b[0m\u001b[0;34m;\u001b[0m\u001b[0;34m\u001b[0m\u001b[0m\n",
      "\u001b[0;31mKeyboardInterrupt\u001b[0m: "
     ]
    }
   ],
   "source": [
    "total_uni = []\n",
    "N = 8\n",
    "start = time.time()\n",
    "for N in range(3,9):\n",
    "#     for i in range(50):\n",
    "    temp = 0\n",
    "    W = random_generator(N)\n",
    "#         pprint.pprint(W)\n",
    "    retv,ndexpnd = Uniform('A',N = N, W = W)\n",
    "    temp = temp + ndexpnd\n",
    "    total_uni.append(temp)\n",
    "    print('finish',N,'',time.time()-start)"
   ]
  },
  {
   "cell_type": "code",
   "execution_count": 130,
   "metadata": {},
   "outputs": [
    {
     "data": {
      "text/plain": [
       "[837, 799, 123762, 54487, 2141711, 31345342]"
      ]
     },
     "execution_count": 130,
     "metadata": {},
     "output_type": "execute_result"
    }
   ],
   "source": [
    "total_uni"
   ]
  },
  {
   "cell_type": "code",
   "execution_count": 137,
   "metadata": {},
   "outputs": [
    {
     "data": {
      "image/png": "[encoded data removed]",
      "text/plain": [
       "<matplotlib.figure.Figure at 0x11e6787f0>"
      ]
     },
     "metadata": {},
     "output_type": "display_data"
    }
   ],
   "source": [
    "k = diff(total_step,total_uni)\n",
    "plt.plot(list(range(3,9)), k, 'b')\n",
    "plt.axis()\n",
    "plt.xlabel('Length of the factory sequence')\n",
    "plt.ylabel('Number of nodes expanded')\n",
    "plt.title('uniform cost search versus A* -- Min Step')\n",
    "plt.show()"
   ]
  },
  {
   "cell_type": "code",
   "execution_count": 131,
   "metadata": {},
   "outputs": [
    {
     "name": "stdout",
     "output_type": "stream",
     "text": [
      "finish 3  0.02083301544189453\n",
      "finish 4  0.05559182167053223\n",
      "finish 5  1.4916229248046875\n",
      "finish 6  17.336442947387695\n"
     ]
    },
    {
     "ename": "KeyboardInterrupt",
     "evalue": "",
     "output_type": "error",
     "traceback": [
      "\u001b[0;31m---------------------------------------------------------------------------\u001b[0m",
      "\u001b[0;31mKeyboardInterrupt\u001b[0m                         Traceback (most recent call last)",
      "\u001b[0;32m<ipython-input-131-c8133071c1be>\u001b[0m in \u001b[0;36m<module>\u001b[0;34m()\u001b[0m\n\u001b[1;32m      8\u001b[0m     \u001b[0mW\u001b[0m \u001b[0;34m=\u001b[0m \u001b[0mrandom_generator\u001b[0m\u001b[0;34m(\u001b[0m\u001b[0mN\u001b[0m\u001b[0;34m)\u001b[0m\u001b[0;34m\u001b[0m\u001b[0m\n\u001b[1;32m      9\u001b[0m \u001b[0;31m#         pprint.pprint(W)\u001b[0m\u001b[0;34m\u001b[0m\u001b[0;34m\u001b[0m\u001b[0m\n\u001b[0;32m---> 10\u001b[0;31m     \u001b[0mretv\u001b[0m\u001b[0;34m,\u001b[0m\u001b[0mndexpnd\u001b[0m \u001b[0;34m=\u001b[0m \u001b[0mUniform\u001b[0m\u001b[0;34m(\u001b[0m\u001b[0;34m'A'\u001b[0m\u001b[0;34m,\u001b[0m\u001b[0mN\u001b[0m \u001b[0;34m=\u001b[0m \u001b[0mN\u001b[0m\u001b[0;34m,\u001b[0m \u001b[0mW\u001b[0m \u001b[0;34m=\u001b[0m \u001b[0mW\u001b[0m\u001b[0;34m)\u001b[0m\u001b[0;34m\u001b[0m\u001b[0m\n\u001b[0m\u001b[1;32m     11\u001b[0m     \u001b[0mtemp\u001b[0m \u001b[0;34m=\u001b[0m \u001b[0mtemp\u001b[0m \u001b[0;34m+\u001b[0m \u001b[0mndexpnd\u001b[0m\u001b[0;34m\u001b[0m\u001b[0m\n\u001b[1;32m     12\u001b[0m     \u001b[0mtotal_uni_dis\u001b[0m\u001b[0;34m.\u001b[0m\u001b[0mappend\u001b[0m\u001b[0;34m(\u001b[0m\u001b[0mtemp\u001b[0m\u001b[0;34m)\u001b[0m\u001b[0;34m\u001b[0m\u001b[0m\n",
      "\u001b[0;32m<ipython-input-104-64e82fc9172e>\u001b[0m in \u001b[0;36mUniform\u001b[0;34m(start, N, W)\u001b[0m\n\u001b[1;32m     17\u001b[0m         \u001b[0;32mfor\u001b[0m \u001b[0mcity\u001b[0m \u001b[0;32min\u001b[0m \u001b[0mcities\u001b[0m\u001b[0;34m:\u001b[0m\u001b[0;34m\u001b[0m\u001b[0m\n\u001b[1;32m     18\u001b[0m             \u001b[0;32mif\u001b[0m \u001b[0mcity\u001b[0m \u001b[0;34m==\u001b[0m \u001b[0mcur_node\u001b[0m\u001b[0;34m.\u001b[0m\u001b[0mcur_factory\u001b[0m\u001b[0;34m:\u001b[0m \u001b[0;32mcontinue\u001b[0m\u001b[0;34m\u001b[0m\u001b[0m\n\u001b[0;32m---> 19\u001b[0;31m             \u001b[0mtable\u001b[0m\u001b[0;34m,\u001b[0m\u001b[0mtf\u001b[0m \u001b[0;34m=\u001b[0m \u001b[0mget_table_dijk\u001b[0m\u001b[0;34m(\u001b[0m\u001b[0mcur_node\u001b[0m\u001b[0;34m,\u001b[0m\u001b[0mcity\u001b[0m\u001b[0;34m,\u001b[0m\u001b[0mW\u001b[0m\u001b[0;34m)\u001b[0m\u001b[0;34m\u001b[0m\u001b[0m\n\u001b[0m\u001b[1;32m     20\u001b[0m             \u001b[0;32mif\u001b[0m\u001b[0;34m(\u001b[0m\u001b[0mtf\u001b[0m\u001b[0;34m)\u001b[0m\u001b[0;34m:\u001b[0m\u001b[0;32mcontinue\u001b[0m\u001b[0;34m\u001b[0m\u001b[0m\n\u001b[1;32m     21\u001b[0m             \u001b[0mcost\u001b[0m \u001b[0;34m=\u001b[0m \u001b[0mcur_node\u001b[0m\u001b[0;34m.\u001b[0m\u001b[0mgscore\u001b[0m\u001b[0;34m+\u001b[0m\u001b[0;36m1\u001b[0m\u001b[0;34m\u001b[0m\u001b[0m\n",
      "\u001b[0;32m<ipython-input-80-9b525f842a8d>\u001b[0m in \u001b[0;36mget_table_dijk\u001b[0;34m(node, factory, W)\u001b[0m\n\u001b[1;32m      3\u001b[0m     \u001b[0;32mfor\u001b[0m \u001b[0mnum\u001b[0m\u001b[0;34m,\u001b[0m \u001b[0mi\u001b[0m \u001b[0;32min\u001b[0m \u001b[0menumerate\u001b[0m \u001b[0;34m(\u001b[0m\u001b[0mtable\u001b[0m\u001b[0;34m)\u001b[0m\u001b[0;34m:\u001b[0m\u001b[0;34m\u001b[0m\u001b[0m\n\u001b[1;32m      4\u001b[0m         \u001b[0;32mfor\u001b[0m \u001b[0mj\u001b[0m \u001b[0;32min\u001b[0m \u001b[0mrange\u001b[0m\u001b[0;34m(\u001b[0m\u001b[0mlen\u001b[0m\u001b[0;34m(\u001b[0m\u001b[0mi\u001b[0m\u001b[0;34m)\u001b[0m\u001b[0;34m)\u001b[0m\u001b[0;34m:\u001b[0m\u001b[0;34m\u001b[0m\u001b[0m\n\u001b[0;32m----> 5\u001b[0;31m             \u001b[0;32mif\u001b[0m \u001b[0mi\u001b[0m\u001b[0;34m[\u001b[0m\u001b[0mj\u001b[0m\u001b[0;34m]\u001b[0m \u001b[0;34m==\u001b[0m \u001b[0;36m1\u001b[0m\u001b[0;34m:\u001b[0m\u001b[0;34m\u001b[0m\u001b[0m\n\u001b[0m\u001b[1;32m      6\u001b[0m                 \u001b[0;32mif\u001b[0m \u001b[0mW\u001b[0m\u001b[0;34m[\u001b[0m\u001b[0mnum\u001b[0m\u001b[0;34m+\u001b[0m\u001b[0;36m1\u001b[0m\u001b[0;34m]\u001b[0m\u001b[0;34m[\u001b[0m\u001b[0mj\u001b[0m\u001b[0;34m+\u001b[0m\u001b[0;36m1\u001b[0m\u001b[0;34m]\u001b[0m \u001b[0;34m==\u001b[0m \u001b[0mfactory\u001b[0m\u001b[0;34m:\u001b[0m \u001b[0mi\u001b[0m\u001b[0;34m[\u001b[0m\u001b[0mj\u001b[0m\u001b[0;34m]\u001b[0m \u001b[0;34m=\u001b[0m \u001b[0mi\u001b[0m\u001b[0;34m[\u001b[0m\u001b[0mj\u001b[0m\u001b[0;34m]\u001b[0m \u001b[0;34m-\u001b[0m \u001b[0;36m1\u001b[0m\u001b[0;34m\u001b[0m\u001b[0m\n\u001b[1;32m      7\u001b[0m                 \u001b[0;32mbreak\u001b[0m\u001b[0;34m;\u001b[0m\u001b[0;34m\u001b[0m\u001b[0m\n",
      "\u001b[0;31mKeyboardInterrupt\u001b[0m: "
     ]
    }
   ],
   "source": [
    "total_uni_dis = []\n",
    "N = 8\n",
    "extract_distance()\n",
    "start = time.time()\n",
    "for N in range(3,9):\n",
    "#     for i in range(50):\n",
    "    temp = 0\n",
    "    W = random_generator(N)\n",
    "#         pprint.pprint(W)\n",
    "    retv,ndexpnd = Uniform('A',N = N, W = W)\n",
    "    temp = temp + ndexpnd\n",
    "    total_uni_dis.append(temp)\n",
    "    print('finish',N,'',time.time()-start)"
   ]
  },
  {
   "cell_type": "code",
   "execution_count": 135,
   "metadata": {},
   "outputs": [
    {
     "data": {
      "text/plain": [
       "[210, 460, 28139, 360324, 2087651, 9553176]"
      ]
     },
     "execution_count": 135,
     "metadata": {},
     "output_type": "execute_result"
    }
   ],
   "source": [
    "total_uni_dis"
   ]
  },
  {
   "cell_type": "code",
   "execution_count": 138,
   "metadata": {},
   "outputs": [
    {
     "data": {
      "image/png": "[encoded data removed]",
      "text/plain": [
       "<matplotlib.figure.Figure at 0x11e678f98>"
      ]
     },
     "metadata": {},
     "output_type": "display_data"
    }
   ],
   "source": [
    "k_2 = diff(total_dist,total_uni_dis)\n",
    "plt.plot(list(range(3,9)), k_2, 'b')\n",
    "plt.axis()\n",
    "plt.xlabel('Length of the factory sequence')\n",
    "plt.ylabel('Number of nodes expanded')\n",
    "plt.title('uniform cost search versus A* -- Min Distance')\n",
    "plt.show()"
   ]
  },
  {
   "cell_type": "code",
   "execution_count": null,
   "metadata": {
    "collapsed": true
   },
   "outputs": [],
   "source": []
  }
 ],
 "metadata": {
  "kernelspec": {
   "display_name": "Python 3",
   "language": "python",
   "name": "python3"
  },
  "language_info": {
   "codemirror_mode": {
    "name": "ipython",
    "version": 3
   },
   "file_extension": ".py",
   "mimetype": "text/x-python",
   "name": "python",
   "nbconvert_exporter": "python",
   "pygments_lexer": "ipython3",
   "version": "3.6.3"
  }
 },
 "nbformat": 4,
 "nbformat_minor": 2
}
