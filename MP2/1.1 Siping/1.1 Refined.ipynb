{
 "cells": [
  {
   "cell_type": "code",
   "execution_count": 1,
   "metadata": {
    "collapsed": true
   },
   "outputs": [],
   "source": [
    "import numpy as np\n",
    "import heapq\n",
    "import random\n",
    "import math\n",
    "import pprint\n",
    "import matplotlib.pyplot as plt\n",
    "import time\n",
    "Distance = [[0,1064,673,1401,277],\n",
    "            [1064,0,958,1934,377],\n",
    "            [673,957,0,1001,399],\n",
    "            [1401,1934,1001,0,387],\n",
    "            [277,377,399,387,0]]\n",
    "Distance_cpy = [[0,1064,673,1401,277],\n",
    "            [1064,0,958,1934,377],\n",
    "            [673,957,0,1001,399],\n",
    "            [1401,1934,1001,0,387],\n",
    "            [277,377,399,387,0]]\n",
    "W_ = {1:{1:'A',2:'E',3:'D',4:'C',5:'A'},\n",
    "        2:{1:'B',2:'E',3:'A',4:'C',5:'D'},\n",
    "        3:{1:'B',2:'A',3:'B',4:'C',5:'E'},\n",
    "        4:{1:'D',2:'A',3:'D',4:'B',5:'D'},\n",
    "        5:{1:'B',2:'E',3:'C',4:'B',5:'D'}}\n",
    "Starting_Point = ['A','B','C','D','E']\n",
    "fac_dict = {'A':0, 'B':1, 'C':2, 'D':3, 'E':4}\n",
    "rev_fac_dict = {0:'A', 1:'B', 2:'C', 3:'D', 4:'E'}\n",
    "mp ={}"
   ]
  },
  {
   "cell_type": "code",
   "execution_count": 2,
   "metadata": {
    "collapsed": true
   },
   "outputs": [],
   "source": [
    "def extract_distance():\n",
    "    for i in Starting_Point:\n",
    "        dd = 20000\n",
    "        for j in Starting_Point:\n",
    "            if get_gscore_dist(i,j)<dd and i != j:\n",
    "                dd = get_gscore_dist(i,j)\n",
    "                mp[i]=j\n",
    "#     print(mp)\n",
    "    for i in Starting_Point:\n",
    "        for j in Starting_Point:\n",
    "            if get_gscore_dist(i,j)>(get_gscore_dist(i,mp[i])+get_gscore_dist(mp[i],j)):\n",
    "                Distance[fac_dict[i]][fac_dict[j]]=get_gscore_dist(i,mp[i])+get_gscore_dist(mp[i],j)\n",
    "#     print(Distance)\n",
    "def backup_distance():\n",
    "    Distance = [[0,1064,673,1401,277],\n",
    "                [1064,0,958,1934,377],\n",
    "                [673,957,0,1001,399],\n",
    "                [1401,1934,1001,0,387],\n",
    "                [277,377,399,387,0]]"
   ]
  },
  {
   "cell_type": "code",
   "execution_count": 3,
   "metadata": {
    "collapsed": true
   },
   "outputs": [],
   "source": [
    "class node():\n",
    "    def __init__(self, cur_factory,last_table, gscore=float('inf'),fscore=float('inf'), parent=''):\n",
    "        self.gscore = gscore\n",
    "        self.last_table = last_table\n",
    "        self.cur_factory = cur_factory\n",
    "        self.parent = parent\n",
    "        self.fscore = fscore\n",
    "    \n",
    "    def __key(self):\n",
    "        return (self.parent)\n",
    "    \n",
    "    def __eq__(self, other):\n",
    "        return (np.array_equal(self.last_table,other.last_table) and self.gscore <= other.gscore)\n",
    "    \n",
    "    def __lt__(self, other):\n",
    "        return self.fscore < other.fscore\n",
    "    \n",
    "    def __hash__(self):\n",
    "        return hash(self.__key())"
   ]
  },
  {
   "cell_type": "code",
   "execution_count": 4,
   "metadata": {},
   "outputs": [],
   "source": [
    "def h_min_dis(node,factory,W):\n",
    "    table = node.last_table.copy()\n",
    "    temp = node.cur_factory\n",
    "    table2 = table.copy()\n",
    "    table2 = table2.T\n",
    "    fscore = 0\n",
    "    for num, i in enumerate (table):\n",
    "        if table2[num].sum() != 0:\n",
    "            fscore=fscore+Distance[fac_dict[temp]][fac_dict[mp[temp]]]\n",
    "            temp = mp[temp]\n",
    "        for j in range(len(i)):\n",
    "            if i[j] == 1:\n",
    "                if W[num+1][j+1] == factory: i[j] = i[j] - 1\n",
    "                break;\n",
    "    return table,fscore                      \n",
    "    \n",
    "def h_min_step(node,factory,W):\n",
    "    '''\n",
    "    calculate the huristic of a certain step of node\n",
    "    '''\n",
    "    table = node.last_table.copy()\n",
    "    table2 = table.copy()\n",
    "    table2 = table2.T\n",
    "    fscore = 0\n",
    "    for num, i in enumerate (table):\n",
    "        if num < (len(table2)):\n",
    "            if table2[num].sum() != 0:fscore=fscore+1\n",
    "        for j in range(len(i)):\n",
    "            if i[j] == 1:\n",
    "                if W[num+1][j+1] == factory: i[j] = i[j] - 1\n",
    "                break;\n",
    "    return table,fscore\n",
    "\n",
    "def get_gscore_dist(city1,city2):\n",
    "    return Distance[fac_dict[city1]][fac_dict[city2]]\n",
    "\n",
    "def get_close(table):\n",
    "    s = ''\n",
    "    for i in table:\n",
    "        j = i.sum()\n",
    "        s = s+ str(int(j))\n",
    "    return s\n",
    "\n",
    "def get_step(a,b):\n",
    "    return 1\n",
    "\n",
    "def get_low_rank(open_set):\n",
    "    min_huris = float('inf')\n",
    "    for nodes in open_set:\n",
    "        if (nodes.fscore)<min_huris:\n",
    "            cur_node = nodes\n",
    "            min_huris = cur_node.fscore  \n",
    "    return cur_node\n",
    "\n",
    "def goal_test(node):\n",
    "    if node.last_table.sum() == 0: return True\n",
    "    return False"
   ]
  },
  {
   "cell_type": "code",
   "execution_count": 12,
   "metadata": {},
   "outputs": [],
   "source": [
    "def A_star(start,hu,get_func,N=5,W=W_):\n",
    "    node_expanded=1\n",
    "    hu_table = np.ones((5,N))\n",
    "    initnode = node(start,hu_table,gscore=0,fscore=25.0)\n",
    "    table,fscore = hu(initnode,start,W)\n",
    "    start_node = node(start,table,gscore=0,fscore=fscore,parent=start)\n",
    "    close_set = {}\n",
    "    open_set = []\n",
    "    heapq.heappush(open_set,start_node)\n",
    "    cities = ['A','B','C','D','E']\n",
    "    while len(open_set)!=0:\n",
    "        cur_node = heapq.heappop(open_set) \n",
    "        if goal_test(cur_node): \n",
    "#             print('node expanded=',node_expanded)\n",
    "            return cur_node.parent,node_expanded\n",
    "        close_set[get_close(cur_node.last_table)]=cur_node.gscore\n",
    "        for city in cities:\n",
    "            if city == cur_node.cur_factory: continue\n",
    "            table,fscore = hu(cur_node,city,W)\n",
    "            cost = cur_node.gscore+get_func(cur_node.cur_factory,city)\n",
    "            if get_close(table) in close_set:\n",
    "                if close_set[get_close(table)] < cost:\n",
    "                    continue\n",
    "                close_set[get_close(table)] = cost\n",
    "            new_node = node(city,table,gscore=cost,fscore=fscore+cost,parent=cur_node.parent+city)\n",
    "            heapq.heappush(open_set,new_node)\n",
    "            node_expanded = node_expanded + 1\n",
    "    return"
   ]
  },
  {
   "cell_type": "code",
   "execution_count": 13,
   "metadata": {},
   "outputs": [
    {
     "name": "stdout",
     "output_type": "stream",
     "text": [
      "for starting = A\n",
      "temp= ABEDCADBCDE\n",
      "len= 11\n",
      "\n",
      "for starting = B\n",
      "temp= BDAEDCBACDE\n",
      "len= 11\n",
      "\n",
      "for starting = C\n",
      "temp= CBDAEDCBACED\n",
      "len= 12\n",
      "\n",
      "for starting = D\n",
      "temp= DABEDCABCDE\n",
      "len= 11\n",
      "\n",
      "for starting = E\n",
      "temp= EBDAEDCBACED\n",
      "len= 12\n",
      "\n"
     ]
    }
   ],
   "source": [
    "backup_distance()\n",
    "for t in Starting_Point:\n",
    "    lenn = 1000\n",
    "    print('for starting =',t)\n",
    "    retv,ex = A_star(t,h_min_step,get_step)\n",
    "    dis = 0\n",
    "#     for s in retv:\n",
    "#         dis = dis + get_gscore_dist(t,s)\n",
    "#         t = s\n",
    "#     print(dis)\n",
    "    print('temp=',retv)\n",
    "    print('len=',len(retv))\n",
    "    print()"
   ]
  },
  {
   "cell_type": "code",
   "execution_count": 14,
   "metadata": {},
   "outputs": [
    {
     "name": "stdout",
     "output_type": "stream",
     "text": [
      "for starting = A\n",
      "distance = 5867\n",
      "AEBEDECAEDEBECED\n",
      "\n",
      "for starting = B\n",
      "distance = 5726\n",
      "BEDEAEDEBECEBEAED\n",
      "\n",
      "for starting = C\n",
      "distance = 6502\n",
      "CEBEDEAEBEDECEBEAED\n",
      "\n",
      "for starting = D\n",
      "distance = 5716\n",
      "DEBEAEBEDECEBEAED\n",
      "\n",
      "for starting = E\n",
      "distance = 6103\n",
      "EBEDEAEBEDECEBEAED\n",
      "\n"
     ]
    }
   ],
   "source": [
    "extract_distance()\n",
    "for t in Starting_Point:\n",
    "    lenn = 1000\n",
    "    print('for starting =',t)\n",
    "    retv,ex = A_star(t,h_min_dis,get_gscore_dist)\n",
    "    startttt = t\n",
    "    dis = 0\n",
    "    new_sequence = ''\n",
    "    for s in retv:\n",
    "        if get_gscore_dist(startttt,s) != Distance_cpy[fac_dict[startttt]][fac_dict[s]]:\n",
    "            new_sequence = new_sequence + mp[s]\n",
    "            new_sequence = new_sequence + s\n",
    "        else:\n",
    "            new_sequence = new_sequence + s\n",
    "        dis = dis + get_gscore_dist(startttt,s)\n",
    "        startttt = s\n",
    "    print('distance =', dis)\n",
    "    print(new_sequence)\n",
    "    print()"
   ]
  },
  {
   "cell_type": "code",
   "execution_count": 15,
   "metadata": {
    "collapsed": true
   },
   "outputs": [],
   "source": [
    "def random_generator(N):\n",
    "    tt = np.zeros((5,N))\n",
    "    Generated = {1:{},\n",
    "                2:{},\n",
    "                3:{},\n",
    "                4:{},\n",
    "                5:{}}\n",
    "    for i in range(N):\n",
    "        for j in range(5):\n",
    "            tt[j][i] = math.floor(random.random()*5)\n",
    "            if i > 0:\n",
    "                while tt[j][i] == tt[j][i-1]:\n",
    "                    tt[j][i] = math.floor(random.random()*5)\n",
    "            Generated[j+1][i+1] = rev_fac_dict[int(tt[j][i])]\n",
    "    return Generated"
   ]
  },
  {
   "cell_type": "code",
   "execution_count": 19,
   "metadata": {},
   "outputs": [
    {
     "name": "stdout",
     "output_type": "stream",
     "text": [
      "finish 3  0.1641089916229248\n",
      "finish 4  2.1781420707702637\n",
      "finish 5  4.127299785614014\n",
      "finish 6  6.042925119400024\n",
      "finish 7  119.97585201263428\n",
      "finish 8  206.51116394996643\n"
     ]
    }
   ],
   "source": [
    "total = []\n",
    "N = 8\n",
    "start = time.time()\n",
    "for N in range(3,9):\n",
    "#     for i in range(50):\n",
    "    temp = 0\n",
    "    W = random_generator(N)\n",
    "#         pprint.pprint(W)\n",
    "    for t in Starting_Point:\n",
    "        retv,ndexpnd = A_star(t,h_min_step,get_step,N = N, W = W)\n",
    "        temp = temp + ndexpnd\n",
    "    total.append(temp/len(Starting_Point))\n",
    "    print('finish',N,'',time.time()-start)"
   ]
  },
  {
   "cell_type": "code",
   "execution_count": 21,
   "metadata": {},
   "outputs": [
    {
     "data": {
      "text/plain": [
       "[315.8, 3512.8, 3612.2, 2837.4, 132528.2, 92362.2]"
      ]
     },
     "execution_count": 21,
     "metadata": {},
     "output_type": "execute_result"
    }
   ],
   "source": [
    "total"
   ]
  },
  {
   "cell_type": "code",
   "execution_count": 23,
   "metadata": {},
   "outputs": [
    {
     "data": {
      "image/png": "[encoded data removed]",
      "text/plain": [
       "<matplotlib.figure.Figure at 0x10f1c2ba8>"
      ]
     },
     "metadata": {},
     "output_type": "display_data"
    }
   ],
   "source": [
    "plt.plot(list(range(3,9)), total, 'b')\n",
    "plt.axis()\n",
    "plt.show()\n"
   ]
  },
  {
   "cell_type": "code",
   "execution_count": null,
   "metadata": {},
   "outputs": [],
   "source": [
    "list(range(3,9))"
   ]
  },
  {
   "cell_type": "code",
   "execution_count": null,
   "metadata": {
    "collapsed": true
   },
   "outputs": [],
   "source": [
    "res = [289.8, 803.4, 5632.4, 3704.6, 22579.6, 166241.4]"
   ]
  },
  {
   "cell_type": "code",
   "execution_count": null,
   "metadata": {
    "collapsed": true
   },
   "outputs": [],
   "source": []
  }
 ],
 "metadata": {
  "kernelspec": {
   "display_name": "Python 3",
   "language": "python",
   "name": "python3"
  },
  "language_info": {
   "codemirror_mode": {
    "name": "ipython",
    "version": 3
   },
   "file_extension": ".py",
   "mimetype": "text/x-python",
   "name": "python",
   "nbconvert_exporter": "python",
   "pygments_lexer": "ipython3",
   "version": "3.6.3"
  }
 },
 "nbformat": 4,
 "nbformat_minor": 2
}
