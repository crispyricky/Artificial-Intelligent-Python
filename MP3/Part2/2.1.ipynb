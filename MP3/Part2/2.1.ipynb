{
 "cells": [
  {
   "cell_type": "code",
   "execution_count": 302,
   "metadata": {
    "collapsed": true
   },
   "outputs": [],
   "source": [
    "import math\n",
    "import numpy as np\n",
    "import matplotlib.pyplot as plt\n",
    "import time\n",
    "import pprint\n",
    "import random\n",
    "np.set_printoptions(threshold=np.inf,suppress=True)"
   ]
  },
  {
   "cell_type": "code",
   "execution_count": 308,
   "metadata": {},
   "outputs": [],
   "source": [
    "train_data = [[],[],[],[],[],[],[],[],[],[],[]]\n",
    "test_data  = [[],[],[],[],[],[],[],[],[],[],[]]\n",
    "with open('optdigits-orig_test.txt') as f:\n",
    "    temp = []\n",
    "    for i, line in enumerate(f):\n",
    "        if i % 33 == 32:\n",
    "            temp = np.asarray(temp)\n",
    "            if int(line[1]) == 0:\n",
    "                test_data[0].append(temp)\n",
    "                \n",
    "            elif int(line[1]) == 1:\n",
    "                test_data[1].append(temp)\n",
    "                \n",
    "            elif int(line[1]) == 2:\n",
    "                test_data[2].append(temp)\n",
    "                \n",
    "            elif int(line[1]) == 3:\n",
    "                test_data[3].append(temp)\n",
    "                \n",
    "            elif int(line[1]) == 4:\n",
    "                test_data[4].append(temp)\n",
    "                \n",
    "            elif int(line[1]) == 5:\n",
    "                test_data[5].append(temp)\n",
    "                \n",
    "            elif int(line[1]) == 6:\n",
    "                test_data[6].append(temp)\n",
    "                \n",
    "            elif int(line[1]) == 7:\n",
    "                test_data[7].append(temp)\n",
    "                \n",
    "            elif int(line[1]) == 8:\n",
    "                test_data[8].append(temp)\n",
    "                \n",
    "            elif int(line[1]) == 9:\n",
    "                test_data[9].append(temp)\n",
    "            temp = []\n",
    "        else:\n",
    "            temp = temp+([int(x) for x in list(str(line))[:-1]])\n",
    "test_data = np.asarray(test_data)\n",
    "\n",
    "with open('optdigits-orig_train.txt') as f:\n",
    "    temp = []\n",
    "    for i, line in enumerate(f):\n",
    "        if i % 33 == 32:\n",
    "            if int(line[1]) == 0:\n",
    "                train_data[0].append(temp)\n",
    "            elif int(line[1]) == 1:\n",
    "                train_data[1].append(temp)\n",
    "            elif int(line[1]) == 2:\n",
    "                train_data[2].append(temp)\n",
    "            elif int(line[1]) == 3:\n",
    "                train_data[3].append(temp)\n",
    "            elif int(line[1]) == 4:\n",
    "                train_data[4].append(temp)\n",
    "            elif int(line[1]) == 5:\n",
    "                train_data[5].append(temp)\n",
    "            elif int(line[1]) == 6:\n",
    "                train_data[6].append(temp)\n",
    "            elif int(line[1]) == 7:\n",
    "                train_data[7].append(temp)\n",
    "            elif int(line[1]) == 8:\n",
    "                train_data[8].append(temp)\n",
    "            elif int(line[1]) == 9:\n",
    "                train_data[9].append(temp)\n",
    "            temp = []\n",
    "        else:\n",
    "            temp+=([int(x) for x in list(str(line))[:-1]])\n",
    "train_data = np.asarray(train_data)\n",
    "weight = np.zeros((10,1025))\n",
    "for i in range(10):\n",
    "    for j in range(len(train_data_bias[i])):\n",
    "        train_data[i][j].append(1)"
   ]
  },
  {
   "cell_type": "code",
   "execution_count": 310,
   "metadata": {},
   "outputs": [],
   "source": [
    "def fill_random(weight):\n",
    "    for i in range(len(weight)):\n",
    "        for j in range(len(weight[i])):\n",
    "            weight[i][j] = random.randint(1,100)\n",
    "\n",
    "def convert(features):\n",
    "    img_tp = []\n",
    "    for i in range(32):\n",
    "        img_tp.append(features[i*32:i*32+32])   \n",
    "    return img_tp\n",
    "\n",
    "def show_img(features):\n",
    "    plt.imshow(convert(features), cmap='Greys')\n",
    "    plt.show()\n",
    "    \n",
    "def update_wrong(s_weight,features,alpha):\n",
    "    for i in range(len(s_weight)):\n",
    "        s_weight[i] = s_weight[i] - alpha*features[i]\n",
    "    return\n",
    "\n",
    "def update_true(s_weight,features,alpha):\n",
    "    for i in range(len(s_weight)):\n",
    "        s_weight[i] = s_weight[i] + alpha*features[i]\n",
    "    return\n",
    "\n",
    "def train(features,number,w_bias=0,alpha=1):\n",
    "    tf = 0\n",
    "    result = np.zeros(10)\n",
    "    for j in range(10):\n",
    "        for i in range(1024+w_bias):\n",
    "            result[j]+=features[i]*weight[j][i]\n",
    "    if (result.argmax() != number):\n",
    "        update_wrong(weight[result.argmax()],features,alpha)\n",
    "        update_true(weight[number],features,alpha)\n",
    "        if w_bias:\n",
    "            weight[number][1025] = result[result.argmax()] - result[number]\n",
    "    else:\n",
    "        tf = 1\n",
    "    return(tf)\n",
    "\n",
    "def test(features):\n",
    "#     print('=======input=======')\n",
    "#     show_img(features)\n",
    "    result = np.zeros(10)\n",
    "    for j in range(10):\n",
    "        for i in range(1024):\n",
    "            result[j]+=features[i]*weight[j][i]\n",
    "    return (result.argmax())"
   ]
  },
  {
   "cell_type": "code",
   "execution_count": null,
   "metadata": {},
   "outputs": [],
   "source": [
    "epoch = 20\n",
    "accu = []\n",
    "for num in range(epoch):\n",
    "    total = 0\n",
    "    r_t = 0\n",
    "    for j in range(260):\n",
    "        for i in range(10):\n",
    "            if j<len(train_data[i]):\n",
    "                r_t+=train(train_data[i][j],i)\n",
    "                total +=1    \n",
    "    accu.append(r_t/total)"
   ]
  },
  {
   "cell_type": "code",
   "execution_count": 135,
   "metadata": {},
   "outputs": [
    {
     "data": {
      "image/png": "[encoded data removed]",
      "text/plain": [
       "<matplotlib.figure.Figure at 0x10d9b5e10>"
      ]
     },
     "metadata": {},
     "output_type": "display_data"
    }
   ],
   "source": [
    "fig, ax1 = plt.subplots()\n",
    "ax1.set_xlabel('Epoch Number')\n",
    "ax1.set_ylabel('Accuracy')\n",
    "ax1.plot(range(20), accu)\n",
    "plt.xticks(np.arange(0, 20, step=2))\n",
    "plt.show()"
   ]
  },
  {
   "cell_type": "code",
   "execution_count": 136,
   "metadata": {},
   "outputs": [],
   "source": [
    "tt = 0\n",
    "t = 0\n",
    "for i in range(10):\n",
    "    for j in (test_data[i]):\n",
    "        res = test(j)\n",
    "        tt+=1\n",
    "        if(res == i):\n",
    "            t+=1"
   ]
  },
  {
   "cell_type": "code",
   "execution_count": 117,
   "metadata": {},
   "outputs": [],
   "source": [
    "t_w = np.zeros((10,1024))\n",
    "fill_random(t_w)"
   ]
  },
  {
   "cell_type": "code",
   "execution_count": 137,
   "metadata": {},
   "outputs": [
    {
     "data": {
      "text/plain": [
       "array([[ 67.,   4.,  91., ...,  39.,  63.,  44.],\n",
       "       [ 62.,  61.,  32., ...,  10.,  87.,  51.],\n",
       "       [ 97.,  83.,  55., ...,  48.,  39.,  93.],\n",
       "       ..., \n",
       "       [  3.,  93.,  85., ...,  64.,  23.,  32.],\n",
       "       [ 95.,  58.,  36., ...,  44.,   2.,  28.],\n",
       "       [ 71.,  59.,  71., ...,  99.,  17.,  47.]])"
      ]
     },
     "execution_count": 137,
     "metadata": {},
     "output_type": "execute_result"
    }
   ],
   "source": [
    "t_w"
   ]
  },
  {
   "cell_type": "code",
   "execution_count": 288,
   "metadata": {},
   "outputs": [
    {
     "data": {
      "text/plain": [
       "242"
      ]
     },
     "execution_count": 288,
     "metadata": {},
     "output_type": "execute_result"
    }
   ],
   "source": [
    "ind_1 = random.randint(0,9)\n",
    "ind_2 = random.randint(0,len(train_data[ind_1]))"
   ]
  },
  {
   "cell_type": "code",
   "execution_count": null,
   "metadata": {
    "collapsed": true
   },
   "outputs": [],
   "source": [
    "alpha = a0/(1+1*epoch)"
   ]
  },
  {
   "cell_type": "code",
   "execution_count": null,
   "metadata": {
    "collapsed": true
   },
   "outputs": [],
   "source": [
    "fill_random(weight)"
   ]
  },
  {
   "cell_type": "markdown",
   "metadata": {},
   "source": [
    "Training curve: overall accuracy on the training set as a function of the epoch (i.e., complete pass through the training data). It's fine to show this in table form.\n",
    "Overall accuracy on the test set.\n",
    "Confusion matrix."
   ]
  },
  {
   "cell_type": "markdown",
   "metadata": {},
   "source": [
    "Learning rate decay function;"
   ]
  },
  {
   "cell_type": "code",
   "execution_count": null,
   "metadata": {
    "collapsed": true
   },
   "outputs": [],
   "source": [
    "epoch = 5\n",
    "accu = []\n",
    "for num in range(epoch):\n",
    "    total = 0\n",
    "    r_t = 0\n",
    "    for j in range(260):\n",
    "        for i in range(10):\n",
    "            if j<len(train_data[i]):\n",
    "                r_t+=train(train_data[i][j],i,alpha=1/(1+1*epoch))\n",
    "                total +=1    \n",
    "    accu.append(r_t/total)"
   ]
  },
  {
   "cell_type": "markdown",
   "metadata": {},
   "source": [
    "Bias vs. no bias;"
   ]
  },
  {
   "cell_type": "markdown",
   "metadata": {},
   "source": [
    "Initialization of weights (zeros vs. random);"
   ]
  },
  {
   "cell_type": "markdown",
   "metadata": {},
   "source": [
    "Ordering of training examples (fixed vs. random);"
   ]
  },
  {
   "cell_type": "markdown",
   "metadata": {},
   "source": [
    "Number of epochs."
   ]
  }
 ],
 "metadata": {
  "kernelspec": {
   "display_name": "Python 3",
   "language": "python",
   "name": "python3"
  },
  "language_info": {
   "codemirror_mode": {
    "name": "ipython",
    "version": 3
   },
   "file_extension": ".py",
   "mimetype": "text/x-python",
   "name": "python",
   "nbconvert_exporter": "python",
   "pygments_lexer": "ipython3",
   "version": "3.6.3"
  }
 },
 "nbformat": 4,
 "nbformat_minor": 2
}
