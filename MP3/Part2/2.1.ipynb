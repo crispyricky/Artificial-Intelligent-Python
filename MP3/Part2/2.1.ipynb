{
 "cells": [
  {
   "cell_type": "code",
   "execution_count": 302,
   "metadata": {
    "collapsed": true
   },
   "outputs": [],
   "source": [
    "import math\n",
    "import numpy as np\n",
    "import matplotlib.pyplot as plt\n",
    "import time\n",
    "import pprint\n",
    "import random\n",
    "np.set_printoptions(threshold=np.inf,suppress=True)"
   ]
  },
  {
   "cell_type": "code",
   "execution_count": 308,
   "metadata": {},
   "outputs": [],
   "source": [
    "train_data = [[],[],[],[],[],[],[],[],[],[],[]]\n",
    "test_data  = [[],[],[],[],[],[],[],[],[],[],[]]\n",
    "with open('optdigits-orig_test.txt') as f:\n",
    "    temp = []\n",
    "    for i, line in enumerate(f):\n",
    "        if i % 33 == 32:\n",
    "            temp = np.asarray(temp)\n",
    "            if int(line[1]) == 0:\n",
    "                test_data[0].append(temp)\n",
    "                \n",
    "            elif int(line[1]) == 1:\n",
    "                test_data[1].append(temp)\n",
    "                \n",
    "            elif int(line[1]) == 2:\n",
    "                test_data[2].append(temp)\n",
    "                \n",
    "            elif int(line[1]) == 3:\n",
    "                test_data[3].append(temp)\n",
    "                \n",
    "            elif int(line[1]) == 4:\n",
    "                test_data[4].append(temp)\n",
    "                \n",
    "            elif int(line[1]) == 5:\n",
    "                test_data[5].append(temp)\n",
    "                \n",
    "            elif int(line[1]) == 6:\n",
    "                test_data[6].append(temp)\n",
    "                \n",
    "            elif int(line[1]) == 7:\n",
    "                test_data[7].append(temp)\n",
    "                \n",
    "            elif int(line[1]) == 8:\n",
    "                test_data[8].append(temp)\n",
    "                \n",
    "            elif int(line[1]) == 9:\n",
    "                test_data[9].append(temp)\n",
    "            temp = []\n",
    "        else:\n",
    "            temp = temp+([int(x) for x in list(str(line))[:-1]])\n",
    "test_data = np.asarray(test_data)\n",
    "\n",
    "with open('optdigits-orig_train.txt') as f:\n",
    "    temp = []\n",
    "    for i, line in enumerate(f):\n",
    "        if i % 33 == 32:\n",
    "            if int(line[1]) == 0:\n",
    "                train_data[0].append(temp)\n",
    "            elif int(line[1]) == 1:\n",
    "                train_data[1].append(temp)\n",
    "            elif int(line[1]) == 2:\n",
    "                train_data[2].append(temp)\n",
    "            elif int(line[1]) == 3:\n",
    "                train_data[3].append(temp)\n",
    "            elif int(line[1]) == 4:\n",
    "                train_data[4].append(temp)\n",
    "            elif int(line[1]) == 5:\n",
    "                train_data[5].append(temp)\n",
    "            elif int(line[1]) == 6:\n",
    "                train_data[6].append(temp)\n",
    "            elif int(line[1]) == 7:\n",
    "                train_data[7].append(temp)\n",
    "            elif int(line[1]) == 8:\n",
    "                train_data[8].append(temp)\n",
    "            elif int(line[1]) == 9:\n",
    "                train_data[9].append(temp)\n",
    "            temp = []\n",
    "        else:\n",
    "            temp+=([int(x) for x in list(str(line))[:-1]])\n",
    "train_data = np.asarray(train_data)\n",
    "weight = np.zeros((10,1025))\n",
    "for i in range(10):\n",
    "    for j in range(len(train_data_bias[i])):\n",
    "        train_data[i][j].append(1)"
   ]
  },
  {
   "cell_type": "code",
   "execution_count": 316,
   "metadata": {},
   "outputs": [],
   "source": [
    "def fill_random(weight):\n",
    "    for i in range(len(weight)):\n",
    "        for j in range(len(weight[i])):\n",
    "            weight[i][j] = random.randint(1,100)\n",
    "\n",
    "def convert(features):\n",
    "    img_tp = []\n",
    "    for i in range(32):\n",
    "        img_tp.append(features[i*32:i*32+32])   \n",
    "    return img_tp\n",
    "\n",
    "def show_img(features):\n",
    "    plt.imshow(convert(features), cmap='Greys')\n",
    "    plt.show()\n",
    "    \n",
    "def update_wrong(s_weight,features,alpha):\n",
    "    for i in range(len(s_weight)):\n",
    "        s_weight[i] = s_weight[i] - alpha*features[i]\n",
    "    return\n",
    "\n",
    "def update_true(s_weight,features,alpha):\n",
    "    for i in range(len(s_weight)):\n",
    "        s_weight[i] = s_weight[i] + alpha*features[i]\n",
    "    return\n",
    "\n",
    "def train(features,number,w_bias=0,alpha=1):\n",
    "    tf = 0\n",
    "    result = np.zeros(10)\n",
    "    for j in range(10):\n",
    "        for i in range(1024+w_bias):\n",
    "            result[j]+=features[i]*weight[j][i]\n",
    "    if (result.argmax() != number):\n",
    "        update_wrong(weight[result.argmax()],features,alpha)\n",
    "        update_true(weight[number],features,alpha)\n",
    "        if w_bias:\n",
    "            weight[number][1024] = result[result.argmax()] - result[number]\n",
    "    else:\n",
    "        tf = 1\n",
    "    return(tf)\n",
    "\n",
    "def test(features):\n",
    "#     print('=======input=======')\n",
    "#     show_img(features)\n",
    "    result = np.zeros(10)\n",
    "    for j in range(10):\n",
    "        for i in range(1024):\n",
    "            result[j]+=features[i]*weight[j][i]\n",
    "    return (result.argmax())"
   ]
  },
  {
   "cell_type": "code",
   "execution_count": 334,
   "metadata": {},
   "outputs": [
    {
     "name": "stdout",
     "output_type": "stream",
     "text": [
      "0\n",
      "1\n",
      "2\n",
      "3\n",
      "4\n",
      "5\n",
      "6\n",
      "7\n",
      "8\n",
      "9\n",
      "10\n",
      "11\n",
      "12\n",
      "13\n",
      "14\n",
      "15\n",
      "16\n",
      "17\n",
      "18\n",
      "19\n"
     ]
    }
   ],
   "source": [
    "epoch = 20\n",
    "accu = []\n",
    "weight = np.zeros((10,1025))\n",
    "for num in range(epoch):\n",
    "    print(num)\n",
    "    total = 0\n",
    "    r_t = 0\n",
    "    for j in range(260):\n",
    "        for i in range(10):\n",
    "            if j<len(train_data[i]):\n",
    "                r_t+=train(train_data[i][j],i,w_bias=1,alpha=1/(1+1*epoch))\n",
    "                total +=1    \n",
    "    accu.append(r_t/total)"
   ]
  },
  {
   "cell_type": "code",
   "execution_count": 335,
   "metadata": {
    "scrolled": true
   },
   "outputs": [
    {
     "data": {
      "image/png": "[encoded data removed]",
      "text/plain": [
       "<matplotlib.figure.Figure at 0x10d92d588>"
      ]
     },
     "metadata": {},
     "output_type": "display_data"
    }
   ],
   "source": [
    "fig, ax1 = plt.subplots()\n",
    "ax1.set_xlabel('Epoch Number')\n",
    "ax1.set_ylabel('Accuracy')\n",
    "ax1.plot(range(20), accu)\n",
    "plt.xticks(np.arange(0, 20, step=2))\n",
    "plt.show()"
   ]
  },
  {
   "cell_type": "code",
   "execution_count": 346,
   "metadata": {},
   "outputs": [],
   "source": [
    "tt = 0\n",
    "t = 0\n",
    "c_m = np.zeros((10,10))\n",
    "for i in range(10):\n",
    "    for j in (test_data[i]):\n",
    "        res = test(j)\n",
    "        tt+=1\n",
    "        if(res == i):\n",
    "            t+=1\n",
    "            c_m[res][res]+=1\n",
    "        else:\n",
    "            c_m[res][i]+=1"
   ]
  },
  {
   "cell_type": "code",
   "execution_count": 339,
   "metadata": {},
   "outputs": [
    {
     "name": "stdout",
     "output_type": "stream",
     "text": [
      "Accurate Rate is: 0.9617117117117117\n"
     ]
    }
   ],
   "source": [
    "print('Accurate Rate is:',t/tt)"
   ]
  },
  {
   "cell_type": "code",
   "execution_count": 349,
   "metadata": {},
   "outputs": [
    {
     "data": {
      "text/plain": [
       "array([[ 36.,   0.,   1.,   0.,   0.,   0.,   1.,   0.,   0.,   0.],\n",
       "       [  0.,  43.,   0.,   0.,   1.,   0.,   0.,   0.,   1.,   0.],\n",
       "       [  0.,   0.,  37.,   0.,   0.,   0.,   0.,   0.,   0.,   1.],\n",
       "       [  0.,   0.,   0.,  33.,   0.,   0.,   0.,   0.,   0.,   2.],\n",
       "       [  0.,   0.,   0.,   0.,  56.,   0.,   0.,   0.,   0.,   0.],\n",
       "       [  0.,   0.,   0.,   0.,   0.,  58.,   0.,   0.,   1.,   0.],\n",
       "       [  0.,   0.,   0.,   0.,   0.,   0.,  42.,   0.,   0.,   0.],\n",
       "       [  0.,   2.,   0.,   0.,   0.,   0.,   0.,  47.,   0.,   1.],\n",
       "       [  0.,   0.,   3.,   0.,   2.,   0.,   0.,   0.,  38.,   1.],\n",
       "       [  0.,   0.,   0.,   0.,   0.,   0.,   0.,   0.,   0.,  37.]])"
      ]
     },
     "execution_count": 349,
     "metadata": {},
     "output_type": "execute_result"
    }
   ],
   "source": [
    "c_m"
   ]
  },
  {
   "cell_type": "code",
   "execution_count": 117,
   "metadata": {},
   "outputs": [],
   "source": [
    "t_w = np.zeros((10,1024))\n",
    "fill_random(t_w)"
   ]
  },
  {
   "cell_type": "code",
   "execution_count": 137,
   "metadata": {
    "scrolled": true
   },
   "outputs": [
    {
     "data": {
      "text/plain": [
       "array([[ 67.,   4.,  91., ...,  39.,  63.,  44.],\n",
       "       [ 62.,  61.,  32., ...,  10.,  87.,  51.],\n",
       "       [ 97.,  83.,  55., ...,  48.,  39.,  93.],\n",
       "       ..., \n",
       "       [  3.,  93.,  85., ...,  64.,  23.,  32.],\n",
       "       [ 95.,  58.,  36., ...,  44.,   2.,  28.],\n",
       "       [ 71.,  59.,  71., ...,  99.,  17.,  47.]])"
      ]
     },
     "execution_count": 137,
     "metadata": {},
     "output_type": "execute_result"
    }
   ],
   "source": [
    "t_w"
   ]
  },
  {
   "cell_type": "code",
   "execution_count": 288,
   "metadata": {
    "scrolled": true
   },
   "outputs": [
    {
     "data": {
      "text/plain": [
       "242"
      ]
     },
     "execution_count": 288,
     "metadata": {},
     "output_type": "execute_result"
    }
   ],
   "source": [
    "ind_1 = random.randint(0,9)\n",
    "ind_2 = random.randint(0,len(train_data[ind_1]))"
   ]
  },
  {
   "cell_type": "code",
   "execution_count": null,
   "metadata": {
    "collapsed": true
   },
   "outputs": [],
   "source": [
    "alpha = a0/(1+1*epoch)"
   ]
  },
  {
   "cell_type": "code",
   "execution_count": null,
   "metadata": {
    "collapsed": true
   },
   "outputs": [],
   "source": [
    "fill_random(weight)"
   ]
  },
  {
   "cell_type": "markdown",
   "metadata": {},
   "source": [
    "Training curve: overall accuracy on the training set as a function of the epoch (i.e., complete pass through the training data). It's fine to show this in table form.\n",
    "Overall accuracy on the test set.\n",
    "Confusion matrix."
   ]
  },
  {
   "cell_type": "markdown",
   "metadata": {},
   "source": [
    "Learning rate decay function\n",
    "==="
   ]
  },
  {
   "cell_type": "code",
   "execution_count": 319,
   "metadata": {
    "scrolled": true
   },
   "outputs": [
    {
     "name": "stdout",
     "output_type": "stream",
     "text": [
      "0\n",
      "1\n",
      "2\n",
      "3\n",
      "4\n"
     ]
    }
   ],
   "source": [
    "epoch = 5\n",
    "accu = []\n",
    "weight = np.zeros((10,1025))\n",
    "for num in range(epoch):\n",
    "    print(num)\n",
    "    total = 0\n",
    "    r_t = 0\n",
    "    for j in range(260):\n",
    "        for i in range(10):\n",
    "            if j<len(train_data[i]):\n",
    "                r_t+=train(train_data[i][j],i,alpha=1/(1+1*epoch))\n",
    "                total +=1    \n",
    "    accu.append(r_t/total)"
   ]
  },
  {
   "cell_type": "code",
   "execution_count": 320,
   "metadata": {},
   "outputs": [
    {
     "data": {
      "text/plain": [
       "[0.8394909688013136,\n",
       " 0.9408866995073891,\n",
       " 0.9560755336617406,\n",
       " 0.9663382594417077,\n",
       " 0.9614121510673235]"
      ]
     },
     "execution_count": 320,
     "metadata": {},
     "output_type": "execute_result"
    }
   ],
   "source": [
    "accu"
   ]
  },
  {
   "cell_type": "markdown",
   "metadata": {},
   "source": [
    "Bias vs. no bias\n",
    "==="
   ]
  },
  {
   "cell_type": "code",
   "execution_count": 321,
   "metadata": {},
   "outputs": [
    {
     "name": "stdout",
     "output_type": "stream",
     "text": [
      "0\n",
      "1\n",
      "2\n",
      "3\n",
      "4\n"
     ]
    }
   ],
   "source": [
    "epoch = 5\n",
    "accu = []\n",
    "weight = np.zeros((10,1025))\n",
    "for num in range(epoch):\n",
    "    print(num)\n",
    "    total = 0\n",
    "    r_t = 0\n",
    "    for j in range(260):\n",
    "        for i in range(10):\n",
    "            if j<len(train_data[i]):\n",
    "                r_t+=train(train_data[i][j],i,w_bias=1)\n",
    "                total +=1    \n",
    "    accu.append(r_t/total)"
   ]
  },
  {
   "cell_type": "code",
   "execution_count": 322,
   "metadata": {},
   "outputs": [
    {
     "data": {
      "text/plain": [
       "[0.8251231527093597,\n",
       " 0.9334975369458128,\n",
       " 0.9532019704433498,\n",
       " 0.958128078817734,\n",
       " 0.964696223316913]"
      ]
     },
     "execution_count": 322,
     "metadata": {},
     "output_type": "execute_result"
    }
   ],
   "source": [
    "accu"
   ]
  },
  {
   "cell_type": "markdown",
   "metadata": {},
   "source": [
    "Initialization of weights (zeros vs. random)\n",
    "==="
   ]
  },
  {
   "cell_type": "code",
   "execution_count": 323,
   "metadata": {},
   "outputs": [
    {
     "name": "stdout",
     "output_type": "stream",
     "text": [
      "0\n",
      "1\n",
      "2\n",
      "3\n",
      "4\n"
     ]
    }
   ],
   "source": [
    "epoch = 5\n",
    "accu = []\n",
    "weight = np.zeros((10,1025))\n",
    "fill_random(weight)\n",
    "for num in range(epoch):\n",
    "    print(num)\n",
    "    total = 0\n",
    "    r_t = 0\n",
    "    for j in range(260):\n",
    "        for i in range(10):\n",
    "            if j<len(train_data[i]):\n",
    "                r_t+=train(train_data[i][j],i,w_bias=1)\n",
    "                total +=1    \n",
    "    accu.append(r_t/total)"
   ]
  },
  {
   "cell_type": "code",
   "execution_count": 324,
   "metadata": {},
   "outputs": [
    {
     "data": {
      "text/plain": [
       "[0.756568144499179,\n",
       " 0.9064039408866995,\n",
       " 0.9359605911330049,\n",
       " 0.9552545155993432,\n",
       " 0.9618226600985221]"
      ]
     },
     "execution_count": 324,
     "metadata": {},
     "output_type": "execute_result"
    }
   ],
   "source": [
    "accu"
   ]
  },
  {
   "cell_type": "markdown",
   "metadata": {},
   "source": [
    "Number of epochs.\n",
    "==="
   ]
  },
  {
   "cell_type": "code",
   "execution_count": 325,
   "metadata": {},
   "outputs": [
    {
     "name": "stdout",
     "output_type": "stream",
     "text": [
      "0\n",
      "1\n",
      "2\n",
      "3\n",
      "4\n",
      "5\n",
      "6\n",
      "7\n",
      "8\n",
      "9\n"
     ]
    }
   ],
   "source": [
    "epoch = 10\n",
    "accu = []\n",
    "weight = np.zeros((10,1025))\n",
    "fill_random(weight)\n",
    "for num in range(epoch):\n",
    "    print(num)\n",
    "    total = 0\n",
    "    r_t = 0\n",
    "    for j in range(260):\n",
    "        for i in range(10):\n",
    "            if j<len(train_data[i]):\n",
    "                r_t+=train(train_data[i][j],i)\n",
    "                total +=1    \n",
    "    accu.append(r_t/total)"
   ]
  },
  {
   "cell_type": "code",
   "execution_count": 326,
   "metadata": {},
   "outputs": [
    {
     "data": {
      "text/plain": [
       "[0.7869458128078818,\n",
       " 0.9232348111658456,\n",
       " 0.9441707717569786,\n",
       " 0.9568965517241379,\n",
       " 0.9655172413793104,\n",
       " 0.9700328407224958,\n",
       " 0.9749589490968801,\n",
       " 0.9741379310344828,\n",
       " 0.9860426929392446,\n",
       " 0.9831691297208539]"
      ]
     },
     "execution_count": 326,
     "metadata": {},
     "output_type": "execute_result"
    }
   ],
   "source": [
    "accu"
   ]
  },
  {
   "cell_type": "code",
   "execution_count": null,
   "metadata": {
    "collapsed": true
   },
   "outputs": [],
   "source": []
  }
 ],
 "metadata": {
  "kernelspec": {
   "display_name": "Python 3",
   "language": "python",
   "name": "python3"
  },
  "language_info": {
   "codemirror_mode": {
    "name": "ipython",
    "version": 3
   },
   "file_extension": ".py",
   "mimetype": "text/x-python",
   "name": "python",
   "nbconvert_exporter": "python",
   "pygments_lexer": "ipython3",
   "version": "3.6.3"
  }
 },
 "nbformat": 4,
 "nbformat_minor": 2
}
