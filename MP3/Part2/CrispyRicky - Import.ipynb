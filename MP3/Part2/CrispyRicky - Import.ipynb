{
 "cells": [
  {
   "cell_type": "code",
   "execution_count": 62,
   "metadata": {},
   "outputs": [],
   "source": [
    "import math\n",
    "import numpy as np\n",
    "# np.set_printoptions(threshold=np.inf)\n",
    "import matplotlib.pyplot as plt\n",
    "import time"
   ]
  },
  {
   "cell_type": "code",
   "execution_count": 63,
   "metadata": {},
   "outputs": [],
   "source": [
    "# Import data from training sets\n",
    "zero = []\n",
    "one = []\n",
    "two = []\n",
    "three = []\n",
    "four = []\n",
    "five = []\n",
    "six = []\n",
    "seven = []\n",
    "eight = []\n",
    "nine = []"
   ]
  },
  {
   "cell_type": "code",
   "execution_count": 64,
   "metadata": {
    "scrolled": true
   },
   "outputs": [],
   "source": [
    "with open('optdigits-orig_train.txt') as f:\n",
    "    temp = []\n",
    "    for i, line in enumerate(f):\n",
    "        if i % 33 == 32:\n",
    "            temp = np.asarray(temp)\n",
    "            if int(line[1]) == 0:\n",
    "                zero.append(temp)\n",
    "            elif int(line[1]) == 1:\n",
    "                one.append(temp)\n",
    "            elif int(line[1]) == 2:\n",
    "                two.append(temp)\n",
    "            elif int(line[1]) == 3:\n",
    "                three.append(temp)\n",
    "            elif int(line[1]) == 4:\n",
    "                four.append(temp)\n",
    "            elif int(line[1]) == 5:\n",
    "                five.append(temp)\n",
    "            elif int(line[1]) == 6:\n",
    "                six.append(temp)\n",
    "            elif int(line[1]) == 7:\n",
    "                seven.append(temp)\n",
    "            elif int(line[1]) == 8:\n",
    "                eight.append(temp)\n",
    "            elif int(line[1]) == 9:\n",
    "                nine.append(temp)\n",
    "            temp = []\n",
    "        else:\n",
    "            temp.append([int(x) for x in list(str(line))[:-1]])"
   ]
  },
  {
   "cell_type": "code",
   "execution_count": 65,
   "metadata": {},
   "outputs": [
    {
     "data": {
      "image/png": "[encoded data removed]",
      "text/plain": [
       "<matplotlib.figure.Figure at 0x110a237b8>"
      ]
     },
     "metadata": {},
     "output_type": "display_data"
    }
   ],
   "source": [
    "plt.imshow(seven[220], cmap='Greys')\n",
    "plt.show()"
   ]
  },
  {
   "cell_type": "code",
   "execution_count": 67,
   "metadata": {},
   "outputs": [
    {
     "name": "stdout",
     "output_type": "stream",
     "text": [
      "240\n"
     ]
    }
   ],
   "source": [
    "print(len(zero))"
   ]
  },
  {
   "cell_type": "code",
   "execution_count": null,
   "metadata": {},
   "outputs": [],
   "source": []
  }
 ],
 "metadata": {
  "kernelspec": {
   "display_name": "Python 3",
   "language": "python",
   "name": "python3"
  },
  "language_info": {
   "codemirror_mode": {
    "name": "ipython",
    "version": 3
   },
   "file_extension": ".py",
   "mimetype": "text/x-python",
   "name": "python",
   "nbconvert_exporter": "python",
   "pygments_lexer": "ipython3",
   "version": "3.6.4"
  }
 },
 "nbformat": 4,
 "nbformat_minor": 2
}
