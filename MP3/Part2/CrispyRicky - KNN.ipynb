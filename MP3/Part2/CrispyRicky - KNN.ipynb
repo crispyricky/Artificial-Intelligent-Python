{
 "cells": [
  {
   "cell_type": "code",
   "execution_count": 106,
   "metadata": {},
   "outputs": [],
   "source": [
    "import numpy as np\n",
    "import pandas as pd\n",
    "import matplotlib.pyplot as plt\n",
    "import timeit\n",
    "from sklearn.neighbors import KNeighborsClassifier"
   ]
  },
  {
   "cell_type": "code",
   "execution_count": 107,
   "metadata": {},
   "outputs": [],
   "source": [
    "# Import data from training sets\n",
    "with open('optdigits-orig_train.txt') as f:\n",
    "    train_data = []\n",
    "    train_label = []\n",
    "    temp = []\n",
    "    for i, line in enumerate(f):\n",
    "        if i % 33 == 32:\n",
    "            temp = np.asarray(temp).reshape((1024,))\n",
    "            train_data.append(temp)\n",
    "            train_label.append(int(line[1]))\n",
    "            temp = []\n",
    "        else:\n",
    "            temp.append([int(x) for x in list(str(line))[:-1]])\n",
    "train_label = np.asarray(train_label)\n",
    "train_data = np.asarray(train_data)"
   ]
  },
  {
   "cell_type": "code",
   "execution_count": 108,
   "metadata": {},
   "outputs": [],
   "source": [
    "# Import data from test sets\n",
    "with open('optdigits-orig_test.txt') as f:\n",
    "    test_data = []\n",
    "    test_label = []\n",
    "    temp = []\n",
    "    for i, line in enumerate(f):\n",
    "        if i % 33 == 32:\n",
    "            temp = np.asarray(temp).reshape((1024,))\n",
    "            test_data.append(temp)\n",
    "            test_label.append(int(line[1]))\n",
    "            temp = []\n",
    "        else:\n",
    "            temp.append([int(x) for x in list(str(line))[:-1]])\n",
    "test_label = np.asarray(test_label)\n",
    "test_data = np.asarray(test_data)"
   ]
  },
  {
   "cell_type": "code",
   "execution_count": 109,
   "metadata": {},
   "outputs": [
    {
     "data": {
      "image/png": "[encoded data removed]",
      "text/plain": [
       "<matplotlib.figure.Figure at 0x1c2ab4dc18>"
      ]
     },
     "metadata": {},
     "output_type": "display_data"
    }
   ],
   "source": [
    "plt.imshow(train_data[120].reshape((32,32)), cmap='Greys')\n",
    "plt.show()"
   ]
  },
  {
   "cell_type": "code",
   "execution_count": 110,
   "metadata": {},
   "outputs": [
    {
     "name": "stdout",
     "output_type": "stream",
     "text": [
      "     k  Overall Accuracy (%)\n",
      "0    1             99.549550\n",
      "1    3             99.549550\n",
      "2    5             99.324324\n",
      "3    7             99.324324\n",
      "4    9             98.873874\n",
      "5   11             99.099099\n",
      "6   13             99.099099\n",
      "7   15             99.099099\n",
      "8   17             98.648649\n",
      "9   19             98.873874\n",
      "10  21             98.198198\n",
      "11  23             97.972973\n",
      "12  25             97.972973\n"
     ]
    }
   ],
   "source": [
    "k = np.arange(1,27,2)\n",
    "acc = np.zeros(13)\n",
    "for i in k:\n",
    "    knn = KNeighborsClassifier(n_neighbors=i, algorithm='brute', metric='euclidean')\n",
    "    knn.fit(train_data, train_label)\n",
    "    score = knn.score(test_data, test_label)\n",
    "    acc[int((i-1)/2)] = score * 100\n",
    "\n",
    "df = pd.DataFrame({'k': k, 'Overall Accuracy (%)':acc})\n",
    "df = df[df.columns[::-1]]\n",
    "print(df)"
   ]
  },
  {
   "cell_type": "code",
   "execution_count": 127,
   "metadata": {
    "scrolled": true
   },
   "outputs": [
    {
     "name": "stdout",
     "output_type": "stream",
     "text": [
      "Running time for all 444 test data is 0.07742244200198911 seconds\n",
      "Running time for a single query is 0.00017437486937384934 seconds.\n",
      "[[36.  0.  0.  0.  0.  0.  0.  0.  0.  0.]\n",
      " [ 0. 44.  0.  0.  0.  0.  0.  1.  0.  0.]\n",
      " [ 0.  0. 41.  0.  0.  0.  0.  0.  0.  0.]\n",
      " [ 0.  0.  0. 33.  0.  0.  0.  0.  0.  0.]\n",
      " [ 0.  0.  0.  0. 59.  0.  0.  0.  0.  0.]\n",
      " [ 0.  0.  0.  0.  0. 58.  0.  0.  0.  0.]\n",
      " [ 0.  0.  0.  0.  0.  0. 43.  0.  0.  0.]\n",
      " [ 0.  0.  0.  0.  0.  0.  0. 47.  0.  0.]\n",
      " [ 0.  0.  0.  0.  0.  0.  0.  0. 40.  0.]\n",
      " [ 0.  0.  0.  0.  0.  1.  0.  0.  0. 41.]]\n"
     ]
    }
   ],
   "source": [
    "knn = KNeighborsClassifier(n_neighbors=1, algorithm='brute', metric='euclidean')\n",
    "knn.fit(train_data, train_label)\n",
    "\n",
    "time = timeit.default_timer()\n",
    "knn_label = knn.predict(test_data)\n",
    "time = timeit.default_timer() - time\n",
    "print(\"Running time for all 444 test data is {} seconds\".format(time))\n",
    "print(\"Running time for a single query is {} seconds.\".format(time / test_label.shape[0]))\n",
    "\n",
    "confusion = np.zeros((10,10))\n",
    "for i in range(test_label.shape[0]):\n",
    "    confusion[test_label[i]][knn_label[i]] += 1\n",
    "print(confusion)"
   ]
  },
  {
   "cell_type": "code",
   "execution_count": null,
   "metadata": {},
   "outputs": [],
   "source": []
  }
 ],
 "metadata": {
  "kernelspec": {
   "display_name": "Python 3",
   "language": "python",
   "name": "python3"
  },
  "language_info": {
   "codemirror_mode": {
    "name": "ipython",
    "version": 3
   },
   "file_extension": ".py",
   "mimetype": "text/x-python",
   "name": "python",
   "nbconvert_exporter": "python",
   "pygments_lexer": "ipython3",
   "version": "3.6.4"
  }
 },
 "nbformat": 4,
 "nbformat_minor": 2
}
