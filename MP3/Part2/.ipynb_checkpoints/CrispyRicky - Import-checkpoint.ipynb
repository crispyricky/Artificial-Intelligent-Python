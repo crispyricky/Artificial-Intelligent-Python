{
 "cells": [
  {
   "cell_type": "code",
   "execution_count": 2,
   "metadata": {
    "collapsed": true
   },
   "outputs": [],
   "source": [
    "import math\n",
    "import numpy as np\n",
    "# np.set_printoptions(threshold=np.inf)\n",
    "import matplotlib.pyplot as plt\n",
    "import time"
   ]
  },
  {
   "cell_type": "code",
   "execution_count": 25,
   "metadata": {
    "scrolled": true
   },
   "outputs": [],
   "source": [
    "# Import data from training sets\n",
    "zero = []\n",
    "one = []\n",
    "two = []\n",
    "three = []\n",
    "four = []\n",
    "five = []\n",
    "six = []\n",
    "seven = []\n",
    "eight = []\n",
    "nine = []\n",
    "\n",
    "with open('optdigits-orig_train.txt') as f:\n",
    "    temp = []\n",
    "    for i, line in enumerate(f):\n",
    "        if i % 33 == 32:\n",
    "            temp = np.asarray(temp)\n",
    "            if int(line[1]) == 0:\n",
    "                zero.append(temp)\n",
    "            elif int(line[1]) == 1:\n",
    "                one.append(temp)\n",
    "            elif int(line[1]) == 2:\n",
    "                two.append(temp)\n",
    "            elif int(line[1]) == 3:\n",
    "                three.append(temp)\n",
    "            elif int(line[1]) == 4:\n",
    "                four.append(temp)\n",
    "            elif int(line[1]) == 5:\n",
    "                five.append(temp)\n",
    "            elif int(line[1]) == 6:\n",
    "                six.append(temp)\n",
    "            elif int(line[1]) == 7:\n",
    "                seven.append(temp)\n",
    "            elif int(line[1]) == 8:\n",
    "                eight.append(temp)\n",
    "            elif int(line[1]) == 9:\n",
    "                nine.append(temp)\n",
    "            temp = []\n",
    "        else:\n",
    "            temp.append([int(x) for x in list(str(line))[:-1]])"
   ]
  },
  {
   "cell_type": "code",
   "execution_count": 29,
   "metadata": {},
   "outputs": [
    {
     "data": {
      "image/png": "[encoded data removed]",
      "text/plain": [
       "<matplotlib.figure.Figure at 0x113dc84a8>"
      ]
     },
     "metadata": {},
     "output_type": "display_data"
    }
   ],
   "source": [
    "plt.imshow(seven[200], cmap='Greys')\n",
    "plt.show()"
   ]
  },
  {
   "cell_type": "code",
   "execution_count": 40,
   "metadata": {},
   "outputs": [],
   "source": [
    "weight = np.zeros((10,1024))"
   ]
  },
  {
   "cell_type": "code",
   "execution_count": 41,
   "metadata": {},
   "outputs": [
    {
     "data": {
      "text/plain": [
       "10"
      ]
     },
     "execution_count": 41,
     "metadata": {},
     "output_type": "execute_result"
    }
   ],
   "source": [
    "def update_wrong(s_weight,features):\n",
    "    for i in range(len(s_weight)):\n",
    "        s_weight[i] = s_weight[i] - features[i]\n",
    "    return\n",
    "\n",
    "def update_true(s_weight,features):\n",
    "    for i in range(len(s_weight)):\n",
    "        s_weight[i] = s_weight[i] + features[i]\n",
    "    return\n",
    "\n",
    "def train(features,number):\n",
    "    result = np.zeros(10)\n",
    "    for j in range(10):\n",
    "        for i in range(1024):\n",
    "            result[j]+=features[i]*weight[number][i]\n",
    "    if (result.argmax() != number):\n",
    "        update_wrong(weight[result.argmax()],features)\n",
    "        update_true(weight[number],features)"
   ]
  },
  {
   "cell_type": "markdown",
   "metadata": {},
   "source": [
    "• One‐vs‐others framework: Need to keep a weight vector wc for each class c\n",
    "\n",
    "• Decision rule: c = argmaxc w_c*x\n",
    "\n",
    "• Update rule: suppose example from class c gets misclassified as c’ \n",
    "\n",
    "• Update for c: w_c<-w_c + ηx\n",
    "\n",
    "• Update for c’: w_c’<-w_c’ – ηx\n",
    "\n",
    "• Update for all classes other than c and c’: no change\n"
   ]
  },
  {
   "cell_type": "code",
   "execution_count": 58,
   "metadata": {},
   "outputs": [],
   "source": [
    "test = np.array([0,0,0,0,0,0,0,0])"
   ]
  },
  {
   "cell_type": "code",
   "execution_count": 59,
   "metadata": {},
   "outputs": [
    {
     "data": {
      "text/plain": [
       "0"
      ]
     },
     "execution_count": 59,
     "metadata": {},
     "output_type": "execute_result"
    }
   ],
   "source": [
    "test.argmax()"
   ]
  },
  {
   "cell_type": "code",
   "execution_count": null,
   "metadata": {
    "collapsed": true
   },
   "outputs": [],
   "source": []
  }
 ],
 "metadata": {
  "kernelspec": {
   "display_name": "Python 3",
   "language": "python",
   "name": "python3"
  },
  "language_info": {
   "codemirror_mode": {
    "name": "ipython",
    "version": 3
   },
   "file_extension": ".py",
   "mimetype": "text/x-python",
   "name": "python",
   "nbconvert_exporter": "python",
   "pygments_lexer": "ipython3",
   "version": "3.6.3"
  }
 },
 "nbformat": 4,
 "nbformat_minor": 2
}
