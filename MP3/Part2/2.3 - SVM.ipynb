{
 "cells": [
  {
   "cell_type": "code",
   "execution_count": 6,
   "metadata": {},
   "outputs": [],
   "source": [
    "# http://scikit-learn.org/stable/auto_examples/classification/plot_digits_classification.html\n",
    "# support vector machine from scikit-learn"
   ]
  },
  {
   "cell_type": "code",
   "execution_count": 7,
   "metadata": {},
   "outputs": [],
   "source": [
    "import numpy as np\n",
    "import pandas as pd\n",
    "import matplotlib.pyplot as plt\n",
    "from sklearn import svm"
   ]
  },
  {
   "cell_type": "code",
   "execution_count": 8,
   "metadata": {},
   "outputs": [],
   "source": [
    "# Import data from training sets\n",
    "with open('optdigits-orig_train.txt') as f:\n",
    "    train_data = []\n",
    "    train_label = []\n",
    "    temp = []\n",
    "    for i, line in enumerate(f):\n",
    "        if i % 33 == 32:\n",
    "            temp = np.asarray(temp).reshape((1024,))\n",
    "            train_data.append(temp)\n",
    "            train_label.append(int(line[1]))\n",
    "            temp = []\n",
    "        else:\n",
    "            temp.append([int(x) for x in list(str(line))[:-1]])\n",
    "train_label = np.asarray(train_label)\n",
    "train_data = np.asarray(train_data)"
   ]
  },
  {
   "cell_type": "code",
   "execution_count": 9,
   "metadata": {},
   "outputs": [],
   "source": [
    "# Import data from test sets\n",
    "with open('optdigits-orig_test.txt') as f:\n",
    "    test_data = []\n",
    "    test_label = []\n",
    "    temp = []\n",
    "    for i, line in enumerate(f):\n",
    "        if i % 33 == 32:\n",
    "            temp = np.asarray(temp).reshape((1024,))\n",
    "            test_data.append(temp)\n",
    "            test_label.append(int(line[1]))\n",
    "            temp = []\n",
    "        else:\n",
    "            temp.append([int(x) for x in list(str(line))[:-1]])\n",
    "test_label = np.asarray(test_label)\n",
    "test_data = np.asarray(test_data)"
   ]
  },
  {
   "cell_type": "code",
   "execution_count": 22,
   "metadata": {},
   "outputs": [
    {
     "name": "stdout",
     "output_type": "stream",
     "text": [
      "[[36.  0.  0.  0.  0.  0.  0.  0.  0.  0.]\n",
      " [ 0. 44.  0.  0.  0.  0.  0.  1.  0.  0.]\n",
      " [ 0.  0. 36.  0.  0.  0.  0.  0.  4.  1.]\n",
      " [ 0.  0.  0. 31.  0.  0.  0.  0.  0.  2.]\n",
      " [ 0.  0.  0.  0. 57.  0.  0.  0.  2.  0.]\n",
      " [ 0.  0.  0.  0.  0. 58.  0.  0.  0.  0.]\n",
      " [ 0.  0.  0.  0.  1.  0. 42.  0.  0.  0.]\n",
      " [ 0.  0.  0.  0.  1.  0.  0. 46.  0.  0.]\n",
      " [ 0.  0.  0.  0.  0.  0.  0.  0. 40.  0.]\n",
      " [ 0.  0.  0.  1.  0.  0.  0.  1.  0. 40.]]\n",
      "Accuracy is 0.9684684684684685\n"
     ]
    }
   ],
   "source": [
    "### default svm by scikit-learn\n",
    "clf = svm.SVC()\n",
    "clf.fit(train_data, train_label)\n",
    "svm_label = clf.predict(test_data)\n",
    "confusion = np.zeros((10,10))\n",
    "for i in range(test_label.shape[0]):\n",
    "    confusion[test_label[i]][svm_label[i]] += 1\n",
    "print(confusion)\n",
    "print(\"Accuracy is {}\".format(1-(np.count_nonzero(test_label-svm_label)/test_label.shape[0])))"
   ]
  },
  {
   "cell_type": "code",
   "execution_count": 21,
   "metadata": {},
   "outputs": [
    {
     "name": "stdout",
     "output_type": "stream",
     "text": [
      "[[36.  0.  0.  0.  0.  0.  0.  0.  0.  0.]\n",
      " [ 0. 44.  0.  0.  0.  0.  0.  1.  0.  0.]\n",
      " [ 0.  0. 40.  0.  0.  0.  0.  0.  0.  1.]\n",
      " [ 0.  0.  0. 33.  0.  0.  0.  0.  0.  0.]\n",
      " [ 0.  0.  0.  0. 59.  0.  0.  0.  0.  0.]\n",
      " [ 0.  0.  0.  0.  0. 58.  0.  0.  0.  0.]\n",
      " [ 0.  0.  0.  0.  1.  0. 42.  0.  0.  0.]\n",
      " [ 0.  0.  0.  0.  0.  0.  0. 47.  0.  0.]\n",
      " [ 0.  0.  0.  0.  0.  0.  0.  0. 40.  0.]\n",
      " [ 0.  0.  0.  0.  0.  0.  0.  0.  0. 42.]]\n",
      "Accuracy is 0.9932432432432432\n"
     ]
    }
   ],
   "source": [
    "### svm with gamma=0.01\n",
    "clf = svm.SVC(gamma=0.01)\n",
    "clf.fit(train_data, train_label)\n",
    "svm_label = clf.predict(test_data)\n",
    "confusion = np.zeros((10,10))\n",
    "for i in range(test_label.shape[0]):\n",
    "    confusion[test_label[i]][svm_label[i]] += 1\n",
    "print(confusion)\n",
    "print(\"Accuracy is {}\".format(1-(np.count_nonzero(test_label-svm_label)/test_label.shape[0])))"
   ]
  },
  {
   "cell_type": "code",
   "execution_count": null,
   "metadata": {},
   "outputs": [],
   "source": []
  }
 ],
 "metadata": {
  "kernelspec": {
   "display_name": "Python 3",
   "language": "python",
   "name": "python3"
  },
  "language_info": {
   "codemirror_mode": {
    "name": "ipython",
    "version": 3
   },
   "file_extension": ".py",
   "mimetype": "text/x-python",
   "name": "python",
   "nbconvert_exporter": "python",
   "pygments_lexer": "ipython3",
   "version": "3.6.4"
  }
 },
 "nbformat": 4,
 "nbformat_minor": 2
}
