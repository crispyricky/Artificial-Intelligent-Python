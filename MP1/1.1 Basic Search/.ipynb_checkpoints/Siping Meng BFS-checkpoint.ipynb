{
 "cells": [
  {
   "cell_type": "code",
   "execution_count": 1,
   "metadata": {
    "collapsed": true
   },
   "outputs": [],
   "source": [
    "import numpy as np\n",
    "import queue\n",
    "maze_name = \"MediumMaze.txt\"\n",
    "\n",
    "f = open(maze_name)\n",
    "maze_sol = []\n",
    "with open(maze_name) as inputfile:\n",
    "    for line in inputfile:\n",
    "        maze_sol.append(list(line.strip()))\n",
    "\n",
    "maze = f.readlines()"
   ]
  },
  {
   "cell_type": "code",
   "execution_count": 2,
   "metadata": {
    "collapsed": true
   },
   "outputs": [],
   "source": [
    "maze_dict = {' ':0, 'P':1, '%':2, '.':3, '\\n':2}\n",
    "maze_height = len(maze)\n",
    "maze_width = len(maze[0])\n",
    "maze_visited = np.zeros((maze_height, maze_width))\n",
    "maze_tree = {}\n",
    "count = 0"
   ]
  },
  {
   "cell_type": "code",
   "execution_count": 3,
   "metadata": {
    "collapsed": true
   },
   "outputs": [],
   "source": [
    "for h in range(len(maze)):\n",
    "    for w in range(len(maze[h])):\n",
    "        if maze_dict[maze[h][w]] == 2:\n",
    "            maze_visited[h][w] = 1\n",
    "        if maze_dict[maze[h][w]] == 1:\n",
    "            maze_start_height = h\n",
    "            maze_start_width = w\n",
    "        if maze_dict[maze[h][w]] == 3:\n",
    "            maze_end_height = h\n",
    "            maze_end_width = w\n",
    "        maze_tree[(h,w)] = [0,0,0,0,0] # up, right, down, left, parent[0:up,1:right,2:down,3:left]\n",
    "        if maze_dict[maze[h][w]] == 2:\n",
    "            continue\n",
    "        if maze_dict[maze[h][w]] != 2:\n",
    "            if maze_dict[maze[h+1][w]] != 2:\n",
    "                maze_tree[(h,w)][2] = 1\n",
    "            if maze_dict[maze[h-1][w]] != 2:\n",
    "                maze_tree[(h,w)][0] = 1\n",
    "            if maze_dict[maze[h][w+1]] != 2:\n",
    "                maze_tree[(h,w)][1] = 1\n",
    "            if maze_dict[maze[h][w-1]] != 2:   \n",
    "                maze_tree[(h,w)][3] = 1"
   ]
  },
  {
   "cell_type": "code",
   "execution_count": 13,
   "metadata": {},
   "outputs": [],
   "source": [
    "def bfs(tree, start, end, visit):\n",
    "    global count\n",
    "    # maintain a queue of paths\n",
    "    queue = []\n",
    "    # push the first path into the queue\n",
    "    queue.append(start)\n",
    "    print('my start is %s',start)\n",
    "    print('my end is %s',end)\n",
    "    print('bfs finding...')\n",
    "    while queue:\n",
    "        # get the first path from the queue\n",
    "#         print('checking queue')\n",
    "#         print(queue)\n",
    "        node = queue.pop(0)\n",
    "        # get the last node from the path\n",
    "\n",
    "#         print('checking node')\n",
    "#         print(node)\n",
    "        \n",
    "        # path found\n",
    "        if node == end:\n",
    "            return\n",
    "        adjacent = tree.get(node)\n",
    "#         print(adjacent)\n",
    "#         print(visit[node[0]][node[1]])\n",
    "# up, right, down, left, parent[0:up,1:right,2:down,3:left]\n",
    "        if (adjacent[0] == 1) and (visit[node[0]-1][node[1]] == 0):      #UP\n",
    "#             print('if1')\n",
    "#             print(tree.get((1,24)))\n",
    "            newnode = (node[0]-1,node[1])\n",
    "            queue.append(newnode)\n",
    "            maze_tree[newnode][4] = 2\n",
    "            visit[newnode[0]][newnode[1]] = 1\n",
    "            count = count + 1\n",
    "\n",
    "        if (adjacent[1] == 1) and (visit[node[0]][node[1]+1] == 0):     #right\n",
    "#             print('if2')\n",
    "#             print(tree.get((1,24)))\n",
    "            newnode = (node[0],node[1]+1)\n",
    "            queue.append(newnode)\n",
    "            maze_tree[newnode][4] = 3\n",
    "            visit[newnode[0]][newnode[1]] = 1\n",
    "            count = count + 1\n",
    "\n",
    "        if (adjacent[2] == 1) and (visit[node[0]+1][node[1]]) == 0:     #down\n",
    "#             print('if3')\n",
    "#             print(tree.get((1,24)))\n",
    "            newnode = (node[0]+1,node[1])\n",
    "            queue.append(newnode)\n",
    "            maze_tree[newnode][4] = 0\n",
    "            visit[newnode[0]][newnode[1]] = 1\n",
    "            count = count + 1\n",
    "\n",
    "        if (adjacent[3] == 1) and (visit[node[0]][node[1]-1] == 0):     #left\n",
    "#             print('if4')\n",
    "#             print(tree.get((1,24)))\n",
    "            newnode = (node[0],node[1]-1)\n",
    "            queue.append(newnode)\n",
    "            maze_tree[newnode][4] = 1\n",
    "            visit[newnode[0]][newnode[1]] = 1\n",
    "            count = count + 1\n",
    "\n",
    "#             visit[newnode[0]][newnode[1]] = 1"
   ]
  },
  {
   "cell_type": "code",
   "execution_count": 5,
   "metadata": {},
   "outputs": [
    {
     "name": "stdout",
     "output_type": "stream",
     "text": [
      "my start is %s (1, 1)\n",
      "my end is %s (21, 59)\n",
      "bfs finding...\n"
     ]
    }
   ],
   "source": [
    "bfs(maze_tree, (maze_start_height, maze_start_width),(maze_end_height,maze_end_width),maze_visited)"
   ]
  },
  {
   "cell_type": "code",
   "execution_count": 6,
   "metadata": {},
   "outputs": [
    {
     "data": {
      "text/plain": [
       "[1, 0, 0, 1, 3]"
      ]
     },
     "execution_count": 6,
     "metadata": {},
     "output_type": "execute_result"
    }
   ],
   "source": [
    "maze_tree[(maze_end_height,maze_end_width)]"
   ]
  },
  {
   "cell_type": "code",
   "execution_count": 7,
   "metadata": {
    "collapsed": true
   },
   "outputs": [],
   "source": [
    "end = (maze_end_height, maze_end_width)\n",
    "start = (maze_start_height,maze_start_width)\n",
    "t = end\n",
    "queue=[]\n",
    "#parent[0:up,1:right,2:down,3:left]\n",
    "while t != start:\n",
    "    if maze_tree[t][4]==0:\n",
    "        t = (t[0]-1,t[1])\n",
    "        queue.append(t)\n",
    "    if maze_tree[t][4]==1:\n",
    "        t = (t[0],t[1]+1)\n",
    "        queue.append(t)\n",
    "    if maze_tree[t][4]==2:\n",
    "        t = (t[0]+1,t[1])\n",
    "        queue.append(t)\n",
    "    if maze_tree[t][4]==3:\n",
    "        t = (t[0],t[1]-1)\n",
    "        queue.append(t)"
   ]
  },
  {
   "cell_type": "code",
   "execution_count": 8,
   "metadata": {
    "collapsed": true
   },
   "outputs": [],
   "source": [
    "for node in queue:\n",
    "    if maze_dict[maze_sol[node[0]][node[1]]] != 1:\n",
    "        maze_sol[node[0]][node[1]] = \".\""
   ]
  },
  {
   "cell_type": "code",
   "execution_count": 9,
   "metadata": {},
   "outputs": [
    {
     "name": "stdout",
     "output_type": "stream",
     "text": [
      "%%%%%%%%%%%%%%%%%%%%%%%%%%%%%%%%%%%%%%%%%%%%%%%%%%%%%%%%%%%%%\n",
      "%P..  %       %             %         %     %           %   %\n",
      "%%%.%%% % %%%%% %%%%% %%%%% %%% %%%%%%% % %%% % %%%%%%% % %%%\n",
      "%...%.........%   % %   % %   %         %   % %     % % %   %\n",
      "%.%%%.%%% %%%.%%% % %%% % %%% % %%%%%% %%%% % %%%%% % % %%% %\n",
      "%.%...% %   %.%   %   % %                 % %   % % %       %\n",
      "%...%%% % % %.% % % % % %%% % %%%%%%% %%% % %%% % % %%%%%%% %\n",
      "% %   %   % %.  %   % %   % %     %   %   %     % %   %   % %\n",
      "% %%%%%%% % %.%%% %%% %%% % %%% %%% % % %%%%%%%%% %%% % % % %\n",
      "%   %   % %  .    % % %   %   % %   % % %     %     %   % % %\n",
      "% % %%% % %%%.%%%%% % % %%%%% % % %%% % % %%% %%%%% %%%%% %%%\n",
      "% %   % %   %.......  % %   % %     %   % % %  .....    %   %\n",
      "% %%%%% %%%%% %%%%%.%%% % % % %%%%%%%%% % % %%%.%%%.%%% %%% %\n",
      "%     %       %    .....% % %  .......%   % ....%  ...%   % %\n",
      "% %%% %%% %%%%% %%%%% %.%%% %%%.%%%%%.%%%%%%.%%%% %%%.%%% % %\n",
      "%   %     %     %   % %.........% % %...%.... %   %  ...% % %\n",
      "% % %%% %%% %%% %%% % %%% %%%% %% % %%%.%.%%% % %%% %%%.%%% %\n",
      "% %   %   %       %       %       %   %...% % % %     %...% %\n",
      "% % %%% % %%%% %% %%%%%%%%% %%%%% %%% % %%% % % % % %%%%%.% %\n",
      "% %     %   %     %       %   %       %     %   % % %   %.% %\n",
      "% %%%% %% % % %%%%% %%%%% %%% % %%%% %% %%% %% %% %%% % %.% %\n",
      "%         % %           %     %           %           % %...%\n",
      "%%%%%%%%%%%%%%%%%%%%%%%%%%%%%%%%%%%%%%%%%%%%%%%%%%%%%%%%%%%%%\n"
     ]
    }
   ],
   "source": [
    "for n in range(len(maze_sol)):\n",
    "    print(\"\".join(maze_sol[n]))"
   ]
  },
  {
   "cell_type": "code",
   "execution_count": 10,
   "metadata": {},
   "outputs": [
    {
     "data": {
      "text/plain": [
       "103"
      ]
     },
     "execution_count": 10,
     "metadata": {},
     "output_type": "execute_result"
    }
   ],
   "source": [
    "len(queue)-1"
   ]
  },
  {
   "cell_type": "code",
   "execution_count": 11,
   "metadata": {},
   "outputs": [
    {
     "data": {
      "text/plain": [
       "[(21, 58),\n",
       " (21, 57),\n",
       " (20, 57),\n",
       " (19, 57),\n",
       " (18, 57),\n",
       " (17, 57),\n",
       " (17, 56),\n",
       " (17, 55),\n",
       " (16, 55),\n",
       " (15, 55),\n",
       " (15, 54),\n",
       " (15, 53),\n",
       " (14, 53),\n",
       " (13, 53),\n",
       " (13, 52),\n",
       " (13, 51),\n",
       " (12, 51),\n",
       " (11, 51),\n",
       " (11, 50),\n",
       " (11, 49),\n",
       " (11, 48),\n",
       " (11, 47),\n",
       " (12, 47),\n",
       " (13, 47),\n",
       " (13, 46),\n",
       " (13, 45),\n",
       " (13, 44),\n",
       " (14, 44),\n",
       " (15, 44),\n",
       " (15, 43),\n",
       " (15, 42),\n",
       " (15, 41),\n",
       " (16, 41),\n",
       " (17, 41),\n",
       " (17, 40),\n",
       " (17, 39),\n",
       " (16, 39),\n",
       " (15, 39),\n",
       " (15, 38),\n",
       " (15, 37),\n",
       " (14, 37),\n",
       " (13, 37),\n",
       " (13, 36),\n",
       " (13, 35),\n",
       " (13, 34),\n",
       " (13, 33),\n",
       " (13, 32),\n",
       " (13, 31),\n",
       " (14, 31),\n",
       " (15, 31),\n",
       " (15, 30),\n",
       " (15, 29),\n",
       " (15, 28),\n",
       " (15, 27),\n",
       " (15, 26),\n",
       " (15, 25),\n",
       " (15, 24),\n",
       " (15, 23),\n",
       " (14, 23),\n",
       " (13, 23),\n",
       " (13, 22),\n",
       " (13, 21),\n",
       " (13, 20),\n",
       " (13, 19),\n",
       " (12, 19),\n",
       " (11, 19),\n",
       " (11, 18),\n",
       " (11, 17),\n",
       " (11, 16),\n",
       " (11, 15),\n",
       " (11, 14),\n",
       " (11, 13),\n",
       " (10, 13),\n",
       " (9, 13),\n",
       " (8, 13),\n",
       " (7, 13),\n",
       " (6, 13),\n",
       " (5, 13),\n",
       " (4, 13),\n",
       " (3, 13),\n",
       " (3, 12),\n",
       " (3, 11),\n",
       " (3, 10),\n",
       " (3, 9),\n",
       " (3, 8),\n",
       " (3, 7),\n",
       " (3, 6),\n",
       " (3, 5),\n",
       " (4, 5),\n",
       " (5, 5),\n",
       " (5, 4),\n",
       " (5, 3),\n",
       " (6, 3),\n",
       " (6, 2),\n",
       " (6, 1),\n",
       " (5, 1),\n",
       " (4, 1),\n",
       " (3, 1),\n",
       " (3, 2),\n",
       " (3, 3),\n",
       " (2, 3),\n",
       " (1, 3),\n",
       " (1, 2),\n",
       " (1, 1)]"
      ]
     },
     "execution_count": 11,
     "metadata": {},
     "output_type": "execute_result"
    }
   ],
   "source": [
    "queue"
   ]
  },
  {
   "cell_type": "code",
   "execution_count": 14,
   "metadata": {},
   "outputs": [
    {
     "data": {
      "text/plain": [
       "634"
      ]
     },
     "execution_count": 14,
     "metadata": {},
     "output_type": "execute_result"
    }
   ],
   "source": [
    "count"
   ]
  },
  {
   "cell_type": "code",
   "execution_count": null,
   "metadata": {
    "collapsed": true
   },
   "outputs": [],
   "source": []
  }
 ],
 "metadata": {
  "kernelspec": {
   "display_name": "Python 3",
   "language": "python",
   "name": "python3"
  },
  "language_info": {
   "codemirror_mode": {
    "name": "ipython",
    "version": 3
   },
   "file_extension": ".py",
   "mimetype": "text/x-python",
   "name": "python",
   "nbconvert_exporter": "python",
   "pygments_lexer": "ipython3",
   "version": "3.6.3"
  }
 },
 "nbformat": 4,
 "nbformat_minor": 2
}
