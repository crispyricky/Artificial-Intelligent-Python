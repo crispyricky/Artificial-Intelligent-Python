{
 "cells": [
  {
   "cell_type": "code",
   "execution_count": 1,
   "metadata": {
    "collapsed": true
   },
   "outputs": [],
   "source": [
    "import numpy as np\n",
    "import queue\n",
    "maze_name = \"tinySearch.txt\"\n",
    "\n",
    "f = open(maze_name)\n",
    "maze_sol = []\n",
    "with open(maze_name) as inputfile:\n",
    "    for line in inputfile:\n",
    "        maze_sol.append(list(line.strip()))\n",
    "\n",
    "maze = f.readlines()"
   ]
  },
  {
   "cell_type": "code",
   "execution_count": 2,
   "metadata": {
    "collapsed": true
   },
   "outputs": [],
   "source": [
    "maze_dict = {' ':0, 'P':1, '%':2, '.':3, '\\n':2}\n",
    "maze_height = len(maze)\n",
    "maze_width = len(maze[0])\n",
    "maze_visited = np.zeros((maze_height, maze_width))\n",
    "maze_tree = {}\n",
    "count = 0"
   ]
  },
  {
   "cell_type": "code",
   "execution_count": 3,
   "metadata": {
    "collapsed": true
   },
   "outputs": [],
   "source": [
    "for h in range(len(maze)):\n",
    "    for w in range(len(maze[h])):\n",
    "        if maze_dict[maze[h][w]] == 2:\n",
    "            maze_visited[h][w] = 1\n",
    "        if maze_dict[maze[h][w]] == 1:\n",
    "            maze_start_height = h\n",
    "            maze_start_width = w\n",
    "        if maze_dict[maze[h][w]] == 3:\n",
    "            maze_end_height = h\n",
    "            maze_end_width = w\n",
    "        maze_tree[(h,w)] = [0,0,0,0,0] # up, right, down, left, parent[0:up,1:right,2:down,3:left]\n",
    "        if maze_dict[maze[h][w]] == 2:\n",
    "            continue\n",
    "        if maze_dict[maze[h][w]] != 2:\n",
    "            if maze_dict[maze[h+1][w]] != 2:\n",
    "                maze_tree[(h,w)][2] = 1\n",
    "            if maze_dict[maze[h-1][w]] != 2:\n",
    "                maze_tree[(h,w)][0] = 1\n",
    "            if maze_dict[maze[h][w+1]] != 2:\n",
    "                maze_tree[(h,w)][1] = 1\n",
    "            if maze_dict[maze[h][w-1]] != 2:   \n",
    "                maze_tree[(h,w)][3] = 1"
   ]
  },
  {
   "cell_type": "code",
   "execution_count": 4,
   "metadata": {
    "collapsed": true
   },
   "outputs": [],
   "source": [
    "def bfs(tree, start, end, visit):\n",
    "    global count\n",
    "    # maintain a queue of paths\n",
    "    queue = []\n",
    "    # push the first path into the queue\n",
    "    queue.append(start)\n",
    "    print('my start is %s',start)\n",
    "    print('my end is %s',end)\n",
    "    print('bfs finding...')\n",
    "    while queue:\n",
    "        # get the first path from the queue\n",
    "#         print('checking queue')\n",
    "#         print(queue)\n",
    "        -\n",
    "#             visit[newnode[0]][newnode[1]] = 1"
   ]
  },
  {
   "cell_type": "code",
   "execution_count": 5,
   "metadata": {},
   "outputs": [
    {
     "name": "stdout",
     "output_type": "stream",
     "text": [
      "my start is %s (4, 4)\n",
      "my end is %s (7, 6)\n",
      "bfs finding...\n"
     ]
    }
   ],
   "source": [
    "bfs(maze_tree, (maze_start_height, maze_start_width),(maze_end_height,maze_end_width),maze_visited)"
   ]
  },
  {
   "cell_type": "code",
   "execution_count": 6,
   "metadata": {},
   "outputs": [
    {
     "data": {
      "text/plain": [
       "[1, 0, 0, 1, 0]"
      ]
     },
     "execution_count": 6,
     "metadata": {},
     "output_type": "execute_result"
    }
   ],
   "source": [
    "maze_tree[(maze_end_height,maze_end_width)]"
   ]
  },
  {
   "cell_type": "code",
   "execution_count": 7,
   "metadata": {
    "collapsed": true
   },
   "outputs": [],
   "source": [
    "end = (maze_end_height, maze_end_width)\n",
    "start = (maze_start_height,maze_start_width)\n",
    "t = end\n",
    "queue=[]\n",
    "#parent[0:up,1:right,2:down,3:left]\n",
    "while t != start:\n",
    "    if maze_tree[t][4]==0:\n",
    "        t = (t[0]-1,t[1])\n",
    "        queue.append(t)\n",
    "    if maze_tree[t][4]==1:\n",
    "        t = (t[0],t[1]+1)\n",
    "        queue.append(t)\n",
    "    if maze_tree[t][4]==2:\n",
    "        t = (t[0]+1,t[1])\n",
    "        queue.append(t)\n",
    "    if maze_tree[t][4]==3:\n",
    "        t = (t[0],t[1]-1)\n",
    "        queue.append(t)"
   ]
  },
  {
   "cell_type": "code",
   "execution_count": 8,
   "metadata": {
    "collapsed": true
   },
   "outputs": [],
   "source": [
    "for node in queue:\n",
    "    if maze_dict[maze_sol[node[0]][node[1]]] != 1:\n",
    "        maze_sol[node[0]][node[1]] = \".\""
   ]
  },
  {
   "cell_type": "code",
   "execution_count": 9,
   "metadata": {},
   "outputs": [
    {
     "name": "stdout",
     "output_type": "stream",
     "text": [
      "%%%%%%%%%%\n",
      "%.  %   .%\n",
      "% %.% %% %\n",
      "% %   .%.%\n",
      "% .%P%   %\n",
      "%.  .... %\n",
      "% %%%%.%.%\n",
      "%.    .% %\n",
      "%%%%%%%%%%\n"
     ]
    }
   ],
   "source": [
    "for n in range(len(maze_sol)):\n",
    "    print(\"\".join(maze_sol[n]))"
   ]
  },
  {
   "cell_type": "code",
   "execution_count": 10,
   "metadata": {},
   "outputs": [
    {
     "data": {
      "text/plain": [
       "4"
      ]
     },
     "execution_count": 10,
     "metadata": {},
     "output_type": "execute_result"
    }
   ],
   "source": [
    "len(queue)-1"
   ]
  },
  {
   "cell_type": "code",
   "execution_count": 11,
   "metadata": {},
   "outputs": [
    {
     "data": {
      "text/plain": [
       "[(6, 6), (5, 6), (5, 5), (5, 4), (4, 4)]"
      ]
     },
     "execution_count": 11,
     "metadata": {},
     "output_type": "execute_result"
    }
   ],
   "source": [
    "queue"
   ]
  },
  {
   "cell_type": "code",
   "execution_count": 12,
   "metadata": {},
   "outputs": [
    {
     "data": {
      "text/plain": [
       "30"
      ]
     },
     "execution_count": 12,
     "metadata": {},
     "output_type": "execute_result"
    }
   ],
   "source": [
    "count"
   ]
  },
  {
   "cell_type": "code",
   "execution_count": null,
   "metadata": {
    "collapsed": true
   },
   "outputs": [],
   "source": []
  }
 ],
 "metadata": {
  "kernelspec": {
   "display_name": "Python 3",
   "language": "python",
   "name": "python3"
  },
  "language_info": {
   "codemirror_mode": {
    "name": "ipython",
    "version": 3
   },
   "file_extension": ".py",
   "mimetype": "text/x-python",
   "name": "python",
   "nbconvert_exporter": "python",
   "pygments_lexer": "ipython3",
   "version": "3.6.3"
  }
 },
 "nbformat": 4,
 "nbformat_minor": 2
}
