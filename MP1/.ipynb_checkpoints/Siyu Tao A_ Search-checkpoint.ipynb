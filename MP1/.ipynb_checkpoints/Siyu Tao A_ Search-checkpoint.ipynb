{
 "cells": [
  {
   "cell_type": "code",
   "execution_count": 55,
   "metadata": {},
   "outputs": [
    {
     "name": "stdout",
     "output_type": "stream",
     "text": [
      "(1, 1)\n",
      "(21, 59)\n",
      "78\n"
     ]
    }
   ],
   "source": [
    "result = []\n",
    "with open('mediumMaze.txt') as inputfile:\n",
    "    for line in inputfile:\n",
    "        result.append(list(line.strip()))\n",
    "\n",
    "def findStart(maze):\n",
    "    for a in range(len(maze)):\n",
    "        for b in range(len(maze[a])):\n",
    "            if maze[a][b] == \"P\":\n",
    "                return (a,b)\n",
    "\n",
    "def findEnd(maze):\n",
    "    for a in range(len(maze)):\n",
    "        for b in range(len(maze[a])):\n",
    "            if maze[a][b] == \".\":\n",
    "                return (a,b)\n",
    "\n",
    "start = findStart(result)\n",
    "end = findEnd(result)\n",
    "manh_dist = abs(end[0] - start[0]) + abs(end[1] - start[1])\n",
    "\n",
    "print (start)\n",
    "print (end)\n",
    "print (manh_dist)"
   ]
  }
 ],
 "metadata": {
  "kernelspec": {
   "display_name": "Python 3",
   "language": "python",
   "name": "python3"
  },
  "language_info": {
   "codemirror_mode": {
    "name": "ipython",
    "version": 3
   },
   "file_extension": ".py",
   "mimetype": "text/x-python",
   "name": "python",
   "nbconvert_exporter": "python",
   "pygments_lexer": "ipython3",
   "version": "3.6.3"
  }
 },
 "nbformat": 4,
 "nbformat_minor": 2
}
