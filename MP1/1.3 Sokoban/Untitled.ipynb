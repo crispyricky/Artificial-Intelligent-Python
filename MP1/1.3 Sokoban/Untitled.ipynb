{
 "cells": [
  {
   "cell_type": "code",
   "execution_count": 1,
   "metadata": {
    "collapsed": true
   },
   "outputs": [],
   "source": [
    "import numpy as np\n",
    "import heapq\n",
    "import sys \n",
    "import time"
   ]
  },
  {
   "cell_type": "code",
   "execution_count": 6,
   "metadata": {
    "collapsed": true
   },
   "outputs": [],
   "source": [
    "sokoban_name = 'sokoban4.txt'"
   ]
  },
  {
   "cell_type": "code",
   "execution_count": 7,
   "metadata": {
    "collapsed": true
   },
   "outputs": [],
   "source": [
    "class state(object):\n",
    "    def heu_def(self):\n",
    "        return 0\n",
    "    \n",
    "    def __init__(self,P_coor=[], box_coor=np.array([]), cost=0, heu=heu_def, parent=None,save=[]):\n",
    "        self.P_coor = P_coor\n",
    "        self.box_coor = box_coor  \n",
    "        self.cost = cost  \n",
    "        self.parent = parent\n",
    "        self.heu = heu\n",
    "        self.save = save\n",
    "    def __str__(self):\n",
    "        if (self.parent==None):\n",
    "            return \"\\nPlayer's coordinate:%s,\\nbox_coor:%s,\\nparent:NONE\" %(self.P_coor, self.box_coor)\n",
    "        else:\n",
    "            return \"\\nPlayer's coordinate:%s,\\nbox_coor:%s,\\nparent:%s,\\ncost:%s\" %(self.P_coor, self.box_coor, self.parent.P_coor,self.cost)\n",
    "    def __lt__(self, other): \n",
    "        return self.heu(self) < other.heu(other)\n",
    "    def __eq__(self, other):\n",
    "        if other == None:\n",
    "            return\n",
    "        return (self.P_coor == other.P_coor)"
   ]
  },
  {
   "cell_type": "code",
   "execution_count": null,
   "metadata": {
    "collapsed": true
   },
   "outputs": [],
   "source": [
    "soko_number = {' ':0, 'P':1, '%':2, '.':3, 'b':4, 'B':5}\n",
    "START_NUM = 1\n",
    "WALL_NUM = 2\n",
    "STORAGE_AVAL_NUM = 3\n",
    "BOX_AVAL_NUM = 4\n",
    "BOX_ON_STORAGE_NUM = 5\n",
    "PATH_NUM = 0\n",
    "MOVE = [[0,-1],[1,0],[0,1],[-1,0]]\n",
    "\n",
    "def read_sokoban(sokoban_name):\n",
    "    open_Sokoban = open(sokoban_name, 'r')\n",
    "    Sokoban_lines = open_Sokoban.readlines()\n",
    "    Sokoban = np.array([list(i.strip()) for i in Sokoban_lines])\n",
    "    box_coor = []\n",
    "    storage_coor = []\n",
    "#     start_coor = np.array([0, 0])\n",
    "    Sokoban_Dict = np.zeros(Sokoban.shape, dtype='int')\n",
    "    for i in range(Sokoban.shape[0]):\n",
    "        for j in range(Sokoban.shape[1]):\n",
    "            Sokoban_Dict[i][j] = soko_number[Sokoban[i][j]]\n",
    "            if (Sokoban_Dict[i][j] == START_NUM): \n",
    "                start_coor = np.array([i, j])\n",
    "            elif (Sokoban_Dict[i][j] == STORAGE_AVAL_NUM):\n",
    "                storage_coor.append([i, j])\n",
    "            elif (Sokoban_Dict[i][j] == BOX_AVAL_NUM):  \n",
    "                box_coor.append([i, j])\n",
    "            elif (Sokoban_Dict[i][j] == BOX_ON_STORAGE_NUM):\n",
    "                box_coor.append([i, j])\n",
    "                storage_coor.append([i, j])\n",
    "    return Sokoban,Sokoban_Dict,np.array(box_coor),np.array(storage_coor),start_coor\n",
    "\n",
    "def check_done(state,storage_coor):\n",
    "    return(sorted(state.box_coor.tolist()) == sorted(storage_coor.tolist()))\n",
    "\n",
    "def iswall(n_d,Sokoban_Dict):\n",
    "    return (Sokoban_Dict[n_d[0]][n_d[1]]==WALL_NUM)\n",
    "\n",
    "def isbox(n_d,state):\n",
    "    return (n_d.tolist() in state.box_coor.tolist())\n",
    "\n",
    "def canmove(n_d,di,state,Sokoban_Dict):\n",
    "    status = (not isbox(n_d+di,state))and(Sokoban_Dict[n_d[0]+di[0]][n_d[1]+di[1]]!=WALL_NUM)\n",
    "    status = status and to_corner(n_d,di,state,Sokoban_Dict)\n",
    "    return status\n",
    "\n",
    "def to_corner(n_d,di,state,Sokoban_Dict):\n",
    "    n_loc = n_d+di\n",
    "    if (((Sokoban_Dict[n_loc[0]-1,n_loc[1]]==WALL_NUM and Sokoban_Dict[n_loc[0],n_loc[1]-1]==WALL_NUM) or \\\n",
    "        (Sokoban_Dict[n_loc[0]-1,n_loc[1]]==WALL_NUM and Sokoban_Dict[n_loc[0],n_loc[1]+1]==WALL_NUM) or \\\n",
    "        (Sokoban_Dict[n_loc[0]+1,n_loc[1]]==WALL_NUM and Sokoban_Dict[n_loc[0],n_loc[1]+1]==WALL_NUM) or \\\n",
    "        (Sokoban_Dict[n_loc[0]+1,n_loc[1]]==WALL_NUM and Sokoban_Dict[n_loc[0],n_loc[1]-1]==WALL_NUM)) and\\\n",
    "        (Sokoban_Dict[n_loc[0],n_loc[1]]!=STORAGE_AVAL_NUM)):\n",
    "        return False\n",
    "    return True\n",
    "def move_box(n_d,di,temp_box):\n",
    "    for box in temp_box:\n",
    "        if ((box[0] == n_d[0])and(box[1] == n_d[1])):\n",
    "            box[0] = n_d[0]+di[0]\n",
    "            box[1] = n_d[1]+di[1]\n",
    "    return\n",
    "\n",
    "def get_result(next_state):\n",
    "    res = []\n",
    "    parent = next_state.parent\n",
    "    while (parent != None):\n",
    "        res.append(next_state.P_coor.tolist())\n",
    "        next_state = parent\n",
    "        parent = next_state.parent\n",
    "    return res\n",
    "\n",
    "def in_visited(next_state,visited):\n",
    "    return (next_state.save in visited)\n",
    "\n",
    "def draw_soko(Sokoban,Sokoban_Dict,storage_coor,cur_state):\n",
    "    for i in range(len(Sokoban)):\n",
    "        for j in range(len(Sokoban[i])):\n",
    "            if (Sokoban_Dict[i][j] != WALL_NUM):\n",
    "                Sokoban_Dict[i][j] = PATH_NUM\n",
    "\n",
    "    for box in cur_state.box_coor:\n",
    "        Sokoban_Dict[box[0]][box[1]] = BOX_AVAL_NUM\n",
    "        for val in storage_coor:\n",
    "            if (box==val).all():\n",
    "                Sokoban_Dict[box[0]][box[1]] = BOX_ON_STORAGE_NUM\n",
    "\n",
    "    for storage in storage_coor:\n",
    "        if Sokoban_Dict[storage[0]][storage[1]] != BOX_ON_STORAGE_NUM:\n",
    "            Sokoban_Dict[storage[0]][storage[1]] = STORAGE_AVAL_NUM\n",
    "            \n",
    "    Sokoban_Dict[cur_state.P_coor[0]][cur_state.P_coor[1]] = START_NUM\n",
    "\n",
    "    for i in range(len(Sokoban)):\n",
    "        for j in range(len(Sokoban[i])):\n",
    "            if (Sokoban_Dict[i][j] == STORAGE_AVAL_NUM):\n",
    "                Sokoban[i][j] = '.'\n",
    "            if (Sokoban_Dict[i][j] == START_NUM):\n",
    "                Sokoban[i][j] = 'P'\n",
    "            if (Sokoban_Dict[i][j] == BOX_ON_STORAGE_NUM):\n",
    "                Sokoban[i][j] = 'B'\n",
    "            if (Sokoban_Dict[i][j] == BOX_AVAL_NUM):\n",
    "                Sokoban[i][j] = 'b'\n",
    "            if (Sokoban_Dict[i][j] == PATH_NUM):\n",
    "                Sokoban[i][j] = ' '\n",
    "    for n in range(len(Sokoban)):\n",
    "        print(\"\".join(Sokoban[n]))"
   ]
  },
  {
   "cell_type": "code",
   "execution_count": null,
   "metadata": {},
   "outputs": [],
   "source": [
    "start_time=time.time()\n",
    "Sokoban,Sokoban_Dict,box_coor,storage_coor,start_coor = read_sokoban(sokoban_name)\n",
    "start_state = state(start_coor, box_coor, cost=0, save = [start_coor.tolist(),box_coor.tolist()])\n",
    "queue = []\n",
    "queue.append(start_state)\n",
    "visited = []\n",
    "visited.append(start_state.save)\n",
    "\n",
    "while (queue):\n",
    "\n",
    "    cur_state = queue.pop(0)\n",
    "#     print(cur_state)\n",
    "#    draw_soko(Sokoban,Sokoban_Dict,storage_coor,cur_state)\n",
    "    for di in MOVE:\n",
    "#         print(\"current move direction:\",di)\n",
    "        temp_box = cur_state.box_coor.copy()\n",
    "        n_d = cur_state.P_coor + di # next_direction\n",
    "        if(iswall(n_d,Sokoban_Dict)): \n",
    "            continue\n",
    "        if(isbox(n_d,cur_state)):\n",
    "            if (canmove(n_d,di,cur_state,Sokoban_Dict)):\n",
    "                move_box(n_d,di,temp_box)\n",
    "#                 print(\"move!,n_d:%s, di:%s\"%(n_d,di))\n",
    "            else: continue\n",
    "        \n",
    "        next_state = state(n_d, temp_box, parent=cur_state, save = [n_d.tolist(),temp_box.tolist()])\n",
    "        if(check_done(next_state,storage_coor)):\n",
    "            draw_soko(Sokoban,Sokoban_Dict,storage_coor,next_state)\n",
    "            print(\"res!\")\n",
    "#             print(next_state)\n",
    "#             draw_soko(Sokoban,Sokoban_Dict,storage_coor,next_state)\n",
    "            res = get_result(next_state)\n",
    "            print(time.time()-start_time)\n",
    "            sys.exit()\n",
    "        if (next_state.save in visited): continue\n",
    "        queue.append(next_state)\n",
    "        visited.append(next_state.save)\n"
   ]
  },
  {
   "cell_type": "code",
   "execution_count": null,
   "metadata": {
    "collapsed": true
   },
   "outputs": [],
   "source": [
    "res"
   ]
  },
  {
   "cell_type": "code",
   "execution_count": null,
   "metadata": {},
   "outputs": [],
   "source": [
    "len(visited)"
   ]
  },
  {
   "cell_type": "code",
   "execution_count": null,
   "metadata": {},
   "outputs": [],
   "source": [
    "n_loc = n_d+di\n",
    "Sokoban_Dict[n_loc[0]+1,n_loc[1]]"
   ]
  },
  {
   "cell_type": "code",
   "execution_count": null,
   "metadata": {},
   "outputs": [],
   "source": [
    "WALL_NUM"
   ]
  }
 ],
 "metadata": {
  "kernelspec": {
   "display_name": "Python 3",
   "language": "python",
   "name": "python3"
  },
  "language_info": {
   "codemirror_mode": {
    "name": "ipython",
    "version": 3
   },
   "file_extension": ".py",
   "mimetype": "text/x-python",
   "name": "python",
   "nbconvert_exporter": "python",
   "pygments_lexer": "ipython3",
   "version": "3.6.3"
  }
 },
 "nbformat": 4,
 "nbformat_minor": 2
}
