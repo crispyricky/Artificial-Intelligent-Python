{
 "cells": [
  {
   "cell_type": "code",
   "execution_count": 12,
   "metadata": {},
   "outputs": [],
   "source": [
    "import numpy as np\n",
    "import queue\n",
    "maze_name = \"tinySearch.txt\"\n",
    "\n",
    "f = open(maze_name)\n",
    "maze_sol = []\n",
    "with open(maze_name) as inputfile:\n",
    "    for line in inputfile:\n",
    "        maze_sol.append(list(line.strip()))\n",
    "maze = maze_sol\n",
    "maze_dict = {' ':0, 'P':1, '%':2, '.':3, '\\n':2}\n",
    "dot_coor = []\n",
    "dot_number = 0\n",
    "for i in range(len(maze)):\n",
    "    for j in range(len(maze[i])):\n",
    "        if maze_dict[maze[i][j]] == 1:\n",
    "            start_P = np.array([i,j])\n",
    "        if maze_dict[maze[i][j]] == 3:\n",
    "            dot_coor.append([i,j,dot_number])\n",
    "            dot_number+=1"
   ]
  },
  {
   "cell_type": "code",
   "execution_count": 15,
   "metadata": {
    "collapsed": true
   },
   "outputs": [],
   "source": [
    "def is_finish(cur_dot):\n",
    "    return(len(cur_dot)==len(dot_coor))"
   ]
  },
  {
   "cell_type": "code",
   "execution_count": 17,
   "metadata": {},
   "outputs": [
    {
     "data": {
      "text/plain": [
       "[['%', '%', '%', '%', '%', '%', '%', '%', '%', '%'],\n",
       " ['%', '.', ' ', ' ', '%', ' ', ' ', ' ', '.', '%'],\n",
       " ['%', ' ', '%', '.', '%', ' ', '%', '%', ' ', '%'],\n",
       " ['%', ' ', '%', ' ', ' ', ' ', '.', '%', '.', '%'],\n",
       " ['%', ' ', '.', '%', 'P', '%', ' ', ' ', ' ', '%'],\n",
       " ['%', '.', ' ', ' ', '.', ' ', ' ', '.', ' ', '%'],\n",
       " ['%', ' ', '%', '%', '%', '%', ' ', '%', '.', '%'],\n",
       " ['%', '.', ' ', ' ', ' ', ' ', '.', '%', ' ', '%'],\n",
       " ['%', '%', '%', '%', '%', '%', '%', '%', '%', '%']]"
      ]
     },
     "execution_count": 17,
     "metadata": {},
     "output_type": "execute_result"
    }
   ],
   "source": [
    "maze"
   ]
  },
  {
   "cell_type": "code",
   "execution_count": null,
   "metadata": {
    "collapsed": true
   },
   "outputs": [],
   "source": []
  },
  {
   "cell_type": "code",
   "execution_count": 16,
   "metadata": {},
   "outputs": [],
   "source": [
    "def bfs_search():\n",
    "    visited = set()\n",
    "    visited.add()"
   ]
  },
  {
   "cell_type": "code",
   "execution_count": null,
   "metadata": {
    "collapsed": true
   },
   "outputs": [],
   "source": []
  },
  {
   "cell_type": "code",
   "execution_count": null,
   "metadata": {
    "collapsed": true
   },
   "outputs": [],
   "source": []
  }
 ],
 "metadata": {
  "kernelspec": {
   "display_name": "Python 3",
   "language": "python",
   "name": "python3"
  },
  "language_info": {
   "codemirror_mode": {
    "name": "ipython",
    "version": 3
   },
   "file_extension": ".py",
   "mimetype": "text/x-python",
   "name": "python",
   "nbconvert_exporter": "python",
   "pygments_lexer": "ipython3",
   "version": "3.6.3"
  }
 },
 "nbformat": 4,
 "nbformat_minor": 2
}
