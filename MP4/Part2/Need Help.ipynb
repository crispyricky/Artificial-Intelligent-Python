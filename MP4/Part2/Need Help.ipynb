{
 "cells": [
  {
   "cell_type": "code",
   "execution_count": 4,
   "metadata": {},
   "outputs": [
    {
     "data": {
      "text/plain": [
       "0.8819"
      ]
     },
     "execution_count": 4,
     "metadata": {},
     "output_type": "execute_result"
    }
   ],
   "source": [
    "import numpy as np\n",
    "import pandas as pd\n",
    "from sklearn.neural_network import MLPClassifier\n",
    "\n",
    "names = ['Ball-X','Ball-Y','Velocity-X','Velocity-Y','Paddle-Y','Action']\n",
    "expert = pd.read_csv('expert_policy.txt', sep=\" \", names=names)\n",
    "x = expert.iloc[:,0:5]\n",
    "y = expert.iloc[:,5:6]\n",
    "mlp = MLPClassifier(hidden_layer_sizes=(256,256,256),max_iter=500,learning_rate_init=0.001,shuffle=True)\n",
    "mlp.fit(x, y.values.ravel())\n",
    "mlp.score(x,y)"
   ]
  },
  {
   "cell_type": "code",
   "execution_count": 5,
   "metadata": {},
   "outputs": [
    {
     "data": {
      "text/plain": [
       "0.0"
      ]
     },
     "execution_count": 5,
     "metadata": {},
     "output_type": "execute_result"
    }
   ],
   "source": [
    "# makes prediction\n",
    "# Parameters inside: ['Ball-X','Ball-Y','Velocity-X','Velocity-Y','Paddle-Y','Action']\n",
    "mlp.predict([[0.6,0.6,0.03,0.01,0.9]])[0]"
   ]
  },
  {
   "cell_type": "code",
   "execution_count": null,
   "metadata": {},
   "outputs": [],
   "source": []
  }
 ],
 "metadata": {
  "kernelspec": {
   "display_name": "Python 3",
   "language": "python",
   "name": "python3"
  },
  "language_info": {
   "codemirror_mode": {
    "name": "ipython",
    "version": 3
   },
   "file_extension": ".py",
   "mimetype": "text/x-python",
   "name": "python",
   "nbconvert_exporter": "python",
   "pygments_lexer": "ipython3",
   "version": "3.6.3"
  }
 },
 "nbformat": 4,
 "nbformat_minor": 2
}
