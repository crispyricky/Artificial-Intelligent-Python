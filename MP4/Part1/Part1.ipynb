{
 "cells": [
  {
   "cell_type": "code",
   "execution_count": 7,
   "metadata": {
    "collapsed": true
   },
   "outputs": [],
   "source": [
    "import numpy as np\n",
    "import math\n",
    "import random\n",
    "import pprint\n",
    "import pygame\n",
    "import sys\n",
    "import matplotlib.pyplot as plt\n",
    "#===========CHANGABLE PARAMETERS=================\n",
    "REWARD     = 1\n",
    "PENALTY    = -1\n",
    "DISCOUNT   = 0.8\n",
    "LEARN_RATE_CONST = 200\n",
    "\n",
    "def get_explore_rate(epoch):\n",
    "    return max(0.1,1-math.log2(epoch*10)/20)\n",
    "\n",
    "#===========DEFINE CONSTANTS AND DICS=============\n",
    "WALL_LEN = 1\n",
    "PADDLE_H = 0.2\n",
    "\n",
    "init_state = (0.5, 0.5, 0.03, 0.01, 0.5 - PADDLE_H / 2)\n",
    "\n",
    "ACTION_DIC={0:-0.04, #'UP'\n",
    "            1:0,     #'STAY'\n",
    "            2:0.04}  #'DOWN'\n",
    "\n",
    "BOARD_SIZE = 12\n",
    "X_VBALL_DIS = [-1,1]\n",
    "Y_VBALL_DIS = [-1,0,1]\n",
    "\n",
    "PADDLE_SPACE = 12\n",
    "PADDLE_X     = 1\n",
    "\n",
    "STATE_SPACE = (BOARD_SIZE,BOARD_SIZE,len(X_VBALL_DIS),len(Y_VBALL_DIS),PADDLE_SPACE)\n",
    "\n",
    "X_V_TSH = 0.03\n",
    "Y_V_TSH = 0.015\n",
    "\n",
    "#==============DEFINE STATE CLASS===============\n",
    "class state:\n",
    "    \n",
    "    def __init__(self,ball_x,ball_y,velocity_x,velocity_y,paddle_y,reward,end_state = 0):\n",
    "        self.ball_x = ball_x              #real numbers on the interval [0,1]\n",
    "        self.ball_y = ball_y\n",
    "        self.velocity_x = velocity_x\n",
    "        self.velocity_y = velocity_y\n",
    "        self.paddle_y = paddle_y\n",
    "        self.reward = reward\n",
    "        self.state_tuple = (ball_x,ball_y,velocity_x,velocity_y,paddle_y)\n",
    "        self.end_state = end_state\n",
    "        self._extract()\n",
    "        \n",
    "    def _extract(self):\n",
    "        self.x_grid = min(math.floor(12*self.ball_x),BOARD_SIZE-1)\n",
    "        self.y_grid = min(math.floor(12*self.ball_y),BOARD_SIZE-1)\n",
    "        if(self.velocity_x>0): \n",
    "            self.x_v_sign = 0\n",
    "        else: \n",
    "            self.x_v_sign = 1\n",
    "            \n",
    "        if(self.velocity_y>=0.015):\n",
    "            self.y_v_sign = 0\n",
    "        elif(self.velocity_y<=0.015): \n",
    "            self.y_v_sign = 1\n",
    "        else:\n",
    "            self.y_v_sign = 2\n",
    "        self.paddle_grid = min(math.floor(12 * self.paddle_y / (1 - PADDLE_H)),PADDLE_SPACE-1)\n",
    "        self.space_tuple = (self.x_grid,self.y_grid,self.x_v_sign,self.y_v_sign,self.paddle_grid)\n",
    "        \n",
    "#=============DEFINE Q-AGENT CLASS==============\n",
    "class q_agent:\n",
    "    \n",
    "    def __init__(self,mode = 'new',learning = 'Q'):\n",
    "        if mode == 'new':\n",
    "            print('successfully generate a new Q-Agent!')\n",
    "            self.q_table = np.zeros(STATE_SPACE+(len(ACTION_DIC),)) \n",
    "            self.table_vis = np.zeros(STATE_SPACE+(len(ACTION_DIC),))\n",
    "            self.end_state = 0\n",
    "        elif mode == 'load':\n",
    "            print('loading past data...')\n",
    "            if learning == 'Q':\n",
    "                self.q_table = np.load('qtable.npy')\n",
    "                self.table_vis = np.load('tablevis.npy')\n",
    "            elif learning == 'SARSA':\n",
    "                self.q_table = np.load('qtable_sa.npy')\n",
    "                self.table_vis = np.load('tablevis_sa.npy')\n",
    "            else:\n",
    "                print('wrong learning method!')\n",
    "                sys.exit()\n",
    "            print('successfully load data')\n",
    "        else:\n",
    "            print('cannot read the mode, exit')\n",
    "            sys.exit()\n",
    "        \n",
    "    def set_table(self,loc,val):\n",
    "        self.q_table[loc] = val\n",
    "    \n",
    "    def get_table(self,loc):\n",
    "        return self.q_table[loc]\n",
    "\n",
    "    def get_c(self,loc):\n",
    "        return self.table_vis[loc]\n",
    "    \n",
    "    def set_c(self,loc,val):\n",
    "        self.table_vis[loc] = val\n",
    "        \n",
    "    def get_act(self,cur_state,i,mode = 'train',learning='Q'):\n",
    "        if mode=='train' and random.random()<get_explore_rate(i):\n",
    "            return random.choice(range(0,3,1))\n",
    "        return np.argmax(self.get_table(cur_state.space_tuple))\n",
    "    \n",
    "\n",
    "#=======DEFINE MORE HELPER FUNCTIONS===========\n",
    "def bounce(cur_state,action,mode = 'Part1.1'):\n",
    "    n_ball_v_x = cur_state.velocity_x\n",
    "    n_ball_v_y = cur_state.velocity_y\n",
    "\n",
    "    n_ball_x = cur_state.ball_x + n_ball_v_x\n",
    "    n_ball_y = cur_state.ball_y + n_ball_v_y\n",
    "\n",
    "    fac = n_ball_v_y*(1-cur_state.ball_x)/n_ball_v_x #for 1.1\n",
    "    cmp_y = cur_state.ball_y + fac\n",
    "    \n",
    "    fac_2 = n_ball_v_y*(cur_state.ball_x)/n_ball_v_x\n",
    "    cmp_y_2 = cur_state.ball_y + fac_2\n",
    "    #======paddle should in range(0,0.8)=====\n",
    "    n_paddle_y = min(WALL_LEN-PADDLE_H,max(0,cur_state.paddle_y + action))\n",
    "    \n",
    "    c_reward = 0\n",
    "    \n",
    "    #==the ball is off the top of the screen==\n",
    "    if n_ball_y < 0:\n",
    "        n_ball_y = -n_ball_y\n",
    "        n_ball_v_y = -n_ball_v_y\n",
    "        \n",
    "    #==the ball is off the bottom of the screen==\n",
    "    if n_ball_y > 1:\n",
    "        n_ball_y = 2*WALL_LEN-n_ball_y\n",
    "        n_ball_v_y = -n_ball_v_y\n",
    "    \n",
    "    #==the ball is off the left edge of the screen== ###PART1.1\n",
    "    if n_ball_x < 0 and mode == 'Part1.1':\n",
    "        n_ball_x = -n_ball_x\n",
    "        n_ball_v_x = -n_ball_v_x\n",
    "    #== the ball bouncing off the paddle==\n",
    "    if n_ball_x >= 1 and mode == 'Part1.1' and (n_paddle_y+PADDLE_H >= min(max(0,cmp_y),1) >= n_paddle_y):\n",
    "        n_ball_x = 2*PADDLE_X - n_ball_x\n",
    "        n_ball_v_x, n_ball_v_y = update_speed_rand(n_ball_v_x,n_ball_v_y)\n",
    "        c_reward = REWARD\n",
    "    elif n_ball_x > 1 and mode == 'Part1.1':\n",
    "        c_reward = PENALTY\n",
    "    \n",
    "    #==the ball is off the left edge of the screen== ###PART1.2\n",
    "    if n_ball_x > 1 and mode == 'Part1.2':\n",
    "        n_ball_x = 2*WALL_LEN - n_ball_x\n",
    "        n_ball_v_x = -n_ball_v_x\n",
    "    #== the ball bouncing off the paddle==\n",
    "    if n_ball_x <= 0 and mode == 'Part1.2' and (n_paddle_y+PADDLE_H >= min(max(0,cmp_y_2),1) >= n_paddle_y):\n",
    "        n_ball_x = - n_ball_x\n",
    "        n_ball_v_x, n_ball_v_y = update_speed_rand(n_ball_v_x,n_ball_v_y)\n",
    "        c_reward = REWARD\n",
    "    elif n_ball_x < 0 and mode == 'Part1.2':\n",
    "        c_reward = PENALTY\n",
    "   \n",
    "\n",
    "    return n_ball_x,n_ball_y,n_ball_v_x,n_ball_v_y,n_paddle_y,c_reward\n",
    "\n",
    "def update_speed_rand(velocity_x,velocity_y):\n",
    "    vx_delta = random.choice(range(-1,2,2)) * random.choice(range(0,16,1)) / 1000\n",
    "    vy_delta = random.choice(range(-1,2,2)) * random.choice(range(0,4,1))  / 100\n",
    "    sign_x = -velocity_x/abs(velocity_x)\n",
    "    sign_y = velocity_y/abs(velocity_y)\n",
    "    n_ball_v_x = sign_x*max(X_V_TSH,min(1,abs(vx_delta+velocity_x)))\n",
    "    n_ball_v_y = sign_y*max(Y_V_TSH,min(1,abs(vy_delta+velocity_y)))\n",
    "    return n_ball_v_x, n_ball_v_y\n",
    "\n",
    "def proceed_one_step(cur_state,action,mode = 'Part1.1'):\n",
    "\n",
    "    n_ball_x,n_ball_y,n_ball_v_x,n_ball_v_y,n_paddle_y,c_reward = bounce(cur_state,action,mode)\n",
    "    end = 0\n",
    "    if c_reward == -1:\n",
    "        end = 1\n",
    "    n_state = state(n_ball_x,n_ball_y,n_ball_v_x,n_ball_v_y,n_paddle_y,c_reward,end_state=end)\n",
    "    return n_state\n",
    "\n",
    "#=============DEFINE TRAIN FUCNTION=============\n",
    "def train(epoch_num,q_ag,mode = 'Part1.1',learning = 'Q'):\n",
    "    graph = [0]\n",
    "    pre_tot = 0\n",
    "    tot_bounce = 0\n",
    "    for i in range(1,epoch_num+1):\n",
    "        temp_bounce = 0\n",
    "        \n",
    "        if mode == 'Part1.1':\n",
    "            cur_state = state(0.5, 0.5, 0.03, 0.01, 0.5 - PADDLE_H / 2,0)\n",
    "        elif mode == 'Part1.2':\n",
    "            cur_state = state(0.5, 0.5, -0.03, 0.01, 0.5 - PADDLE_H / 2,0)\n",
    "        sarsa_act = q_ag.get_act(cur_state,i)\n",
    "        while True:\n",
    "\n",
    "            if learning == 'Q':\n",
    "                \n",
    "                action = q_ag.get_act(cur_state,i)\n",
    "                n_state = proceed_one_step(cur_state,ACTION_DIC[action],mode)\n",
    "                old_val = q_ag.get_table(cur_state.space_tuple+(action,))\n",
    "\n",
    "\n",
    "                prd_max = np.max(q_ag.get_table(n_state.space_tuple))\n",
    "                prd_tuple = (n_state.x_grid,n_state.y_grid,n_state.x_v_sign,n_state.y_v_sign,n_state.paddle_grid,prd_max)\n",
    "\n",
    "                Nsa = q_ag.get_c(cur_state.space_tuple+(action,))\n",
    "                learn_rate = LEARN_RATE_CONST/(LEARN_RATE_CONST+Nsa)\n",
    "                q_ag.set_c(cur_state.space_tuple+(action,),Nsa+1)\n",
    "\n",
    "                new_val = (1-learn_rate)*old_val + learn_rate*(n_state.reward + DISCOUNT*prd_max)\n",
    "                q_ag.set_table(cur_state.space_tuple+(action,),new_val)\n",
    "\n",
    "                \n",
    "                \n",
    "            elif learning == 'SARSA':\n",
    "                \n",
    "                n_state = proceed_one_step(cur_state,ACTION_DIC[sarsa_act],mode)\n",
    "                \n",
    "                n_sarsa_act = q_ag.get_act(n_state,i)\n",
    "                \n",
    "                old_val = q_ag.get_table(cur_state.space_tuple+(sarsa_act,))\n",
    "\n",
    "\n",
    "                prd_max = q_ag.get_table(n_state.space_tuple+(n_sarsa_act,))\n",
    "#                 prd_tuple = (n_state.x_grid,n_state.y_grid,n_state.x_v_sign,n_state.y_v_sign,n_state.paddle_grid,prd_max)\n",
    "\n",
    "                Nsa = q_ag.get_c(cur_state.space_tuple+(sarsa_act,))\n",
    "                learn_rate = LEARN_RATE_CONST/(LEARN_RATE_CONST+Nsa)\n",
    "                q_ag.set_c(cur_state.space_tuple+(sarsa_act,),Nsa+1)\n",
    "\n",
    "                new_val = (1-learn_rate)*old_val + learn_rate*(n_state.reward + DISCOUNT*prd_max)\n",
    "                q_ag.set_table(cur_state.space_tuple+(sarsa_act,),new_val)\n",
    "                sarsa_act = n_sarsa_act\n",
    "                \n",
    "            else: \n",
    "                print('Wrong learning input!')\n",
    "                sys.exit()    \n",
    "                \n",
    "            if n_state.end_state == 1:\n",
    "                break\n",
    "            if n_state.reward == REWARD:\n",
    "                temp_bounce+=1\n",
    "            cur_state = n_state\n",
    "        tot_bounce+=temp_bounce\n",
    "        if i%1000 == 0:\n",
    "            print('loop',i)\n",
    "            print('now average bounce in this 1000 round is', (tot_bounce-pre_tot)/1000)\n",
    "            print('bounce=',tot_bounce-pre_tot)\n",
    "            print()\n",
    "            graph.append(tot_bounce/i)\n",
    "            pre_tot = tot_bounce\n",
    "    return graph\n",
    "#================DEFINE TEST FUNCTION============\n",
    "def test(epoch_num,q_ag,mode = 'Part1.1'):\n",
    "    print('testing')\n",
    "    tot_bounce = 0\n",
    "    for i in range(epoch_num):\n",
    "        temp_bounce = 0\n",
    "        \n",
    "        if mode == 'Part1.1':\n",
    "            cur_state = state(0.5, 0.5, 0.03, 0.01, 0.5 - PADDLE_H / 2,0)\n",
    "        elif mode == 'Part1.2':\n",
    "            cur_state = state(0.5, 0.5, -0.03, 0.01, 0.5 - PADDLE_H / 2,0)\n",
    "            \n",
    "        while True:\n",
    "            action = q_ag.get_act(cur_state,i,mode='hei')\n",
    "            n_state = proceed_one_step(cur_state,ACTION_DIC[action],mode)\n",
    "            if n_state.end_state == 1:\n",
    "                break\n",
    "            if n_state.reward == REWARD:\n",
    "                temp_bounce+=1\n",
    "            cur_state = n_state\n",
    "        tot_bounce+=temp_bounce\n",
    "    \n",
    "    print('the avg bounce =',tot_bounce/epoch_num)"
   ]
  },
  {
   "cell_type": "code",
   "execution_count": 8,
   "metadata": {
    "collapsed": true
   },
   "outputs": [],
   "source": [
    "#=========================VISUALIZATION VERSION========================\n",
    "WHITE = (255, 255, 255)\n",
    "BLACK = (0,0,0)\n",
    "BALL_COLOR = (255,186,186)\n",
    "PAD_COLOR = (182, 209, 204)\n",
    "BACKGROUND_COLOR = (255, 245, 222)\n",
    "SCORE_COLOR = (25, 118, 210)\n",
    "\n",
    "WIDTH = 600\n",
    "HEIGHT = 600\n",
    "\n",
    "BALL_RADIUS = 8\n",
    "PAD_WIDTH = 8\n",
    "PAD_HEIGHT = HEIGHT * 0.2\n",
    "HALF_PAD_WIDTH = PAD_WIDTH // 2\n",
    "HALF_PAD_HEIGHT = PAD_HEIGHT // 2\n",
    "GAME_FPS = 30\n",
    "GAME_END_FPS = 30\n",
    "\n",
    "def draw(canvas, ball_x, ball_y, paddle_y, mode = 'Part1.1', player_x = 0, player_y = 0, player_pad = 0):\n",
    "    canvas.fill(BACKGROUND_COLOR)\n",
    "#     pygame.draw.line(canvas, WHITE, [WIDTH // 2, 0], [WIDTH // 2, HEIGHT], 1)\n",
    "#     pygame.draw.line(canvas, WHITE, [PAD_WIDTH, 0], [PAD_WIDTH, HEIGHT], 1)\n",
    "#     pygame.draw.line(canvas, WHITE, [WIDTH - PAD_WIDTH, 0], [WIDTH - PAD_WIDTH, HEIGHT], 1)\n",
    "\n",
    "    if mode == 'Part1.1':\n",
    "        paddle1_pos = (WIDTH + 1 - HALF_PAD_WIDTH, int(paddle_y * HEIGHT + HALF_PAD_HEIGHT))\n",
    "        ball_pos = (int(ball_x * WIDTH) , int(ball_y * HEIGHT))\n",
    "\n",
    "        pygame.draw.circle(canvas, BALL_COLOR, ball_pos, BALL_RADIUS, 0)\n",
    "        pygame.draw.polygon(canvas, PAD_COLOR, [[paddle1_pos[0] - HALF_PAD_WIDTH, paddle1_pos[1] - HALF_PAD_HEIGHT],\n",
    "                                            [paddle1_pos[0] - HALF_PAD_WIDTH, paddle1_pos[1] + HALF_PAD_HEIGHT],\n",
    "                                            [paddle1_pos[0] + HALF_PAD_WIDTH, paddle1_pos[1] + HALF_PAD_HEIGHT],\n",
    "                                            [paddle1_pos[0] + HALF_PAD_WIDTH, paddle1_pos[1] - HALF_PAD_HEIGHT]], 0)\n",
    "\n",
    "    if mode == 'Part1.2':\n",
    "        paddle1_pos = (0 - 1 + HALF_PAD_WIDTH, int(paddle_y * HEIGHT + HALF_PAD_HEIGHT))\n",
    "        ball_pos = (int(ball_x * WIDTH) , int(ball_y * HEIGHT))\n",
    "\n",
    "        pygame.draw.circle(canvas, BALL_COLOR, ball_pos, BALL_RADIUS, 0)\n",
    "        pygame.draw.polygon(canvas, PAD_COLOR, [[paddle1_pos[0] - HALF_PAD_WIDTH, paddle1_pos[1] - HALF_PAD_HEIGHT],\n",
    "                                            [paddle1_pos[0] - HALF_PAD_WIDTH, paddle1_pos[1] + HALF_PAD_HEIGHT],\n",
    "                                            [paddle1_pos[0] + HALF_PAD_WIDTH, paddle1_pos[1] + HALF_PAD_HEIGHT],\n",
    "                                            [paddle1_pos[0] + HALF_PAD_WIDTH, paddle1_pos[1] - HALF_PAD_HEIGHT]], 0)\n",
    "\n",
    "\n",
    "def play(agent, epoches, mode = 'Part1.1'):\n",
    "    \n",
    "    pygame.init()\n",
    "    fps = pygame.time.Clock()\n",
    "\n",
    "    window = pygame.display.set_mode((WIDTH, HEIGHT))\n",
    "    pygame.display.set_caption('Pong')\n",
    "\n",
    "\n",
    "    \n",
    "    rscore = 0\n",
    "\n",
    "    for i in range(epoches):\n",
    "        bounce = 0\n",
    "        temp_bounce = 0\n",
    "        if mode == 'Part1.1':\n",
    "            cur_state = state(0.5, 0.5, 0.03, 0.01, 0.5 - PADDLE_H / 2,0)\n",
    "        elif mode == 'Part1.2':\n",
    "            cur_state = state(0.5, 0.5, -0.03, 0.01, 0.5 - PADDLE_H / 2,0)\n",
    "        while True: \n",
    "            \n",
    "            action = agent.get_act(cur_state,i,mode='hei')\n",
    "            for event in pygame.event.get():\n",
    "                if event.type == pygame.QUIT:\n",
    "                    pygame.quit()\n",
    "                    sys.exit()\n",
    "            \n",
    "            \n",
    "            n_state = proceed_one_step(cur_state,ACTION_DIC[action],mode)\n",
    "            \n",
    "            \n",
    "            if n_state.end_state == 1:\n",
    "                break\n",
    "            \n",
    "            draw(window, n_state.ball_x, n_state.ball_y, n_state.paddle_y,mode)\n",
    "            \n",
    "            pygame.display.update()\n",
    "            fps.tick(GAME_FPS)\n",
    "            cur_state = n_state\n",
    "            bounce+=n_state.reward\n",
    "        fps.tick(GAME_END_FPS)\n",
    "        print(bounce)\n",
    "\n",
    "    return"
   ]
  },
  {
   "cell_type": "code",
   "execution_count": 16,
   "metadata": {},
   "outputs": [
    {
     "name": "stdout",
     "output_type": "stream",
     "text": [
      "loading past data...\n",
      "successfully load data\n",
      "loading past data...\n",
      "successfully load data\n"
     ]
    }
   ],
   "source": [
    "#======I'VE ALREAD TRAINED THE Q-AGENT SO JUST LOAD==========\n",
    "q_td = q_agent('load','Q')\n",
    "q_sa = q_agent('load','SARSA')"
   ]
  },
  {
   "cell_type": "code",
   "execution_count": 3,
   "metadata": {
    "scrolled": false
   },
   "outputs": [
    {
     "name": "stdout",
     "output_type": "stream",
     "text": [
      "successfully generate a new Q-Agent!\n",
      "loop 1000\n",
      "now average bounce in this 1000 round is 1.037\n",
      "bounce= 1037\n",
      "\n",
      "loop 2000\n",
      "now average bounce in this 1000 round is 1.413\n",
      "bounce= 1413\n",
      "\n",
      "loop 3000\n",
      "now average bounce in this 1000 round is 1.572\n",
      "bounce= 1572\n",
      "\n",
      "loop 4000\n",
      "now average bounce in this 1000 round is 1.685\n",
      "bounce= 1685\n",
      "\n"
     ]
    },
    {
     "ename": "KeyboardInterrupt",
     "evalue": "",
     "output_type": "error",
     "traceback": [
      "\u001b[0;31m---------------------------------------------------------------------------\u001b[0m",
      "\u001b[0;31mKeyboardInterrupt\u001b[0m                         Traceback (most recent call last)",
      "\u001b[0;32m<ipython-input-3-11ce4bb5d26b>\u001b[0m in \u001b[0;36m<module>\u001b[0;34m()\u001b[0m\n\u001b[1;32m      6\u001b[0m \u001b[0;34m\u001b[0m\u001b[0m\n\u001b[1;32m      7\u001b[0m \u001b[0;31m# _1_2_sa = train(60000,q_sa,'Part1.2','SARSA')\u001b[0m\u001b[0;34m\u001b[0m\u001b[0;34m\u001b[0m\u001b[0m\n\u001b[0;32m----> 8\u001b[0;31m \u001b[0mppopo\u001b[0m \u001b[0;34m=\u001b[0m \u001b[0mtrain\u001b[0m\u001b[0;34m(\u001b[0m\u001b[0;36m60000\u001b[0m\u001b[0;34m,\u001b[0m\u001b[0mq_td\u001b[0m\u001b[0;34m,\u001b[0m\u001b[0;34m'Part1.1'\u001b[0m\u001b[0;34m,\u001b[0m\u001b[0;34m'Q'\u001b[0m\u001b[0;34m)\u001b[0m\u001b[0;34m\u001b[0m\u001b[0m\n\u001b[0m",
      "\u001b[0;32m<ipython-input-1-9bb51f4835d7>\u001b[0m in \u001b[0;36mtrain\u001b[0;34m(epoch_num, q_ag, mode, learning)\u001b[0m\n\u001b[1;32m    206\u001b[0m \u001b[0;34m\u001b[0m\u001b[0m\n\u001b[1;32m    207\u001b[0m \u001b[0;34m\u001b[0m\u001b[0m\n\u001b[0;32m--> 208\u001b[0;31m                 \u001b[0mprd_max\u001b[0m \u001b[0;34m=\u001b[0m \u001b[0mnp\u001b[0m\u001b[0;34m.\u001b[0m\u001b[0mmax\u001b[0m\u001b[0;34m(\u001b[0m\u001b[0mq_ag\u001b[0m\u001b[0;34m.\u001b[0m\u001b[0mget_table\u001b[0m\u001b[0;34m(\u001b[0m\u001b[0mn_state\u001b[0m\u001b[0;34m.\u001b[0m\u001b[0mspace_tuple\u001b[0m\u001b[0;34m)\u001b[0m\u001b[0;34m)\u001b[0m\u001b[0;34m\u001b[0m\u001b[0m\n\u001b[0m\u001b[1;32m    209\u001b[0m                 \u001b[0mprd_tuple\u001b[0m \u001b[0;34m=\u001b[0m \u001b[0;34m(\u001b[0m\u001b[0mn_state\u001b[0m\u001b[0;34m.\u001b[0m\u001b[0mx_grid\u001b[0m\u001b[0;34m,\u001b[0m\u001b[0mn_state\u001b[0m\u001b[0;34m.\u001b[0m\u001b[0my_grid\u001b[0m\u001b[0;34m,\u001b[0m\u001b[0mn_state\u001b[0m\u001b[0;34m.\u001b[0m\u001b[0mx_v_sign\u001b[0m\u001b[0;34m,\u001b[0m\u001b[0mn_state\u001b[0m\u001b[0;34m.\u001b[0m\u001b[0my_v_sign\u001b[0m\u001b[0;34m,\u001b[0m\u001b[0mn_state\u001b[0m\u001b[0;34m.\u001b[0m\u001b[0mpaddle_grid\u001b[0m\u001b[0;34m,\u001b[0m\u001b[0mprd_max\u001b[0m\u001b[0;34m)\u001b[0m\u001b[0;34m\u001b[0m\u001b[0m\n\u001b[1;32m    210\u001b[0m \u001b[0;34m\u001b[0m\u001b[0m\n",
      "\u001b[0;32m~/anaconda3/lib/python3.6/site-packages/numpy/core/fromnumeric.py\u001b[0m in \u001b[0;36mamax\u001b[0;34m(a, axis, out, keepdims)\u001b[0m\n\u001b[1;32m   2261\u001b[0m         \u001b[0mkwargs\u001b[0m\u001b[0;34m[\u001b[0m\u001b[0;34m'keepdims'\u001b[0m\u001b[0;34m]\u001b[0m \u001b[0;34m=\u001b[0m \u001b[0mkeepdims\u001b[0m\u001b[0;34m\u001b[0m\u001b[0m\n\u001b[1;32m   2262\u001b[0m \u001b[0;34m\u001b[0m\u001b[0m\n\u001b[0;32m-> 2263\u001b[0;31m     \u001b[0;32mif\u001b[0m \u001b[0mtype\u001b[0m\u001b[0;34m(\u001b[0m\u001b[0ma\u001b[0m\u001b[0;34m)\u001b[0m \u001b[0;32mis\u001b[0m \u001b[0;32mnot\u001b[0m \u001b[0mmu\u001b[0m\u001b[0;34m.\u001b[0m\u001b[0mndarray\u001b[0m\u001b[0;34m:\u001b[0m\u001b[0;34m\u001b[0m\u001b[0m\n\u001b[0m\u001b[1;32m   2264\u001b[0m         \u001b[0;32mtry\u001b[0m\u001b[0;34m:\u001b[0m\u001b[0;34m\u001b[0m\u001b[0m\n\u001b[1;32m   2265\u001b[0m             \u001b[0mamax\u001b[0m \u001b[0;34m=\u001b[0m \u001b[0ma\u001b[0m\u001b[0;34m.\u001b[0m\u001b[0mmax\u001b[0m\u001b[0;34m\u001b[0m\u001b[0m\n",
      "\u001b[0;31mKeyboardInterrupt\u001b[0m: "
     ]
    }
   ],
   "source": [
    "#======ELSE WE CAN DO THIS TO TRAIN==========================\n",
    "q_td = q_agent()\n",
    "# tsa = train(100000,q_sa,'Part1.1','Q')\n",
    "# np.save('qtable_sa', q_sa.q_table)\n",
    "# np.save('tablevis_sa', q_sa.table_vis)\n",
    "\n",
    "# _1_2_sa = train(60000,q_sa,'Part1.2','SARSA')\n",
    "ppopo = train(60000,q_td,'Part1.1','Q')"
   ]
  },
  {
   "cell_type": "code",
   "execution_count": 72,
   "metadata": {},
   "outputs": [
    {
     "data": {
      "image/png": "[encoded data removed]",
      "text/plain": [
       "<matplotlib.figure.Figure at 0x10f8e2208>"
      ]
     },
     "metadata": {},
     "output_type": "display_data"
    }
   ],
   "source": [
    "#========for 1.1====\n",
    "plt.plot(list(range(0,len(t)*1000,1000)),t)\n",
    "plt.ylabel('Mean Episode Rewards')\n",
    "plt.xlabel('Episodes')\n",
    "plt.title('SARSA: Mean Episode Rewards vs. Episodes')\n",
    "plt.show()"
   ]
  },
  {
   "cell_type": "code",
   "execution_count": 66,
   "metadata": {},
   "outputs": [
    {
     "data": {
      "image/png": "[encoded data removed]",
      "text/plain": [
       "<matplotlib.figure.Figure at 0x10fcd3c50>"
      ]
     },
     "metadata": {},
     "output_type": "display_data"
    }
   ],
   "source": [
    "#=========for 1.1======\n",
    "plt.plot(list(range(0,len(tq)*1000,1000)),tq)\n",
    "plt.ylabel('Mean Episode Rewards')\n",
    "plt.xlabel('Episodes')\n",
    "plt.title('TD: Mean Episode Rewards vs. Episodes')\n",
    "plt.show()"
   ]
  },
  {
   "cell_type": "code",
   "execution_count": 86,
   "metadata": {},
   "outputs": [
    {
     "data": {
      "image/png": "[encoded data removed]",
      "text/plain": [
       "<matplotlib.figure.Figure at 0x10f52b048>"
      ]
     },
     "metadata": {},
     "output_type": "display_data"
    }
   ],
   "source": [
    "#===========for 1.2===\n",
    "plt.plot(list(range(0,len(_1_2_sa)*1000,1000)),_1_2_sa)\n",
    "plt.ylabel('Mean Episode Rewards')\n",
    "plt.xlabel('Episodes')\n",
    "plt.title('1.2 SARSA: Mean Episode Rewards vs. Episodes')\n",
    "plt.show()"
   ]
  },
  {
   "cell_type": "code",
   "execution_count": 87,
   "metadata": {},
   "outputs": [
    {
     "data": {
      "image/png": "[encoded data removed]",
      "text/plain": [
       "<matplotlib.figure.Figure at 0x106086748>"
      ]
     },
     "metadata": {},
     "output_type": "display_data"
    }
   ],
   "source": [
    "#==========for 1.2====\n",
    "plt.plot(list(range(0,len(_1_2_td)*1000,1000)),_1_2_td)\n",
    "plt.ylabel('Mean Episode Rewards')\n",
    "plt.xlabel('Episodes')\n",
    "plt.title('1.2 TD: Mean Episode Rewards vs. Episodes')\n",
    "plt.show()"
   ]
  },
  {
   "cell_type": "code",
   "execution_count": 20,
   "metadata": {},
   "outputs": [
    {
     "name": "stdout",
     "output_type": "stream",
     "text": [
      "testing\n",
      "the avg bounce = 14.515\n"
     ]
    }
   ],
   "source": [
    "#======TEST WITHOUT VISUALIZATION============================\n",
    "test(200,q_td,'Part1.1')"
   ]
  },
  {
   "cell_type": "code",
   "execution_count": null,
   "metadata": {},
   "outputs": [
    {
     "name": "stdout",
     "output_type": "stream",
     "text": [
      "16\n",
      "6\n",
      "15\n",
      "4\n",
      "4\n",
      "7\n",
      "7\n",
      "10\n",
      "21\n",
      "5\n",
      "32\n",
      "20\n"
     ]
    }
   ],
   "source": [
    "#========PLAY THE GAME!=======================================\n",
    "play(q_td,200,'Part1.1')"
   ]
  },
  {
   "cell_type": "code",
   "execution_count": 2,
   "metadata": {},
   "outputs": [
    {
     "data": {
      "text/plain": [
       "0.8851"
      ]
     },
     "execution_count": 2,
     "metadata": {},
     "output_type": "execute_result"
    }
   ],
   "source": [
    "import numpy as np\n",
    "import pandas as pd\n",
    "from sklearn.neural_network import MLPClassifier\n",
    "\n",
    "names = ['Ball-X','Ball-Y','Velocity-X','Velocity-Y','Paddle-Y','Action']\n",
    "expert = pd.read_csv('../part2/expert_policy.txt', sep=\" \", names=names)\n",
    "x = expert.iloc[:,0:5]\n",
    "y = expert.iloc[:,5:6]\n",
    "mlp = MLPClassifier(hidden_layer_sizes=(256,256,256),max_iter=500,learning_rate_init=0.001,shuffle=True)\n",
    "mlp.fit(x, y.values.ravel())\n",
    "mlp.score(x,y)"
   ]
  },
  {
   "cell_type": "code",
   "execution_count": 14,
   "metadata": {},
   "outputs": [
    {
     "data": {
      "text/plain": [
       "0.0"
      ]
     },
     "execution_count": 14,
     "metadata": {},
     "output_type": "execute_result"
    }
   ],
   "source": [
    "# makes prediction\n",
    "# Parameters inside: ['Ball-X','Ball-Y','Velocity-X','Velocity-Y','Paddle-Y','Action']\n",
    "mlp.predict([[0.6,0.6,0.03,0.01,0.9]])[0]"
   ]
  },
  {
   "cell_type": "code",
   "execution_count": 17,
   "metadata": {
    "collapsed": true
   },
   "outputs": [],
   "source": [
    "def test2(epoch_num,mlp):\n",
    "    print('testing')\n",
    "    tot_bounce = 0\n",
    "    for i in range(epoch_num):\n",
    "        temp_bounce = 0\n",
    "        cur_state = state(0.5, 0.5, 0.03, 0.01, 0.5 - PADDLE_H / 2,0)\n",
    "            \n",
    "        while True:\n",
    "            action = mlp.predict([list(cur_state.state_tuple)])[0]\n",
    "            n_state = proceed_one_step(cur_state,ACTION_DIC[action])\n",
    "            if n_state.end_state == 1:\n",
    "                break\n",
    "            if n_state.reward == REWARD:\n",
    "                temp_bounce+=1\n",
    "            cur_state = n_state\n",
    "        tot_bounce+=temp_bounce\n",
    "    \n",
    "    print('the avg bounce =',tot_bounce/epoch_num)"
   ]
  },
  {
   "cell_type": "code",
   "execution_count": 9,
   "metadata": {},
   "outputs": [],
   "source": [
    "cur_state = state(0.5, 0.5, 0.03, 0.01, 0.5 - PADDLE_H / 2,0)"
   ]
  },
  {
   "cell_type": "code",
   "execution_count": 22,
   "metadata": {},
   "outputs": [
    {
     "name": "stdout",
     "output_type": "stream",
     "text": [
      "testing\n",
      "the avg bounce = 7.815\n"
     ]
    }
   ],
   "source": [
    "test2(200,mlp)"
   ]
  },
  {
   "cell_type": "code",
   "execution_count": null,
   "metadata": {
    "collapsed": true
   },
   "outputs": [],
   "source": []
  }
 ],
 "metadata": {
  "kernelspec": {
   "display_name": "Python 3",
   "language": "python",
   "name": "python3"
  },
  "language_info": {
   "codemirror_mode": {
    "name": "ipython",
    "version": 3
   },
   "file_extension": ".py",
   "mimetype": "text/x-python",
   "name": "python",
   "nbconvert_exporter": "python",
   "pygments_lexer": "ipython3",
   "version": "3.6.3"
  }
 },
 "nbformat": 4,
 "nbformat_minor": 2
}
