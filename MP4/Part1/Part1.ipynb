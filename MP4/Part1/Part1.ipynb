{
 "cells": [
  {
   "cell_type": "code",
   "execution_count": 1,
   "metadata": {
    "collapsed": true
   },
   "outputs": [],
   "source": [
    "import numpy as np\n",
    "import math\n",
    "import random\n",
    "import pygame as pg"
   ]
  },
  {
   "cell_type": "code",
   "execution_count": 41,
   "metadata": {
    "collapsed": true
   },
   "outputs": [],
   "source": [
    "#===========CHANGABLE PARAMETERS=================\n",
    "REWARD     = 1\n",
    "PENALTY    = -1\n",
    "DISCOUNT   = 1\n",
    "LEARN_RATE = 1\n",
    "\n",
    "\n",
    "#===========DEFINE CONSTANTS AND DICS=============\n",
    "WALL_LEN = 1\n",
    "PADDLE_H = 0.2\n",
    "\n",
    "init_state = (0.5, 0.5, 0.03, 0.01, 0.5 - PADDLE_H / 2)\n",
    "\n",
    "ACTION_DIC={0:-0.04, #'UP'\n",
    "            1:0,     #'STAY'\n",
    "            2:0.04}  #'DOWN'\n",
    "\n",
    "BOARD_SIZE = 12\n",
    "X_VBALL_DIS = [-1,1]\n",
    "Y_VBALL_DIS = [-1,0,1]\n",
    "\n",
    "PADDLE_SPACE = 12\n",
    "PADDLE_X     = 1\n",
    "\n",
    "STATE_SPACE = (BOARD_SIZE,BOARD_SIZE,len(X_VBALL_DIS),len(Y_VBALL_DIS),PADDLE_SPACE)\n",
    "\n",
    "X_V_TSH = 0.03\n",
    "Y_V_TSH = 0.015"
   ]
  },
  {
   "cell_type": "code",
   "execution_count": 44,
   "metadata": {},
   "outputs": [],
   "source": [
    "#==============DEFINE STATE CLASS===============\n",
    "class state:\n",
    "    \n",
    "    def __init__(self,ball_x,ball_y,velocity_x,velocity_y,paddle_y,reward,end_state = 0):\n",
    "        self.ball_x = ball_x              #real numbers on the interval [0,1]\n",
    "        self.ball_y = ball_y\n",
    "        self.velocity_x = velocity_x\n",
    "        self.velocity_y = velocity_y\n",
    "        self.paddle_y = paddle_y\n",
    "        self.reward = reward\n",
    "        self.state_tuple = (ball_x,ball_y,velocity_x,velocity_y,paddle_y)\n",
    "        self.end_state = end_state\n",
    "        self._extract()\n",
    "        \n",
    "    def _extract(self):\n",
    "        self.x_grid = math.floor(12*self.ball_x)\n",
    "        self.y_grid = math.floor(12*self.ball_y)\n",
    "        if(self.velocity_x>0): \n",
    "            self.x_v_sign = 1\n",
    "        else: \n",
    "            self.x_v_sign = -1\n",
    "            \n",
    "        if(self.velocity_y>0):\n",
    "            self.y_v_sign = 1\n",
    "        else: \n",
    "            self.y_v_sign = -1\n",
    "        \n",
    "        self.paddle_grid = math.floor(12 * self.paddle_y / (1 - PADDLE_H))\n",
    "        self.space_tuple = (self.x_grid,self.y_grid,self.x_v_sign,self.y_v_sign,self.paddle_grid)"
   ]
  },
  {
   "cell_type": "code",
   "execution_count": 11,
   "metadata": {
    "collapsed": true
   },
   "outputs": [],
   "source": [
    "#=======DEFINE MORE HELPER FUNCTIONS===========\n",
    "def bounce(state):\n",
    "    n_ball_v_x = state.velocity_x\n",
    "    n_ball_v_y = state.velocity_y\n",
    "    \n",
    "    n_ball_x = state.ball_x + n_ball_v_x\n",
    "    n_ball_y = state.ball_y + n_ball_v_y\n",
    "\n",
    "    n_paddle_y = state.paddle_y + ACTION_DIC[###########]\n",
    "    \n",
    "    c_reward = 0\n",
    "    \n",
    "    #==the ball is off the top of the screen==\n",
    "    if n_ball_y < 0:\n",
    "        n_ball_y = -n_ball_y\n",
    "        n_ball_v_y = -n_ball_v_y\n",
    "        \n",
    "    #==the ball is off the bottom of the screen==\n",
    "    if n_ball_y > 1:\n",
    "        n_ball_y = 2*WALL_LEN-n_ball_y\n",
    "        n_ball_v_y = -n_ball_v_y\n",
    "        \n",
    "    #==the ball is off the left edge of the screen==\n",
    "    if n_ball_x < 0:\n",
    "        n_ball_x = -n_ball_x\n",
    "        n_ball_v_x = -n_ball_v_x\n",
    "        \n",
    "    #== the ball bouncing off the paddle==\n",
    "    if n_ball_x > 1 and (n_paddle_y+PADDLE_H <= n_ball_y <= n_paddle_y):\n",
    "        n_ball_x = 2*PADDLE_X - n_ball_x\n",
    "        n_ball_v_x, n_ball_v_y = update_speed_rand(n_ball_v_x,n_ball_v_y)\n",
    "        c_reward = REWARD\n",
    "    if n_ball_x > 1 and not(n_paddle_y+PADDLE_H <= n_ball_y <= n_paddle_y):\n",
    "        c_reward = PENALTY\n",
    "    return n_ball_x,n_ball_y,n_ball_v_x,n_ball_v_y,c_reward\n",
    "\n",
    "def update_speed_rand(velocity_x,velocity_y):\n",
    "    vx_delta = random.choice(range(-15,16,1))/1000\n",
    "    vy_delta = random.choice(range(-3,4,1))  /100\n",
    "    sign_x = velocity_x/abs(velocity_x)\n",
    "    sign_y = velocity_y/abs(velocity_y)\n",
    "    n_ball_v_x = sign_x*max(X_V_TSH,abs(vx_delta+velocity_x))\n",
    "    n_ball_v_y = sign_y*max(Y_V_TSH,abs(vy_delta+velocity_y))\n",
    "    return n_ball_v_x, n_ball_v_y\n",
    "\n",
    "def check_termination(state):\n",
    "    pad_rang = range(state.paddle_y-PADDLE_H,state.paddle_y)\n",
    "    if state.ball_x>=WALL_LEN and state.ball_y not in pad_rang:\n",
    "        return True\n",
    "    else:\n",
    "        return False\n",
    "    \n",
    "def get_act(state):\n",
    "    pad_center = state.paddle_y + PADDLE_H/2\n",
    "        \n",
    "    if pad_center > (state.ball_y + state.velocity_y): return ACTION_DIC[0] #0 for UP\n",
    "    elif pad_center == (state.ball_y + state.velocity_y): return ACTION_DIC[1] #1 for STAY\n",
    "    else: return ACTION_DIC[2] #2 for DOWN\n",
    "    \n",
    "        \n",
    "def proceed_one_step(state):\n",
    "\n",
    "    n_ball_x,n_ball_y,n_ball_v_x,n_ball_v_y,c_reward = bounce(state)\n",
    "    \n",
    "    n_state = state(n_ball_x,n_ball_y,n_ball_v_x,n_ball_v_y,paddle_y,c_reward)\n",
    "        \n",
    "    return n_state"
   ]
  },
  {
   "cell_type": "code",
   "execution_count": 20,
   "metadata": {
    "collapsed": true
   },
   "outputs": [],
   "source": [
    "#=============DEFINE Q-AGENT CLASS==============\n",
    "class q_agent:\n",
    "    \n",
    "    def __init__(self):\n",
    "        self.q_table = np.zeros(STATE_SPACE+(len(ACTION_DIC),)) \n",
    "        self.end_state = 0\n",
    "        \n",
    "    def set_table(self,loc,val):\n",
    "        self.q_table[loc] = val\n",
    "    \n",
    "    def get_table(self,loc):\n",
    "        return q_table[loc]\n",
    "    \n",
    "    "
   ]
  },
  {
   "cell_type": "code",
   "execution_count": 43,
   "metadata": {
    "collapsed": true
   },
   "outputs": [],
   "source": [
    "#=============DEFINE TRAIN FUCNTION=============\n",
    "#init_state = (0.5, 0.5, 0.03, 0.01, 0.5 - PADDLE_H / 2)\n",
    "#self.space_tuple = (self.x_grid,self.y_grid,self.x_v_sign,self.y_v_sign,self.paddle_grid)\n",
    "\n",
    "\n",
    "\n",
    "def train():\n",
    "    cur_state = state(0.5, 0.5, 0.03, 0.01, 0.5 - PADDLE_H / 2,0)\n",
    "    q_ag = q_agent()\n",
    "    while True:\n",
    "        \n",
    "        action = get_act(state)\n",
    "        \n",
    "        n_state = proceed_one_step(cur_state,action)\n",
    "        old_val = q_ag.get_table(n_state.space_tuple+(action,))\n",
    "        \n",
    "        n_tuple = (n_state.x_grid,n_state.y_grid,n_state.x_v_sign,n_state.y_v_sign,n_state.paddle_grid)\n",
    "        new_val = (1-LEARN_RATE)*old_val + LEARN_RATE*(n_state.reward + DISCOUNT*)\n",
    "        q_ag.set_table(n_state.space_tuple+(action,),new_val)\n",
    "    pass"
   ]
  },
  {
   "cell_type": "code",
   "execution_count": null,
   "metadata": {
    "collapsed": true
   },
   "outputs": [],
   "source": []
  },
  {
   "cell_type": "code",
   "execution_count": 32,
   "metadata": {},
   "outputs": [],
   "source": [
    "class A:\n",
    "    def __init__(self,val):\n",
    "        self.val = val\n",
    "        \n",
    "    def set_val(self,val):\n",
    "        self.val = val\n",
    "        \n",
    "    def get_Val(self):\n",
    "        return self.val"
   ]
  },
  {
   "cell_type": "code",
   "execution_count": 33,
   "metadata": {},
   "outputs": [],
   "source": [
    "def test(clas):\n",
    "    clas.set_val(clas.get_Val()+100)\n",
    "    \n",
    "def test1(clas):\n",
    "    clas.set_val(11)\n",
    "    test(clas)"
   ]
  },
  {
   "cell_type": "code",
   "execution_count": 34,
   "metadata": {},
   "outputs": [],
   "source": [
    "th = A(999)"
   ]
  },
  {
   "cell_type": "code",
   "execution_count": 37,
   "metadata": {},
   "outputs": [
    {
     "data": {
      "text/plain": [
       "111"
      ]
     },
     "execution_count": 37,
     "metadata": {},
     "output_type": "execute_result"
    }
   ],
   "source": [
    "th.get_Val()"
   ]
  },
  {
   "cell_type": "code",
   "execution_count": 73,
   "metadata": {},
   "outputs": [],
   "source": [
    "n = 1\n",
    "if(not(n+1)):\n",
    "    print('kk')"
   ]
  },
  {
   "cell_type": "code",
   "execution_count": 52,
   "metadata": {},
   "outputs": [
    {
     "data": {
      "text/plain": [
       "(12, 12, 2, 3, 12, 3)"
      ]
     },
     "execution_count": 52,
     "metadata": {},
     "output_type": "execute_result"
    }
   ],
   "source": [
    "np.shape(np.zeros(STATE_SPACE+(3,)))"
   ]
  },
  {
   "cell_type": "code",
   "execution_count": 65,
   "metadata": {},
   "outputs": [
    {
     "ename": "IndexError",
     "evalue": "index 10 is out of bounds for axis 5 with size 3",
     "output_type": "error",
     "traceback": [
      "\u001b[0;31m---------------------------------------------------------------------------\u001b[0m",
      "\u001b[0;31mIndexError\u001b[0m                                Traceback (most recent call last)",
      "\u001b[0;32m<ipython-input-65-10f65197e655>\u001b[0m in \u001b[0;36m<module>\u001b[0;34m()\u001b[0m\n\u001b[1;32m      3\u001b[0m \u001b[0mt\u001b[0m \u001b[0;34m=\u001b[0m \u001b[0;34m(\u001b[0m\u001b[0;36m1\u001b[0m\u001b[0;34m,\u001b[0m\u001b[0;36m1\u001b[0m\u001b[0;34m,\u001b[0m\u001b[0;36m1\u001b[0m\u001b[0;34m,\u001b[0m\u001b[0;36m1\u001b[0m\u001b[0;34m,\u001b[0m\u001b[0;36m1\u001b[0m\u001b[0;34m)\u001b[0m\u001b[0;34m\u001b[0m\u001b[0m\n\u001b[1;32m      4\u001b[0m \u001b[0mact\u001b[0m \u001b[0;34m=\u001b[0m \u001b[0;36m10\u001b[0m\u001b[0;34m\u001b[0m\u001b[0m\n\u001b[0;32m----> 5\u001b[0;31m \u001b[0ml\u001b[0m\u001b[0;34m[\u001b[0m\u001b[0mt\u001b[0m\u001b[0;34m+\u001b[0m\u001b[0;34m(\u001b[0m\u001b[0mact\u001b[0m\u001b[0;34m,\u001b[0m\u001b[0;34m)\u001b[0m\u001b[0;34m]\u001b[0m \u001b[0;34m=\u001b[0m \u001b[0;36m1000\u001b[0m\u001b[0;34m\u001b[0m\u001b[0m\n\u001b[0m\u001b[1;32m      6\u001b[0m \u001b[0mprint\u001b[0m\u001b[0;34m(\u001b[0m\u001b[0ml\u001b[0m\u001b[0;34m[\u001b[0m\u001b[0;36m1\u001b[0m\u001b[0;34m]\u001b[0m\u001b[0;34m[\u001b[0m\u001b[0;36m1\u001b[0m\u001b[0;34m]\u001b[0m\u001b[0;34m[\u001b[0m\u001b[0;36m1\u001b[0m\u001b[0;34m]\u001b[0m\u001b[0;34m[\u001b[0m\u001b[0;36m1\u001b[0m\u001b[0;34m]\u001b[0m\u001b[0;34m[\u001b[0m\u001b[0;36m1\u001b[0m\u001b[0;34m]\u001b[0m\u001b[0;34m[\u001b[0m\u001b[0;36m1\u001b[0m\u001b[0;34m]\u001b[0m\u001b[0;34m)\u001b[0m\u001b[0;34m\u001b[0m\u001b[0m\n",
      "\u001b[0;31mIndexError\u001b[0m: index 10 is out of bounds for axis 5 with size 3"
     ]
    }
   ],
   "source": [
    "l = np.zeros(STATE_SPACE+(3,))\n",
    "l[1][1][1][1][1][1] = 1\n",
    "t = (1,1,1,1,1)\n",
    "act = 10\n",
    "l[t+(act,)] = 1000\n",
    "print(l[1][1][1][1][1][1])"
   ]
  },
  {
   "cell_type": "code",
   "execution_count": 66,
   "metadata": {},
   "outputs": [
    {
     "data": {
      "text/plain": [
       "(1, 1, 1, 1, 1, 10)"
      ]
     },
     "execution_count": 66,
     "metadata": {},
     "output_type": "execute_result"
    }
   ],
   "source": [
    "t+(act,)"
   ]
  },
  {
   "cell_type": "code",
   "execution_count": null,
   "metadata": {
    "collapsed": true
   },
   "outputs": [],
   "source": []
  }
 ],
 "metadata": {
  "kernelspec": {
   "display_name": "Python 3",
   "language": "python",
   "name": "python3"
  },
  "language_info": {
   "codemirror_mode": {
    "name": "ipython",
    "version": 3
   },
   "file_extension": ".py",
   "mimetype": "text/x-python",
   "name": "python",
   "nbconvert_exporter": "python",
   "pygments_lexer": "ipython3",
   "version": "3.6.3"
  }
 },
 "nbformat": 4,
 "nbformat_minor": 2
}
