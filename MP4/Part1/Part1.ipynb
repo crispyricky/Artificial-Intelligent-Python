{
 "cells": [
  {
   "cell_type": "code",
   "execution_count": 1,
   "metadata": {
    "collapsed": true
   },
   "outputs": [],
   "source": [
    "import numpy as np\n",
    "import math\n",
    "import random\n",
    "import pygame as pg"
   ]
  },
  {
   "cell_type": "code",
   "execution_count": 2,
   "metadata": {
    "collapsed": true
   },
   "outputs": [],
   "source": [
    "#===========CHANGABLE PARAMETERS=================\n",
    "REWARD     = 1\n",
    "PENALTY    = -1\n",
    "DISCOUNT   = 1\n",
    "LEARN_RATE = 1\n",
    "\n",
    "\n",
    "#===========DEFINE CONSTANTS AND DICS=============\n",
    "WALL_LEN = 1\n",
    "PADDLE_H = 0.2\n",
    "\n",
    "init_state = (0.5, 0.5, 0.03, 0.01, 0.5 - PADDLE_H / 2)\n",
    "\n",
    "ACTION_DIC={0:-0.04, #'UP'\n",
    "            1:0,     #'STAY'\n",
    "            2:0.04}  #'DOWN'\n",
    "\n",
    "BOARD_SIZE = 12\n",
    "X_VBALL_DIS = [-1,1]\n",
    "Y_VBALL_DIS = [-1,0,1]\n",
    "\n",
    "PADDLE_SPACE = 12\n",
    "PADDLE_X     = 1\n",
    "\n",
    "STATE_SPACE = (BOARD_SIZE,BOARD_SIZE,len(X_VBALL_DIS),len(Y_VBALL_DIS),PADDLE_SPACE)\n",
    "\n",
    "X_V_TSH = 0.03\n",
    "Y_V_TSH = 0.015"
   ]
  },
  {
   "cell_type": "code",
   "execution_count": 110,
   "metadata": {},
   "outputs": [],
   "source": [
    "#==============DEFINE STATE CLASS===============\n",
    "class state:\n",
    "    \n",
    "    def __init__(self,ball_x,ball_y,velocity_x,velocity_y,paddle_y,reward,end_state = 0):\n",
    "        self.ball_x = ball_x              #real numbers on the interval [0,1]\n",
    "        self.ball_y = ball_y\n",
    "        self.velocity_x = velocity_x\n",
    "        self.velocity_y = velocity_y\n",
    "        self.paddle_y = paddle_y\n",
    "        self.reward = reward\n",
    "        self.state_tuple = (ball_x,ball_y,velocity_x,velocity_y,paddle_y)\n",
    "        self.end_state = end_state\n",
    "        self._extract()\n",
    "        \n",
    "    def _extract(self):\n",
    "        self.x_grid = math.floor(12*self.ball_x)\n",
    "        self.y_grid = math.floor(12*self.ball_y)\n",
    "        if(self.velocity_x>0): \n",
    "            self.x_v_sign = 1\n",
    "        else: \n",
    "            self.x_v_sign = -1\n",
    "            \n",
    "        if(self.velocity_y>0):\n",
    "            self.y_v_sign = 1\n",
    "        else: \n",
    "            self.y_v_sign = -1\n",
    "        \n",
    "        self.paddle_grid = math.floor(12 * self.paddle_y / (1 - PADDLE_H))\n",
    "        self.space_tuple = (self.x_grid,self.y_grid,self.x_v_sign,self.y_v_sign,self.paddle_grid)"
   ]
  },
  {
   "cell_type": "code",
   "execution_count": 128,
   "metadata": {},
   "outputs": [],
   "source": [
    "#=======DEFINE MORE HELPER FUNCTIONS===========\n",
    "def bounce(state,action):\n",
    "    n_ball_v_x = state.velocity_x\n",
    "    n_ball_v_y = state.velocity_y\n",
    "    \n",
    "    n_ball_x = state.ball_x + n_ball_v_x\n",
    "    n_ball_y = state.ball_y + n_ball_v_y\n",
    "\n",
    "    #======paddle should in range(0,0.8)\n",
    "    n_paddle_y = min(WALL_LEN-PADDLE_H,max(0,state.paddle_y + action))\n",
    "    \n",
    "    c_reward = 0\n",
    "    \n",
    "    #==the ball is off the top of the screen==\n",
    "    if n_ball_y < 0:\n",
    "        n_ball_y = -n_ball_y\n",
    "        n_ball_v_y = -n_ball_v_y\n",
    "        \n",
    "    #==the ball is off the bottom of the screen==\n",
    "    if n_ball_y > 1:\n",
    "        n_ball_y = 2*WALL_LEN-n_ball_y\n",
    "        n_ball_v_y = -n_ball_v_y\n",
    "        \n",
    "    #==the ball is off the left edge of the screen==\n",
    "    if n_ball_x < 0:\n",
    "        n_ball_x = -n_ball_x\n",
    "        n_ball_v_x = -n_ball_v_x\n",
    "        \n",
    "    #== the ball bouncing off the paddle==\n",
    "    if n_ball_x > 1 and (n_paddle_y+PADDLE_H <= n_ball_y <= n_paddle_y):\n",
    "        n_ball_x = 2*PADDLE_X - n_ball_x\n",
    "        n_ball_v_x, n_ball_v_y = update_speed_rand(n_ball_v_x,n_ball_v_y)\n",
    "        c_reward = REWARD\n",
    "    if n_ball_x > 1 and not(n_paddle_y+PADDLE_H <= n_ball_y <= n_paddle_y):\n",
    "        c_reward = PENALTY\n",
    "    return n_ball_x,n_ball_y,n_ball_v_x,n_ball_v_y,n_paddle_y,c_reward\n",
    "\n",
    "def update_speed_rand(velocity_x,velocity_y):\n",
    "    vx_delta = random.choice(range(-15,16,1))/1000\n",
    "    vy_delta = random.choice(range(-3,4,1))  /100\n",
    "    sign_x = velocity_x/abs(velocity_x)\n",
    "    sign_y = velocity_y/abs(velocity_y)\n",
    "    n_ball_v_x = sign_x*max(X_V_TSH,abs(vx_delta+velocity_x))\n",
    "    n_ball_v_y = sign_y*max(Y_V_TSH,abs(vy_delta+velocity_y))\n",
    "    return n_ball_v_x, n_ball_v_y\n",
    "\n",
    "def check_termination(state):\n",
    "    pad_rang = range(state.paddle_y-PADDLE_H,state.paddle_y)\n",
    "    if state.ball_x>=WALL_LEN and state.ball_y not in pad_rang:\n",
    "        return True\n",
    "    else:\n",
    "        return False\n",
    "    \n",
    "def get_act(state):\n",
    "    pad_center = state.paddle_y + PADDLE_H/2\n",
    "        \n",
    "    if pad_center > (state.ball_y + state.velocity_y): return 0 #0 for UP\n",
    "    elif pad_center == (state.ball_y + state.velocity_y): return 1 #1 for STAY\n",
    "    else: return 2 #2 for DOWN\n",
    "    \n",
    "        \n",
    "def proceed_one_step(state,action):\n",
    "\n",
    "    n_ball_x,n_ball_y,n_ball_v_x,n_ball_v_y,n_paddle_y,c_reward = bounce(state,action)\n",
    "    end = 0\n",
    "    if c_reward == -1:\n",
    "        end = 1\n",
    "    print(n_ball_x,n_ball_y,n_ball_v_x,n_ball_v_y,n_paddle_y,c_reward,end)\n",
    "    n_state = state(n_ball_x,n_ball_y,n_ball_v_x,n_ball_v_y,n_paddle_y,c_reward,end_state=end)\n",
    "    return n_state"
   ]
  },
  {
   "cell_type": "code",
   "execution_count": 129,
   "metadata": {
    "collapsed": true
   },
   "outputs": [],
   "source": [
    "#=============DEFINE Q-AGENT CLASS==============\n",
    "class q_agent:\n",
    "    \n",
    "    def __init__(self):\n",
    "        self.q_table = np.zeros(STATE_SPACE+(len(ACTION_DIC),)) \n",
    "        self.end_state = 0\n",
    "        \n",
    "    def set_table(self,loc,val):\n",
    "        self.q_table[loc] = val\n",
    "    \n",
    "    def get_table(self,loc):\n",
    "        return q_table[loc]\n",
    "    \n",
    "    "
   ]
  },
  {
   "cell_type": "code",
   "execution_count": 130,
   "metadata": {
    "collapsed": true
   },
   "outputs": [],
   "source": [
    "#=============DEFINE TRAIN FUCNTION=============\n",
    "#init_state = (0.5, 0.5, 0.03, 0.01, 0.5 - PADDLE_H / 2)\n",
    "#self.space_tuple = (self.x_grid,self.y_grid,self.x_v_sign,self.y_v_sign,self.paddle_grid)\n",
    "\n",
    "\n",
    "\n",
    "def train(epoch_num):\n",
    "    cur_state = state(0.5, 0.5, 0.03, 0.01, 0.5 - PADDLE_H / 2,0)\n",
    "    q_ag = q_agent()\n",
    "    tot_bounce = 0\n",
    "    for i in range(1,epoch_num+1):\n",
    "        temp_bounce = 0\n",
    "        while True:\n",
    "            \n",
    "            action = get_act(cur_state)\n",
    "            n_state = proceed_one_step(cur_state,ACTION_DIC[action])\n",
    "            old_val = q_ag.get_table(n_state.space_tuple+(action,))\n",
    "\n",
    "\n",
    "            prd_max = np.max(q_ag.get_table(n_state.space_tuple))\n",
    "            prd_tuple = (n_state.x_grid,n_state.y_grid,n_state.x_v_sign,n_state.y_v_sign,n_state.paddle_grid,prd_max)\n",
    "\n",
    "            new_val = (1-LEARN_RATE)*old_val + LEARN_RATE*(n_state.reward + DISCOUNT*prd_max)\n",
    "            q_ag.set_table(n_state.space_tuple+(action,),new_val)\n",
    "\n",
    "            if n_state.end_state == 1:\n",
    "                break\n",
    "            if n_state.reward == REWARD:\n",
    "                temp_bounce+=1\n",
    "            cur_state = n_state\n",
    "        tot_bounce+=temp_bounce\n",
    "        if i%1000 == 0:\n",
    "            print('now average bounce is', tot_bounce/i)\n",
    "    "
   ]
  },
  {
   "cell_type": "code",
   "execution_count": 131,
   "metadata": {},
   "outputs": [
    {
     "name": "stdout",
     "output_type": "stream",
     "text": [
      "0.53 0.51 0.03 0.01 0.44 0 0\n"
     ]
    },
    {
     "ename": "TypeError",
     "evalue": "'state' object is not callable",
     "output_type": "error",
     "traceback": [
      "\u001b[0;31m---------------------------------------------------------------------------\u001b[0m",
      "\u001b[0;31mTypeError\u001b[0m                                 Traceback (most recent call last)",
      "\u001b[0;32m<ipython-input-131-7abb5f6689ab>\u001b[0m in \u001b[0;36m<module>\u001b[0;34m()\u001b[0m\n\u001b[0;32m----> 1\u001b[0;31m \u001b[0mtrain\u001b[0m\u001b[0;34m(\u001b[0m\u001b[0;36m10000\u001b[0m\u001b[0;34m)\u001b[0m\u001b[0;34m\u001b[0m\u001b[0m\n\u001b[0m",
      "\u001b[0;32m<ipython-input-130-c1f2a42101c2>\u001b[0m in \u001b[0;36mtrain\u001b[0;34m(epoch_num)\u001b[0m\n\u001b[1;32m     14\u001b[0m \u001b[0;34m\u001b[0m\u001b[0m\n\u001b[1;32m     15\u001b[0m             \u001b[0maction\u001b[0m \u001b[0;34m=\u001b[0m \u001b[0mget_act\u001b[0m\u001b[0;34m(\u001b[0m\u001b[0mcur_state\u001b[0m\u001b[0;34m)\u001b[0m\u001b[0;34m\u001b[0m\u001b[0m\n\u001b[0;32m---> 16\u001b[0;31m             \u001b[0mn_state\u001b[0m \u001b[0;34m=\u001b[0m \u001b[0mproceed_one_step\u001b[0m\u001b[0;34m(\u001b[0m\u001b[0mcur_state\u001b[0m\u001b[0;34m,\u001b[0m\u001b[0mACTION_DIC\u001b[0m\u001b[0;34m[\u001b[0m\u001b[0maction\u001b[0m\u001b[0;34m]\u001b[0m\u001b[0;34m)\u001b[0m\u001b[0;34m\u001b[0m\u001b[0m\n\u001b[0m\u001b[1;32m     17\u001b[0m             \u001b[0mold_val\u001b[0m \u001b[0;34m=\u001b[0m \u001b[0mq_ag\u001b[0m\u001b[0;34m.\u001b[0m\u001b[0mget_table\u001b[0m\u001b[0;34m(\u001b[0m\u001b[0mn_state\u001b[0m\u001b[0;34m.\u001b[0m\u001b[0mspace_tuple\u001b[0m\u001b[0;34m+\u001b[0m\u001b[0;34m(\u001b[0m\u001b[0maction\u001b[0m\u001b[0;34m,\u001b[0m\u001b[0;34m)\u001b[0m\u001b[0;34m)\u001b[0m\u001b[0;34m\u001b[0m\u001b[0m\n\u001b[1;32m     18\u001b[0m \u001b[0;34m\u001b[0m\u001b[0m\n",
      "\u001b[0;32m<ipython-input-128-6f53791f3aa2>\u001b[0m in \u001b[0;36mproceed_one_step\u001b[0;34m(state, action)\u001b[0m\n\u001b[1;32m     67\u001b[0m         \u001b[0mend\u001b[0m \u001b[0;34m=\u001b[0m \u001b[0;36m1\u001b[0m\u001b[0;34m\u001b[0m\u001b[0m\n\u001b[1;32m     68\u001b[0m     \u001b[0mprint\u001b[0m\u001b[0;34m(\u001b[0m\u001b[0mn_ball_x\u001b[0m\u001b[0;34m,\u001b[0m\u001b[0mn_ball_y\u001b[0m\u001b[0;34m,\u001b[0m\u001b[0mn_ball_v_x\u001b[0m\u001b[0;34m,\u001b[0m\u001b[0mn_ball_v_y\u001b[0m\u001b[0;34m,\u001b[0m\u001b[0mn_paddle_y\u001b[0m\u001b[0;34m,\u001b[0m\u001b[0mc_reward\u001b[0m\u001b[0;34m,\u001b[0m\u001b[0mend\u001b[0m\u001b[0;34m)\u001b[0m\u001b[0;34m\u001b[0m\u001b[0m\n\u001b[0;32m---> 69\u001b[0;31m     \u001b[0mn_state\u001b[0m \u001b[0;34m=\u001b[0m \u001b[0mstate\u001b[0m\u001b[0;34m(\u001b[0m\u001b[0mn_ball_x\u001b[0m\u001b[0;34m,\u001b[0m\u001b[0mn_ball_y\u001b[0m\u001b[0;34m,\u001b[0m\u001b[0mn_ball_v_x\u001b[0m\u001b[0;34m,\u001b[0m\u001b[0mn_ball_v_y\u001b[0m\u001b[0;34m,\u001b[0m\u001b[0mn_paddle_y\u001b[0m\u001b[0;34m,\u001b[0m\u001b[0mc_reward\u001b[0m\u001b[0;34m,\u001b[0m\u001b[0mend_state\u001b[0m\u001b[0;34m=\u001b[0m\u001b[0mend\u001b[0m\u001b[0;34m)\u001b[0m\u001b[0;34m\u001b[0m\u001b[0m\n\u001b[0m\u001b[1;32m     70\u001b[0m     \u001b[0;32mreturn\u001b[0m \u001b[0mn_state\u001b[0m\u001b[0;34m\u001b[0m\u001b[0m\n",
      "\u001b[0;31mTypeError\u001b[0m: 'state' object is not callable"
     ]
    }
   ],
   "source": [
    "train(10000)"
   ]
  },
  {
   "cell_type": "code",
   "execution_count": null,
   "metadata": {},
   "outputs": [],
   "source": [
    "class A:\n",
    "    def __init__(self,val):\n",
    "        self.val = val\n",
    "        \n",
    "    def set_val(self,val):\n",
    "        self.val = val\n",
    "        \n",
    "    def get_Val(self):\n",
    "        return self.val"
   ]
  },
  {
   "cell_type": "code",
   "execution_count": null,
   "metadata": {},
   "outputs": [],
   "source": [
    "def test(clas):\n",
    "    clas.set_val(clas.get_Val()+100)\n",
    "    \n",
    "def test1(clas):\n",
    "    clas.set_val(11)\n",
    "    test(clas)"
   ]
  },
  {
   "cell_type": "code",
   "execution_count": null,
   "metadata": {},
   "outputs": [],
   "source": [
    "th = A(999)"
   ]
  },
  {
   "cell_type": "code",
   "execution_count": null,
   "metadata": {},
   "outputs": [],
   "source": [
    "th.get_Val()"
   ]
  },
  {
   "cell_type": "code",
   "execution_count": null,
   "metadata": {},
   "outputs": [],
   "source": [
    "n = 1\n",
    "if(not(n+1)):\n",
    "    print('kk')"
   ]
  },
  {
   "cell_type": "code",
   "execution_count": null,
   "metadata": {},
   "outputs": [],
   "source": [
    "np.shape(np.zeros(STATE_SPACE+(3,)))"
   ]
  },
  {
   "cell_type": "code",
   "execution_count": null,
   "metadata": {},
   "outputs": [],
   "source": [
    "l = np.zeros(STATE_SPACE+(3,))\n",
    "l[1][1][1][1][1][1] = 1\n",
    "t = (1,1,1,1,1)\n",
    "act = 10\n",
    "l[t+(act,)] = 1000\n",
    "print(l[1][1][1][1][1][1])"
   ]
  },
  {
   "cell_type": "code",
   "execution_count": null,
   "metadata": {},
   "outputs": [],
   "source": [
    "test = np.array([[1,2,3],[4,5,6]])"
   ]
  },
  {
   "cell_type": "code",
   "execution_count": 12,
   "metadata": {},
   "outputs": [
    {
     "data": {
      "text/plain": [
       "<__main__.state at 0x1121f1d30>"
      ]
     },
     "execution_count": 12,
     "metadata": {},
     "output_type": "execute_result"
    }
   ],
   "source": [
    "state(0.5, 0.5, 0.03, 0.01, 0.5 - PADDLE_H / 2,0)"
   ]
  },
  {
   "cell_type": "code",
   "execution_count": 60,
   "metadata": {},
   "outputs": [],
   "source": [
    "n_ball_x = 0.53\n",
    "n_ball_y=0.51\n",
    "n_ball_v_x=0.03\n",
    "n_ball_v_y=0.01\n",
    "n_paddle_y=0.44\n",
    "c_reward=0\n",
    "end=0\n",
    "a = state(n_ball_x,n_ball_y,n_ball_v_x,n_ball_v_y,n_paddle_y,c_reward,end_state=end)"
   ]
  },
  {
   "cell_type": "code",
   "execution_count": 113,
   "metadata": {},
   "outputs": [
    {
     "data": {
      "text/plain": [
       "(6, 6, 1, 1, 6)"
      ]
     },
     "execution_count": 113,
     "metadata": {},
     "output_type": "execute_result"
    }
   ],
   "source": [
    "a.space_tuple"
   ]
  },
  {
   "cell_type": "code",
   "execution_count": null,
   "metadata": {
    "collapsed": true
   },
   "outputs": [],
   "source": []
  }
 ],
 "metadata": {
  "kernelspec": {
   "display_name": "Python 3",
   "language": "python",
   "name": "python3"
  },
  "language_info": {
   "codemirror_mode": {
    "name": "ipython",
    "version": 3
   },
   "file_extension": ".py",
   "mimetype": "text/x-python",
   "name": "python",
   "nbconvert_exporter": "python",
   "pygments_lexer": "ipython3",
   "version": "3.6.3"
  }
 },
 "nbformat": 4,
 "nbformat_minor": 2
}
