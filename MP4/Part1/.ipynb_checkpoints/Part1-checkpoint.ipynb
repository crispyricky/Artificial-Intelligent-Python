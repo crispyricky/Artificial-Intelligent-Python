{
 "cells": [
  {
   "cell_type": "code",
   "execution_count": 8,
   "metadata": {},
   "outputs": [],
   "source": [
    "import numpy as np"
   ]
  },
  {
   "cell_type": "markdown",
   "metadata": {},
   "source": [
    "State: A tuple (ball_x, ball_y, velocity_x, velocity_y, paddle_y).\n",
    "\n",
    "ball_x and ball_y are real numbers on the interval [0,1]. The lines x=0, y=0, and y=1 are walls; the ball bounces off a wall whenever it hits. The line x=1 is defended by your paddle.\n",
    "\n",
    "The absolute value of velocity_x is at least 0.03, which guarantees that the ball is moving either left or right at a reasonable speed.\n",
    "\n",
    "paddle_y represents the top of the paddle (the side closer to y=0) and is on the interval [0, 1 - paddle_height], where paddle_height = 0.2, as can be seen in the image above. (The x-coordinate of the paddle is always paddle_x=1, so you do not need to include this variable as part of the state definition).\n"
   ]
  },
  {
   "cell_type": "code",
   "execution_count": 3,
   "metadata": {
    "collapsed": true
   },
   "outputs": [],
   "source": [
    "class state:\n",
    "    \n",
    "    def __init__(self,ball_x,ball_y,velocity_x,velocity_y,paddle_y):\n",
    "        self.ball_x = ball_x              #real numbers on the interval [0,1]\n",
    "        self.ball_y = ball_y\n",
    "        self.velocity_x = velocity_x\n",
    "        self.velocity_y = velocity_y\n",
    "        self.paddle_y = paddle_y\n",
    "        \n",
    "        #======pre defined parameters=======#\n",
    "        self.paddle_height = 0.2\n",
    "        paddle_x = 1\n"
   ]
  },
  {
   "cell_type": "markdown",
   "metadata": {},
   "source": [
    "**Actions**: Your agent's actions are chosen from the set {nothing, paddle_y += 0.04, paddle_y -= 0.04}. \n",
    "In other words, your agent can either move the paddle up, down, or make it stay in the same place. \n",
    "If the agent tries to move the paddle too high, so that the top goes off the screen, simply assign paddle_y = 0.\n",
    "Likewise, if the agent tries to move any part of the paddle off the bottom of the screen, assign paddle_y = 1 - paddle_height.\n",
    "\n",
    "**Rewards**: +1 when your action results in rebounding the ball with your paddle, -1 when the ball has passed your agent's paddle, or 0 otherwise.\n",
    "\n",
    "**Initial State**: Use (0.5, 0.5, 0.03, 0.01, 0.5 - paddle_height / 2) as your initial state (see the state representation above). This represents the ball starting in the center and moving towards your agent in a downward trajectory, where the agent's paddle starts in the middle of the screen.\n",
    "\n",
    "**Termination**: Consider a state terminal if the ball's x-coordinate is greater than that of your paddle, i.e., the ball has passed your paddle and is moving away from you."
   ]
  },
  {
   "cell_type": "code",
   "execution_count": null,
   "metadata": {
    "collapsed": true
   },
   "outputs": [],
   "source": []
  }
 ],
 "metadata": {
  "kernelspec": {
   "display_name": "Python 3",
   "language": "python",
   "name": "python3"
  },
  "language_info": {
   "codemirror_mode": {
    "name": "ipython",
    "version": 3
   },
   "file_extension": ".py",
   "mimetype": "text/x-python",
   "name": "python",
   "nbconvert_exporter": "python",
   "pygments_lexer": "ipython3",
   "version": "3.6.3"
  }
 },
 "nbformat": 4,
 "nbformat_minor": 2
}
